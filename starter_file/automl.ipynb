{
 "cells": [
  {
   "cell_type": "markdown",
   "metadata": {},
   "source": [
    "# Automated ML\n",
    "\n",
    "TODO: Import Dependencies. In the cell below, import all the dependencies that you will need to complete the project."
   ]
  },
  {
   "cell_type": "code",
   "execution_count": 43,
   "metadata": {
    "gather": {
     "logged": 1598423888013
    },
    "jupyter": {
     "outputs_hidden": false,
     "source_hidden": false
    },
    "nteract": {
     "transient": {
      "deleting": false
     }
    }
   },
   "outputs": [
    {
     "name": "stdout",
     "output_type": "stream",
     "text": [
      "SDK version: 1.20.0\n"
     ]
    }
   ],
   "source": [
    "import os\n",
    "import csv\n",
    "\n",
    "from matplotlib import pyplot as plt\n",
    "import numpy as np\n",
    "import pandas as pd\n",
    "import pkg_resources\n",
    "\n",
    "import azureml.core\n",
    "from azureml.core.experiment import Experiment\n",
    "from azureml.core.workspace import Workspace\n",
    "from azureml.train.automl import AutoMLConfig\n",
    "from azureml.core.dataset import Dataset\n",
    "from azureml.core.datastore import Datastore\n",
    "\n",
    "from azureml.pipeline.steps import AutoMLStep\n",
    "\n",
    "from azureml.core.compute import AmlCompute\n",
    "from azureml.core.compute import ComputeTarget\n",
    "from azureml.core.compute_target import ComputeTargetException\n",
    "\n",
    "from azureml.core import Model\n",
    "\n",
    "import json\n",
    "\n",
    "# Check core SDK version number\n",
    "print(\"SDK version:\", azureml.core.VERSION)"
   ]
  },
  {
   "cell_type": "markdown",
   "metadata": {},
   "source": [
    "## Initializing the workspace"
   ]
  },
  {
   "cell_type": "code",
   "execution_count": 20,
   "metadata": {
    "gather": {
     "logged": 1598423890461
    },
    "jupyter": {
     "outputs_hidden": false,
     "source_hidden": false
    },
    "nteract": {
     "transient": {
      "deleting": false
     }
    }
   },
   "outputs": [],
   "source": [
    "ws = Workspace.from_config()\n",
    "\n",
    "# choose a name for experiment\n",
    "experiment_name = 'fraud-detection'\n",
    "\n",
    "experiment=Experiment(ws, experiment_name)"
   ]
  },
  {
   "cell_type": "markdown",
   "metadata": {},
   "source": [
    "## Creating the compute"
   ]
  },
  {
   "cell_type": "code",
   "execution_count": 5,
   "metadata": {},
   "outputs": [
    {
     "name": "stdout",
     "output_type": "stream",
     "text": [
      "Creating\n",
      "Succeeded.................................................................................................................\n",
      "AmlCompute wait for completion finished\n",
      "\n",
      "Wait timeout has been reached\n",
      "Current provisioning state of AmlCompute is \"Succeeded\" and current node count is \"0\"\n"
     ]
    }
   ],
   "source": [
    "try:\n",
    "    compute_target = ComputeTarget(workspace=ws, name='cluster')\n",
    "    print('Found existing cluster, use it.')\n",
    "except ComputeTargetException:\n",
    "    compute_config = AmlCompute.provisioning_configuration(vm_size='STANDARD_DS12_V2', max_nodes=4)\n",
    "    compute_target = ComputeTarget.create(ws, 'cluster', compute_config)\n",
    "\n",
    "compute_target.wait_for_completion(show_output=True, min_node_count = 1, timeout_in_minutes = 10)"
   ]
  },
  {
   "cell_type": "markdown",
   "metadata": {},
   "source": [
    "## Dataset\n",
    "\n",
    "### Overview\n",
    "TODO: In this markdown cell, give an overview of the dataset you are using. Also mention the task you will be performing.\n",
    "\n",
    "\n",
    "TODO: Get data. In the cell below, write code to access the data you will be using in this project. Remember that the dataset needs to be external."
   ]
  },
  {
   "cell_type": "code",
   "execution_count": 8,
   "metadata": {},
   "outputs": [
    {
     "name": "stdout",
     "output_type": "stream",
     "text": [
      "Warning: Your Kaggle API key is readable by other users on this system! To fix this, you can run 'chmod 600 /home/azureuser/.kaggle/kaggle.json'\n",
      "Downloading creditcardfraud.zip to /mnt/batch/tasks/shared/LS_root/mounts/clusters/compute-capstone/code/Users/odl_user_136702\n",
      " 86%|████████████████████████████████▊     | 57.0M/66.0M [00:00<00:00, 71.4MB/s]\n",
      "100%|██████████████████████████████████████| 66.0M/66.0M [00:01<00:00, 47.0MB/s]\n"
     ]
    }
   ],
   "source": [
    "#Execute this locally on git shell and upload the dataset\n",
    "! pip install kaggle\n",
    "! kaggle datasets download -d mlg-ulb/creditcardfraud\n",
    "! unzip creditcardfraud.zip"
   ]
  },
  {
   "cell_type": "code",
   "execution_count": 22,
   "metadata": {},
   "outputs": [
    {
     "data": {
      "text/html": [
       "<div>\n",
       "<style scoped>\n",
       "    .dataframe tbody tr th:only-of-type {\n",
       "        vertical-align: middle;\n",
       "    }\n",
       "\n",
       "    .dataframe tbody tr th {\n",
       "        vertical-align: top;\n",
       "    }\n",
       "\n",
       "    .dataframe thead th {\n",
       "        text-align: right;\n",
       "    }\n",
       "</style>\n",
       "<table border=\"1\" class=\"dataframe\">\n",
       "  <thead>\n",
       "    <tr style=\"text-align: right;\">\n",
       "      <th></th>\n",
       "      <th>Time</th>\n",
       "      <th>V1</th>\n",
       "      <th>V2</th>\n",
       "      <th>V3</th>\n",
       "      <th>V4</th>\n",
       "      <th>V5</th>\n",
       "      <th>V6</th>\n",
       "      <th>V7</th>\n",
       "      <th>V8</th>\n",
       "      <th>V9</th>\n",
       "      <th>...</th>\n",
       "      <th>V21</th>\n",
       "      <th>V22</th>\n",
       "      <th>V23</th>\n",
       "      <th>V24</th>\n",
       "      <th>V25</th>\n",
       "      <th>V26</th>\n",
       "      <th>V27</th>\n",
       "      <th>V28</th>\n",
       "      <th>Amount</th>\n",
       "      <th>Class</th>\n",
       "    </tr>\n",
       "  </thead>\n",
       "  <tbody>\n",
       "    <tr>\n",
       "      <th>count</th>\n",
       "      <td>284806.000000</td>\n",
       "      <td>2.848070e+05</td>\n",
       "      <td>2.848070e+05</td>\n",
       "      <td>2.848070e+05</td>\n",
       "      <td>2.848070e+05</td>\n",
       "      <td>2.848070e+05</td>\n",
       "      <td>2.848070e+05</td>\n",
       "      <td>2.848070e+05</td>\n",
       "      <td>2.848070e+05</td>\n",
       "      <td>2.848070e+05</td>\n",
       "      <td>...</td>\n",
       "      <td>2.848070e+05</td>\n",
       "      <td>2.848070e+05</td>\n",
       "      <td>2.848070e+05</td>\n",
       "      <td>2.848070e+05</td>\n",
       "      <td>2.848070e+05</td>\n",
       "      <td>2.848070e+05</td>\n",
       "      <td>2.848070e+05</td>\n",
       "      <td>2.848070e+05</td>\n",
       "      <td>284807.000000</td>\n",
       "      <td>284807.000000</td>\n",
       "    </tr>\n",
       "    <tr>\n",
       "      <th>mean</th>\n",
       "      <td>94813.841366</td>\n",
       "      <td>3.918649e-15</td>\n",
       "      <td>5.682686e-16</td>\n",
       "      <td>-8.761736e-15</td>\n",
       "      <td>2.811118e-15</td>\n",
       "      <td>-1.552103e-15</td>\n",
       "      <td>2.040130e-15</td>\n",
       "      <td>-1.698953e-15</td>\n",
       "      <td>-1.958151e-16</td>\n",
       "      <td>-3.147640e-15</td>\n",
       "      <td>...</td>\n",
       "      <td>1.471982e-16</td>\n",
       "      <td>8.042109e-16</td>\n",
       "      <td>5.282450e-16</td>\n",
       "      <td>4.458267e-15</td>\n",
       "      <td>1.426896e-15</td>\n",
       "      <td>1.701640e-15</td>\n",
       "      <td>-3.671606e-16</td>\n",
       "      <td>-1.218152e-16</td>\n",
       "      <td>88.349619</td>\n",
       "      <td>0.001727</td>\n",
       "    </tr>\n",
       "    <tr>\n",
       "      <th>std</th>\n",
       "      <td>47488.228330</td>\n",
       "      <td>1.958696e+00</td>\n",
       "      <td>1.651309e+00</td>\n",
       "      <td>1.516255e+00</td>\n",
       "      <td>1.415869e+00</td>\n",
       "      <td>1.380247e+00</td>\n",
       "      <td>1.332271e+00</td>\n",
       "      <td>1.237094e+00</td>\n",
       "      <td>1.194353e+00</td>\n",
       "      <td>1.098632e+00</td>\n",
       "      <td>...</td>\n",
       "      <td>7.345240e-01</td>\n",
       "      <td>7.257016e-01</td>\n",
       "      <td>6.244603e-01</td>\n",
       "      <td>6.056471e-01</td>\n",
       "      <td>5.212781e-01</td>\n",
       "      <td>4.822270e-01</td>\n",
       "      <td>4.036325e-01</td>\n",
       "      <td>3.300833e-01</td>\n",
       "      <td>250.120109</td>\n",
       "      <td>0.041527</td>\n",
       "    </tr>\n",
       "    <tr>\n",
       "      <th>min</th>\n",
       "      <td>0.000000</td>\n",
       "      <td>-5.640751e+01</td>\n",
       "      <td>-7.271573e+01</td>\n",
       "      <td>-4.832559e+01</td>\n",
       "      <td>-5.683171e+00</td>\n",
       "      <td>-1.137433e+02</td>\n",
       "      <td>-2.616051e+01</td>\n",
       "      <td>-4.355724e+01</td>\n",
       "      <td>-7.321672e+01</td>\n",
       "      <td>-1.343407e+01</td>\n",
       "      <td>...</td>\n",
       "      <td>-3.483038e+01</td>\n",
       "      <td>-1.093314e+01</td>\n",
       "      <td>-4.480774e+01</td>\n",
       "      <td>-2.836627e+00</td>\n",
       "      <td>-1.029540e+01</td>\n",
       "      <td>-2.604551e+00</td>\n",
       "      <td>-2.256568e+01</td>\n",
       "      <td>-1.543008e+01</td>\n",
       "      <td>0.000000</td>\n",
       "      <td>0.000000</td>\n",
       "    </tr>\n",
       "    <tr>\n",
       "      <th>25%</th>\n",
       "      <td>54201.250000</td>\n",
       "      <td>-9.203734e-01</td>\n",
       "      <td>-5.985499e-01</td>\n",
       "      <td>-8.903648e-01</td>\n",
       "      <td>-8.486401e-01</td>\n",
       "      <td>-6.915971e-01</td>\n",
       "      <td>-7.682956e-01</td>\n",
       "      <td>-5.540759e-01</td>\n",
       "      <td>-2.086297e-01</td>\n",
       "      <td>-6.430976e-01</td>\n",
       "      <td>...</td>\n",
       "      <td>-2.283949e-01</td>\n",
       "      <td>-5.423504e-01</td>\n",
       "      <td>-1.618463e-01</td>\n",
       "      <td>-3.545861e-01</td>\n",
       "      <td>-3.171451e-01</td>\n",
       "      <td>-3.269839e-01</td>\n",
       "      <td>-7.083953e-02</td>\n",
       "      <td>-5.295979e-02</td>\n",
       "      <td>5.600000</td>\n",
       "      <td>0.000000</td>\n",
       "    </tr>\n",
       "    <tr>\n",
       "      <th>50%</th>\n",
       "      <td>84691.500000</td>\n",
       "      <td>1.810880e-02</td>\n",
       "      <td>6.548556e-02</td>\n",
       "      <td>1.798463e-01</td>\n",
       "      <td>-1.984653e-02</td>\n",
       "      <td>-5.433583e-02</td>\n",
       "      <td>-2.741871e-01</td>\n",
       "      <td>4.010308e-02</td>\n",
       "      <td>2.235804e-02</td>\n",
       "      <td>-5.142873e-02</td>\n",
       "      <td>...</td>\n",
       "      <td>-2.945017e-02</td>\n",
       "      <td>6.781943e-03</td>\n",
       "      <td>-1.119293e-02</td>\n",
       "      <td>4.097606e-02</td>\n",
       "      <td>1.659350e-02</td>\n",
       "      <td>-5.213911e-02</td>\n",
       "      <td>1.342146e-03</td>\n",
       "      <td>1.124383e-02</td>\n",
       "      <td>22.000000</td>\n",
       "      <td>0.000000</td>\n",
       "    </tr>\n",
       "    <tr>\n",
       "      <th>75%</th>\n",
       "      <td>139320.750000</td>\n",
       "      <td>1.315642e+00</td>\n",
       "      <td>8.037239e-01</td>\n",
       "      <td>1.027196e+00</td>\n",
       "      <td>7.433413e-01</td>\n",
       "      <td>6.119264e-01</td>\n",
       "      <td>3.985649e-01</td>\n",
       "      <td>5.704361e-01</td>\n",
       "      <td>3.273459e-01</td>\n",
       "      <td>5.971390e-01</td>\n",
       "      <td>...</td>\n",
       "      <td>1.863772e-01</td>\n",
       "      <td>5.285536e-01</td>\n",
       "      <td>1.476421e-01</td>\n",
       "      <td>4.395266e-01</td>\n",
       "      <td>3.507156e-01</td>\n",
       "      <td>2.409522e-01</td>\n",
       "      <td>9.104512e-02</td>\n",
       "      <td>7.827995e-02</td>\n",
       "      <td>77.165000</td>\n",
       "      <td>0.000000</td>\n",
       "    </tr>\n",
       "    <tr>\n",
       "      <th>max</th>\n",
       "      <td>172792.000000</td>\n",
       "      <td>2.454930e+00</td>\n",
       "      <td>2.205773e+01</td>\n",
       "      <td>9.382558e+00</td>\n",
       "      <td>1.687534e+01</td>\n",
       "      <td>3.480167e+01</td>\n",
       "      <td>7.330163e+01</td>\n",
       "      <td>1.205895e+02</td>\n",
       "      <td>2.000721e+01</td>\n",
       "      <td>1.559499e+01</td>\n",
       "      <td>...</td>\n",
       "      <td>2.720284e+01</td>\n",
       "      <td>1.050309e+01</td>\n",
       "      <td>2.252841e+01</td>\n",
       "      <td>4.584549e+00</td>\n",
       "      <td>7.519589e+00</td>\n",
       "      <td>3.517346e+00</td>\n",
       "      <td>3.161220e+01</td>\n",
       "      <td>3.384781e+01</td>\n",
       "      <td>25691.160000</td>\n",
       "      <td>1.000000</td>\n",
       "    </tr>\n",
       "  </tbody>\n",
       "</table>\n",
       "<p>8 rows × 31 columns</p>\n",
       "</div>"
      ],
      "text/plain": [
       "                Time            V1            V2            V3            V4  \\\n",
       "count  284806.000000  2.848070e+05  2.848070e+05  2.848070e+05  2.848070e+05   \n",
       "mean    94813.841366  3.918649e-15  5.682686e-16 -8.761736e-15  2.811118e-15   \n",
       "std     47488.228330  1.958696e+00  1.651309e+00  1.516255e+00  1.415869e+00   \n",
       "min         0.000000 -5.640751e+01 -7.271573e+01 -4.832559e+01 -5.683171e+00   \n",
       "25%     54201.250000 -9.203734e-01 -5.985499e-01 -8.903648e-01 -8.486401e-01   \n",
       "50%     84691.500000  1.810880e-02  6.548556e-02  1.798463e-01 -1.984653e-02   \n",
       "75%    139320.750000  1.315642e+00  8.037239e-01  1.027196e+00  7.433413e-01   \n",
       "max    172792.000000  2.454930e+00  2.205773e+01  9.382558e+00  1.687534e+01   \n",
       "\n",
       "                 V5            V6            V7            V8            V9  \\\n",
       "count  2.848070e+05  2.848070e+05  2.848070e+05  2.848070e+05  2.848070e+05   \n",
       "mean  -1.552103e-15  2.040130e-15 -1.698953e-15 -1.958151e-16 -3.147640e-15   \n",
       "std    1.380247e+00  1.332271e+00  1.237094e+00  1.194353e+00  1.098632e+00   \n",
       "min   -1.137433e+02 -2.616051e+01 -4.355724e+01 -7.321672e+01 -1.343407e+01   \n",
       "25%   -6.915971e-01 -7.682956e-01 -5.540759e-01 -2.086297e-01 -6.430976e-01   \n",
       "50%   -5.433583e-02 -2.741871e-01  4.010308e-02  2.235804e-02 -5.142873e-02   \n",
       "75%    6.119264e-01  3.985649e-01  5.704361e-01  3.273459e-01  5.971390e-01   \n",
       "max    3.480167e+01  7.330163e+01  1.205895e+02  2.000721e+01  1.559499e+01   \n",
       "\n",
       "       ...           V21           V22           V23           V24  \\\n",
       "count  ...  2.848070e+05  2.848070e+05  2.848070e+05  2.848070e+05   \n",
       "mean   ...  1.471982e-16  8.042109e-16  5.282450e-16  4.458267e-15   \n",
       "std    ...  7.345240e-01  7.257016e-01  6.244603e-01  6.056471e-01   \n",
       "min    ... -3.483038e+01 -1.093314e+01 -4.480774e+01 -2.836627e+00   \n",
       "25%    ... -2.283949e-01 -5.423504e-01 -1.618463e-01 -3.545861e-01   \n",
       "50%    ... -2.945017e-02  6.781943e-03 -1.119293e-02  4.097606e-02   \n",
       "75%    ...  1.863772e-01  5.285536e-01  1.476421e-01  4.395266e-01   \n",
       "max    ...  2.720284e+01  1.050309e+01  2.252841e+01  4.584549e+00   \n",
       "\n",
       "                V25           V26           V27           V28         Amount  \\\n",
       "count  2.848070e+05  2.848070e+05  2.848070e+05  2.848070e+05  284807.000000   \n",
       "mean   1.426896e-15  1.701640e-15 -3.671606e-16 -1.218152e-16      88.349619   \n",
       "std    5.212781e-01  4.822270e-01  4.036325e-01  3.300833e-01     250.120109   \n",
       "min   -1.029540e+01 -2.604551e+00 -2.256568e+01 -1.543008e+01       0.000000   \n",
       "25%   -3.171451e-01 -3.269839e-01 -7.083953e-02 -5.295979e-02       5.600000   \n",
       "50%    1.659350e-02 -5.213911e-02  1.342146e-03  1.124383e-02      22.000000   \n",
       "75%    3.507156e-01  2.409522e-01  9.104512e-02  7.827995e-02      77.165000   \n",
       "max    7.519589e+00  3.517346e+00  3.161220e+01  3.384781e+01   25691.160000   \n",
       "\n",
       "               Class  \n",
       "count  284807.000000  \n",
       "mean        0.001727  \n",
       "std         0.041527  \n",
       "min         0.000000  \n",
       "25%         0.000000  \n",
       "50%         0.000000  \n",
       "75%         0.000000  \n",
       "max         1.000000  \n",
       "\n",
       "[8 rows x 31 columns]"
      ]
     },
     "execution_count": 22,
     "metadata": {},
     "output_type": "execute_result"
    }
   ],
   "source": [
    "found = False\n",
    "key = \"creditcardfraud\"\n",
    "description_text = \"Dataset for capstone project\"\n",
    "\n",
    "if key in ws.datasets.keys(): \n",
    "        found = True\n",
    "        dataset = ws.datasets[key] \n",
    "\n",
    "if not found:\n",
    "        print(\"Please execute above commands and create a dataset\")\n",
    "\n",
    "df = dataset.to_pandas_dataframe()\n",
    "df.describe()"
   ]
  },
  {
   "cell_type": "markdown",
   "metadata": {},
   "source": [
    "## AutoML Configuration\n",
    "\n",
    "TODO: Explain why you chose the automl settings and cofiguration you used below."
   ]
  },
  {
   "cell_type": "code",
   "execution_count": 27,
   "metadata": {
    "gather": {
     "logged": 1598429217746
    },
    "jupyter": {
     "outputs_hidden": false,
     "source_hidden": false
    },
    "nteract": {
     "transient": {
      "deleting": false
     }
    }
   },
   "outputs": [],
   "source": [
    "automl_settings = {\n",
    "    \"experiment_timeout_minutes\":60, # To make sure the experiment finishes on time before the timeout as per lab instructions\n",
    "    \"max_concurrent_iterations\": 5, # To reach highest level of concurrency as per cluster configuration\n",
    "    \"primary_metric\" : 'AUC_weighted' # To identify the score of each model that AutoML trains\n",
    "}\n",
    "automl_config = AutoMLConfig(compute_target=compute_target, # To specify out compute target to run the experiment on\n",
    "                             task = \"classification\", # We are identifying if the transaction is fraudulant or not\n",
    "                             training_data=dataset, # Location of the dataset\n",
    "                             label_column_name=\"Class\", # Column name of the target variable\n",
    "#                              path = project_folder,\n",
    "                             enable_early_stopping= True, # To save the computation cost\n",
    "                             featurization= 'auto', # So that our AutoMl performs best preprocessing to create features\n",
    "                             debug_log = \"automl_errors.log\", # To store logs\n",
    "                             **automl_settings\n",
    "                            )"
   ]
  },
  {
   "cell_type": "code",
   "execution_count": 28,
   "metadata": {
    "gather": {
     "logged": 1598431107951
    },
    "jupyter": {
     "outputs_hidden": false,
     "source_hidden": false
    },
    "nteract": {
     "transient": {
      "deleting": false
     }
    }
   },
   "outputs": [
    {
     "name": "stdout",
     "output_type": "stream",
     "text": [
      "Running on remote.\n"
     ]
    }
   ],
   "source": [
    "# TODO: Submit your experiment\n",
    "remote_run = experiment.submit(automl_config, show_output=True)"
   ]
  },
  {
   "cell_type": "markdown",
   "metadata": {},
   "source": [
    "## Run Details\n",
    "\n",
    "OPTIONAL: Write about the different models trained and their performance. Why do you think some models did better than others?\n",
    "\n",
    "TODO: In the cell below, use the `RunDetails` widget to show the different experiments."
   ]
  },
  {
   "cell_type": "code",
   "execution_count": 29,
   "metadata": {
    "gather": {
     "logged": 1598431121770
    },
    "jupyter": {
     "outputs_hidden": false,
     "source_hidden": false
    },
    "nteract": {
     "transient": {
      "deleting": false
     }
    }
   },
   "outputs": [
    {
     "data": {
      "application/vnd.jupyter.widget-view+json": {
       "model_id": "d0afbfad2b6345a59e01d99ecd1fcacd",
       "version_major": 2,
       "version_minor": 0
      },
      "text/plain": [
       "_AutoMLWidget(widget_settings={'childWidgetDisplay': 'popup', 'send_telemetry': False, 'log_level': 'INFO', 's…"
      ]
     },
     "metadata": {},
     "output_type": "display_data"
    },
    {
     "data": {
      "application/aml.mini.widget.v1": "{\"status\": \"Completed\", \"workbench_run_details_uri\": \"https://ml.azure.com/experiments/fraud-detection/runs/AutoML_8132042c-c606-4d2c-ae6a-f50d70b741ca?wsid=/subscriptions/f5091c60-1c3c-430f-8d81-d802f6bf2414/resourcegroups/aml-quickstarts-136702/workspaces/quick-starts-ws-136702\", \"run_id\": \"AutoML_8132042c-c606-4d2c-ae6a-f50d70b741ca\", \"run_properties\": {\"run_id\": \"AutoML_8132042c-c606-4d2c-ae6a-f50d70b741ca\", \"created_utc\": \"2021-01-31T11:12:18.489972Z\", \"properties\": {\"num_iterations\": \"1000\", \"training_type\": \"TrainFull\", \"acquisition_function\": \"EI\", \"primary_metric\": \"AUC_weighted\", \"train_split\": \"0\", \"acquisition_parameter\": \"0\", \"num_cross_validation\": null, \"target\": \"cluster\", \"AMLSettingsJsonString\": \"{\\\"path\\\":null,\\\"name\\\":\\\"fraud-detection\\\",\\\"subscription_id\\\":\\\"f5091c60-1c3c-430f-8d81-d802f6bf2414\\\",\\\"resource_group\\\":\\\"aml-quickstarts-136702\\\",\\\"workspace_name\\\":\\\"quick-starts-ws-136702\\\",\\\"region\\\":\\\"southcentralus\\\",\\\"compute_target\\\":\\\"cluster\\\",\\\"spark_service\\\":null,\\\"azure_service\\\":\\\"remote\\\",\\\"many_models\\\":false,\\\"pipeline_fetch_max_batch_size\\\":1,\\\"iterations\\\":1000,\\\"primary_metric\\\":\\\"AUC_weighted\\\",\\\"task_type\\\":\\\"classification\\\",\\\"data_script\\\":null,\\\"validation_size\\\":0.0,\\\"n_cross_validations\\\":null,\\\"y_min\\\":null,\\\"y_max\\\":null,\\\"num_classes\\\":null,\\\"featurization\\\":\\\"auto\\\",\\\"_ignore_package_version_incompatibilities\\\":false,\\\"is_timeseries\\\":false,\\\"max_cores_per_iteration\\\":1,\\\"max_concurrent_iterations\\\":5,\\\"iteration_timeout_minutes\\\":null,\\\"mem_in_mb\\\":null,\\\"enforce_time_on_windows\\\":false,\\\"experiment_timeout_minutes\\\":60,\\\"experiment_exit_score\\\":null,\\\"whitelist_models\\\":null,\\\"blacklist_algos\\\":[\\\"TensorFlowLinearClassifier\\\",\\\"TensorFlowDNN\\\"],\\\"supported_models\\\":[\\\"ExtremeRandomTrees\\\",\\\"XGBoostClassifier\\\",\\\"AveragedPerceptronClassifier\\\",\\\"LightGBM\\\",\\\"LinearSVM\\\",\\\"TensorFlowDNN\\\",\\\"BernoulliNaiveBayes\\\",\\\"KNN\\\",\\\"DecisionTree\\\",\\\"MultinomialNaiveBayes\\\",\\\"RandomForest\\\",\\\"SVM\\\",\\\"GradientBoosting\\\",\\\"TensorFlowLinearClassifier\\\",\\\"SGD\\\",\\\"LogisticRegression\\\"],\\\"auto_blacklist\\\":true,\\\"blacklist_samples_reached\\\":false,\\\"exclude_nan_labels\\\":true,\\\"verbosity\\\":20,\\\"_debug_log\\\":\\\"azureml_automl.log\\\",\\\"show_warnings\\\":false,\\\"model_explainability\\\":true,\\\"service_url\\\":null,\\\"sdk_url\\\":null,\\\"sdk_packages\\\":null,\\\"enable_onnx_compatible_models\\\":false,\\\"enable_split_onnx_featurizer_estimator_models\\\":false,\\\"vm_type\\\":\\\"STANDARD_DS12_V2\\\",\\\"telemetry_verbosity\\\":20,\\\"send_telemetry\\\":true,\\\"enable_dnn\\\":false,\\\"scenario\\\":\\\"SDK-1.13.0\\\",\\\"environment_label\\\":null,\\\"force_text_dnn\\\":false,\\\"enable_feature_sweeping\\\":true,\\\"enable_early_stopping\\\":true,\\\"early_stopping_n_iters\\\":10,\\\"metrics\\\":null,\\\"enable_ensembling\\\":true,\\\"enable_stack_ensembling\\\":true,\\\"ensemble_iterations\\\":15,\\\"enable_tf\\\":false,\\\"enable_subsampling\\\":null,\\\"subsample_seed\\\":null,\\\"enable_nimbusml\\\":false,\\\"enable_streaming\\\":false,\\\"force_streaming\\\":false,\\\"track_child_runs\\\":true,\\\"allowed_private_models\\\":[],\\\"label_column_name\\\":\\\"Class\\\",\\\"weight_column_name\\\":null,\\\"cv_split_column_names\\\":null,\\\"enable_local_managed\\\":false,\\\"_local_managed_run_id\\\":null,\\\"cost_mode\\\":1,\\\"lag_length\\\":0,\\\"metric_operation\\\":\\\"maximize\\\",\\\"preprocess\\\":true}\", \"DataPrepJsonString\": \"{\\\\\\\"training_data\\\\\\\": \\\\\\\"{\\\\\\\\\\\\\\\"blocks\\\\\\\\\\\\\\\": [{\\\\\\\\\\\\\\\"id\\\\\\\\\\\\\\\": \\\\\\\\\\\\\\\"08f1b842-291f-4535-8106-77e4d20ed0f4\\\\\\\\\\\\\\\", \\\\\\\\\\\\\\\"type\\\\\\\\\\\\\\\": \\\\\\\\\\\\\\\"Microsoft.DPrep.GetDatastoreFilesBlock\\\\\\\\\\\\\\\", \\\\\\\\\\\\\\\"arguments\\\\\\\\\\\\\\\": {\\\\\\\\\\\\\\\"datastores\\\\\\\\\\\\\\\": [{\\\\\\\\\\\\\\\"datastoreName\\\\\\\\\\\\\\\": \\\\\\\\\\\\\\\"workspaceblobstore\\\\\\\\\\\\\\\", \\\\\\\\\\\\\\\"path\\\\\\\\\\\\\\\": \\\\\\\\\\\\\\\"UI/01-31-2021_110037_UTC/creditcard.csv\\\\\\\\\\\\\\\", \\\\\\\\\\\\\\\"resourceGroup\\\\\\\\\\\\\\\": \\\\\\\\\\\\\\\"aml-quickstarts-136702\\\\\\\\\\\\\\\", \\\\\\\\\\\\\\\"subscription\\\\\\\\\\\\\\\": \\\\\\\\\\\\\\\"f5091c60-1c3c-430f-8d81-d802f6bf2414\\\\\\\\\\\\\\\", \\\\\\\\\\\\\\\"workspaceName\\\\\\\\\\\\\\\": \\\\\\\\\\\\\\\"quick-starts-ws-136702\\\\\\\\\\\\\\\"}]}, \\\\\\\\\\\\\\\"localData\\\\\\\\\\\\\\\": {}, \\\\\\\\\\\\\\\"isEnabled\\\\\\\\\\\\\\\": true, \\\\\\\\\\\\\\\"name\\\\\\\\\\\\\\\": null, \\\\\\\\\\\\\\\"annotation\\\\\\\\\\\\\\\": null}, {\\\\\\\\\\\\\\\"id\\\\\\\\\\\\\\\": \\\\\\\\\\\\\\\"ae20898b-9e00-4551-ab34-44060fc87e6e\\\\\\\\\\\\\\\", \\\\\\\\\\\\\\\"type\\\\\\\\\\\\\\\": \\\\\\\\\\\\\\\"Microsoft.DPrep.ParseDelimitedBlock\\\\\\\\\\\\\\\", \\\\\\\\\\\\\\\"arguments\\\\\\\\\\\\\\\": {\\\\\\\\\\\\\\\"columnHeadersMode\\\\\\\\\\\\\\\": 3, \\\\\\\\\\\\\\\"fileEncoding\\\\\\\\\\\\\\\": 0, \\\\\\\\\\\\\\\"handleQuotedLineBreaks\\\\\\\\\\\\\\\": false, \\\\\\\\\\\\\\\"preview\\\\\\\\\\\\\\\": false, \\\\\\\\\\\\\\\"separator\\\\\\\\\\\\\\\": \\\\\\\\\\\\\\\",\\\\\\\\\\\\\\\", \\\\\\\\\\\\\\\"skipRows\\\\\\\\\\\\\\\": 0, \\\\\\\\\\\\\\\"skipRowsMode\\\\\\\\\\\\\\\": 0}, \\\\\\\\\\\\\\\"localData\\\\\\\\\\\\\\\": {}, \\\\\\\\\\\\\\\"isEnabled\\\\\\\\\\\\\\\": true, \\\\\\\\\\\\\\\"name\\\\\\\\\\\\\\\": null, \\\\\\\\\\\\\\\"annotation\\\\\\\\\\\\\\\": null}, {\\\\\\\\\\\\\\\"id\\\\\\\\\\\\\\\": \\\\\\\\\\\\\\\"2cf0cc66-175d-4b8d-a5e3-3942529e79ec\\\\\\\\\\\\\\\", \\\\\\\\\\\\\\\"type\\\\\\\\\\\\\\\": \\\\\\\\\\\\\\\"Microsoft.DPrep.DropColumnsBlock\\\\\\\\\\\\\\\", \\\\\\\\\\\\\\\"arguments\\\\\\\\\\\\\\\": {\\\\\\\\\\\\\\\"columns\\\\\\\\\\\\\\\": {\\\\\\\\\\\\\\\"type\\\\\\\\\\\\\\\": 0, \\\\\\\\\\\\\\\"details\\\\\\\\\\\\\\\": {\\\\\\\\\\\\\\\"selectedColumns\\\\\\\\\\\\\\\": [\\\\\\\\\\\\\\\"Path\\\\\\\\\\\\\\\"]}}}, \\\\\\\\\\\\\\\"localData\\\\\\\\\\\\\\\": {}, \\\\\\\\\\\\\\\"isEnabled\\\\\\\\\\\\\\\": true, \\\\\\\\\\\\\\\"name\\\\\\\\\\\\\\\": null, \\\\\\\\\\\\\\\"annotation\\\\\\\\\\\\\\\": null}, {\\\\\\\\\\\\\\\"id\\\\\\\\\\\\\\\": \\\\\\\\\\\\\\\"92c4d39e-b6e6-416f-b8a5-d8b1c2857596\\\\\\\\\\\\\\\", \\\\\\\\\\\\\\\"type\\\\\\\\\\\\\\\": \\\\\\\\\\\\\\\"Microsoft.DPrep.SetColumnTypesBlock\\\\\\\\\\\\\\\", \\\\\\\\\\\\\\\"arguments\\\\\\\\\\\\\\\": {\\\\\\\\\\\\\\\"columnConversion\\\\\\\\\\\\\\\": [{\\\\\\\\\\\\\\\"column\\\\\\\\\\\\\\\": {\\\\\\\\\\\\\\\"type\\\\\\\\\\\\\\\": 2, \\\\\\\\\\\\\\\"details\\\\\\\\\\\\\\\": {\\\\\\\\\\\\\\\"selectedColumn\\\\\\\\\\\\\\\": \\\\\\\\\\\\\\\"Path\\\\\\\\\\\\\\\"}}, \\\\\\\\\\\\\\\"typeProperty\\\\\\\\\\\\\\\": 0}, {\\\\\\\\\\\\\\\"column\\\\\\\\\\\\\\\": {\\\\\\\\\\\\\\\"type\\\\\\\\\\\\\\\": 2, \\\\\\\\\\\\\\\"details\\\\\\\\\\\\\\\": {\\\\\\\\\\\\\\\"selectedColumn\\\\\\\\\\\\\\\": \\\\\\\\\\\\\\\"Time\\\\\\\\\\\\\\\"}}, \\\\\\\\\\\\\\\"typeProperty\\\\\\\\\\\\\\\": 2}, {\\\\\\\\\\\\\\\"column\\\\\\\\\\\\\\\": {\\\\\\\\\\\\\\\"type\\\\\\\\\\\\\\\": 2, \\\\\\\\\\\\\\\"details\\\\\\\\\\\\\\\": {\\\\\\\\\\\\\\\"selectedColumn\\\\\\\\\\\\\\\": \\\\\\\\\\\\\\\"V1\\\\\\\\\\\\\\\"}}, \\\\\\\\\\\\\\\"typeProperty\\\\\\\\\\\\\\\": 3}, {\\\\\\\\\\\\\\\"column\\\\\\\\\\\\\\\": {\\\\\\\\\\\\\\\"type\\\\\\\\\\\\\\\": 2, \\\\\\\\\\\\\\\"details\\\\\\\\\\\\\\\": {\\\\\\\\\\\\\\\"selectedColumn\\\\\\\\\\\\\\\": \\\\\\\\\\\\\\\"V2\\\\\\\\\\\\\\\"}}, \\\\\\\\\\\\\\\"typeProperty\\\\\\\\\\\\\\\": 3}, {\\\\\\\\\\\\\\\"column\\\\\\\\\\\\\\\": {\\\\\\\\\\\\\\\"type\\\\\\\\\\\\\\\": 2, \\\\\\\\\\\\\\\"details\\\\\\\\\\\\\\\": {\\\\\\\\\\\\\\\"selectedColumn\\\\\\\\\\\\\\\": \\\\\\\\\\\\\\\"V3\\\\\\\\\\\\\\\"}}, \\\\\\\\\\\\\\\"typeProperty\\\\\\\\\\\\\\\": 3}, {\\\\\\\\\\\\\\\"column\\\\\\\\\\\\\\\": {\\\\\\\\\\\\\\\"type\\\\\\\\\\\\\\\": 2, \\\\\\\\\\\\\\\"details\\\\\\\\\\\\\\\": {\\\\\\\\\\\\\\\"selectedColumn\\\\\\\\\\\\\\\": \\\\\\\\\\\\\\\"V4\\\\\\\\\\\\\\\"}}, \\\\\\\\\\\\\\\"typeProperty\\\\\\\\\\\\\\\": 3}, {\\\\\\\\\\\\\\\"column\\\\\\\\\\\\\\\": {\\\\\\\\\\\\\\\"type\\\\\\\\\\\\\\\": 2, \\\\\\\\\\\\\\\"details\\\\\\\\\\\\\\\": {\\\\\\\\\\\\\\\"selectedColumn\\\\\\\\\\\\\\\": \\\\\\\\\\\\\\\"V5\\\\\\\\\\\\\\\"}}, \\\\\\\\\\\\\\\"typeProperty\\\\\\\\\\\\\\\": 3}, {\\\\\\\\\\\\\\\"column\\\\\\\\\\\\\\\": {\\\\\\\\\\\\\\\"type\\\\\\\\\\\\\\\": 2, \\\\\\\\\\\\\\\"details\\\\\\\\\\\\\\\": {\\\\\\\\\\\\\\\"selectedColumn\\\\\\\\\\\\\\\": \\\\\\\\\\\\\\\"V6\\\\\\\\\\\\\\\"}}, \\\\\\\\\\\\\\\"typeProperty\\\\\\\\\\\\\\\": 3}, {\\\\\\\\\\\\\\\"column\\\\\\\\\\\\\\\": {\\\\\\\\\\\\\\\"type\\\\\\\\\\\\\\\": 2, \\\\\\\\\\\\\\\"details\\\\\\\\\\\\\\\": {\\\\\\\\\\\\\\\"selectedColumn\\\\\\\\\\\\\\\": \\\\\\\\\\\\\\\"V7\\\\\\\\\\\\\\\"}}, \\\\\\\\\\\\\\\"typeProperty\\\\\\\\\\\\\\\": 3}, {\\\\\\\\\\\\\\\"column\\\\\\\\\\\\\\\": {\\\\\\\\\\\\\\\"type\\\\\\\\\\\\\\\": 2, \\\\\\\\\\\\\\\"details\\\\\\\\\\\\\\\": {\\\\\\\\\\\\\\\"selectedColumn\\\\\\\\\\\\\\\": \\\\\\\\\\\\\\\"V8\\\\\\\\\\\\\\\"}}, \\\\\\\\\\\\\\\"typeProperty\\\\\\\\\\\\\\\": 3}, {\\\\\\\\\\\\\\\"column\\\\\\\\\\\\\\\": {\\\\\\\\\\\\\\\"type\\\\\\\\\\\\\\\": 2, \\\\\\\\\\\\\\\"details\\\\\\\\\\\\\\\": {\\\\\\\\\\\\\\\"selectedColumn\\\\\\\\\\\\\\\": \\\\\\\\\\\\\\\"V9\\\\\\\\\\\\\\\"}}, \\\\\\\\\\\\\\\"typeProperty\\\\\\\\\\\\\\\": 3}, {\\\\\\\\\\\\\\\"column\\\\\\\\\\\\\\\": {\\\\\\\\\\\\\\\"type\\\\\\\\\\\\\\\": 2, \\\\\\\\\\\\\\\"details\\\\\\\\\\\\\\\": {\\\\\\\\\\\\\\\"selectedColumn\\\\\\\\\\\\\\\": \\\\\\\\\\\\\\\"V10\\\\\\\\\\\\\\\"}}, \\\\\\\\\\\\\\\"typeProperty\\\\\\\\\\\\\\\": 3}, {\\\\\\\\\\\\\\\"column\\\\\\\\\\\\\\\": {\\\\\\\\\\\\\\\"type\\\\\\\\\\\\\\\": 2, \\\\\\\\\\\\\\\"details\\\\\\\\\\\\\\\": {\\\\\\\\\\\\\\\"selectedColumn\\\\\\\\\\\\\\\": \\\\\\\\\\\\\\\"V11\\\\\\\\\\\\\\\"}}, \\\\\\\\\\\\\\\"typeProperty\\\\\\\\\\\\\\\": 3}, {\\\\\\\\\\\\\\\"column\\\\\\\\\\\\\\\": {\\\\\\\\\\\\\\\"type\\\\\\\\\\\\\\\": 2, \\\\\\\\\\\\\\\"details\\\\\\\\\\\\\\\": {\\\\\\\\\\\\\\\"selectedColumn\\\\\\\\\\\\\\\": \\\\\\\\\\\\\\\"V12\\\\\\\\\\\\\\\"}}, \\\\\\\\\\\\\\\"typeProperty\\\\\\\\\\\\\\\": 3}, {\\\\\\\\\\\\\\\"column\\\\\\\\\\\\\\\": {\\\\\\\\\\\\\\\"type\\\\\\\\\\\\\\\": 2, \\\\\\\\\\\\\\\"details\\\\\\\\\\\\\\\": {\\\\\\\\\\\\\\\"selectedColumn\\\\\\\\\\\\\\\": \\\\\\\\\\\\\\\"V13\\\\\\\\\\\\\\\"}}, \\\\\\\\\\\\\\\"typeProperty\\\\\\\\\\\\\\\": 3}, {\\\\\\\\\\\\\\\"column\\\\\\\\\\\\\\\": {\\\\\\\\\\\\\\\"type\\\\\\\\\\\\\\\": 2, \\\\\\\\\\\\\\\"details\\\\\\\\\\\\\\\": {\\\\\\\\\\\\\\\"selectedColumn\\\\\\\\\\\\\\\": \\\\\\\\\\\\\\\"V14\\\\\\\\\\\\\\\"}}, \\\\\\\\\\\\\\\"typeProperty\\\\\\\\\\\\\\\": 3}, {\\\\\\\\\\\\\\\"column\\\\\\\\\\\\\\\": {\\\\\\\\\\\\\\\"type\\\\\\\\\\\\\\\": 2, \\\\\\\\\\\\\\\"details\\\\\\\\\\\\\\\": {\\\\\\\\\\\\\\\"selectedColumn\\\\\\\\\\\\\\\": \\\\\\\\\\\\\\\"V15\\\\\\\\\\\\\\\"}}, \\\\\\\\\\\\\\\"typeProperty\\\\\\\\\\\\\\\": 3}, {\\\\\\\\\\\\\\\"column\\\\\\\\\\\\\\\": {\\\\\\\\\\\\\\\"type\\\\\\\\\\\\\\\": 2, \\\\\\\\\\\\\\\"details\\\\\\\\\\\\\\\": {\\\\\\\\\\\\\\\"selectedColumn\\\\\\\\\\\\\\\": \\\\\\\\\\\\\\\"V16\\\\\\\\\\\\\\\"}}, \\\\\\\\\\\\\\\"typeProperty\\\\\\\\\\\\\\\": 3}, {\\\\\\\\\\\\\\\"column\\\\\\\\\\\\\\\": {\\\\\\\\\\\\\\\"type\\\\\\\\\\\\\\\": 2, \\\\\\\\\\\\\\\"details\\\\\\\\\\\\\\\": {\\\\\\\\\\\\\\\"selectedColumn\\\\\\\\\\\\\\\": \\\\\\\\\\\\\\\"V17\\\\\\\\\\\\\\\"}}, \\\\\\\\\\\\\\\"typeProperty\\\\\\\\\\\\\\\": 3}, {\\\\\\\\\\\\\\\"column\\\\\\\\\\\\\\\": {\\\\\\\\\\\\\\\"type\\\\\\\\\\\\\\\": 2, \\\\\\\\\\\\\\\"details\\\\\\\\\\\\\\\": {\\\\\\\\\\\\\\\"selectedColumn\\\\\\\\\\\\\\\": \\\\\\\\\\\\\\\"V18\\\\\\\\\\\\\\\"}}, \\\\\\\\\\\\\\\"typeProperty\\\\\\\\\\\\\\\": 3}, {\\\\\\\\\\\\\\\"column\\\\\\\\\\\\\\\": {\\\\\\\\\\\\\\\"type\\\\\\\\\\\\\\\": 2, \\\\\\\\\\\\\\\"details\\\\\\\\\\\\\\\": {\\\\\\\\\\\\\\\"selectedColumn\\\\\\\\\\\\\\\": \\\\\\\\\\\\\\\"V19\\\\\\\\\\\\\\\"}}, \\\\\\\\\\\\\\\"typeProperty\\\\\\\\\\\\\\\": 3}, {\\\\\\\\\\\\\\\"column\\\\\\\\\\\\\\\": {\\\\\\\\\\\\\\\"type\\\\\\\\\\\\\\\": 2, \\\\\\\\\\\\\\\"details\\\\\\\\\\\\\\\": {\\\\\\\\\\\\\\\"selectedColumn\\\\\\\\\\\\\\\": \\\\\\\\\\\\\\\"V20\\\\\\\\\\\\\\\"}}, \\\\\\\\\\\\\\\"typeProperty\\\\\\\\\\\\\\\": 3}, {\\\\\\\\\\\\\\\"column\\\\\\\\\\\\\\\": {\\\\\\\\\\\\\\\"type\\\\\\\\\\\\\\\": 2, \\\\\\\\\\\\\\\"details\\\\\\\\\\\\\\\": {\\\\\\\\\\\\\\\"selectedColumn\\\\\\\\\\\\\\\": \\\\\\\\\\\\\\\"V21\\\\\\\\\\\\\\\"}}, \\\\\\\\\\\\\\\"typeProperty\\\\\\\\\\\\\\\": 3}, {\\\\\\\\\\\\\\\"column\\\\\\\\\\\\\\\": {\\\\\\\\\\\\\\\"type\\\\\\\\\\\\\\\": 2, \\\\\\\\\\\\\\\"details\\\\\\\\\\\\\\\": {\\\\\\\\\\\\\\\"selectedColumn\\\\\\\\\\\\\\\": \\\\\\\\\\\\\\\"V22\\\\\\\\\\\\\\\"}}, \\\\\\\\\\\\\\\"typeProperty\\\\\\\\\\\\\\\": 3}, {\\\\\\\\\\\\\\\"column\\\\\\\\\\\\\\\": {\\\\\\\\\\\\\\\"type\\\\\\\\\\\\\\\": 2, \\\\\\\\\\\\\\\"details\\\\\\\\\\\\\\\": {\\\\\\\\\\\\\\\"selectedColumn\\\\\\\\\\\\\\\": \\\\\\\\\\\\\\\"V23\\\\\\\\\\\\\\\"}}, \\\\\\\\\\\\\\\"typeProperty\\\\\\\\\\\\\\\": 3}, {\\\\\\\\\\\\\\\"column\\\\\\\\\\\\\\\": {\\\\\\\\\\\\\\\"type\\\\\\\\\\\\\\\": 2, \\\\\\\\\\\\\\\"details\\\\\\\\\\\\\\\": {\\\\\\\\\\\\\\\"selectedColumn\\\\\\\\\\\\\\\": \\\\\\\\\\\\\\\"V24\\\\\\\\\\\\\\\"}}, \\\\\\\\\\\\\\\"typeProperty\\\\\\\\\\\\\\\": 3}, {\\\\\\\\\\\\\\\"column\\\\\\\\\\\\\\\": {\\\\\\\\\\\\\\\"type\\\\\\\\\\\\\\\": 2, \\\\\\\\\\\\\\\"details\\\\\\\\\\\\\\\": {\\\\\\\\\\\\\\\"selectedColumn\\\\\\\\\\\\\\\": \\\\\\\\\\\\\\\"V25\\\\\\\\\\\\\\\"}}, \\\\\\\\\\\\\\\"typeProperty\\\\\\\\\\\\\\\": 3}, {\\\\\\\\\\\\\\\"column\\\\\\\\\\\\\\\": {\\\\\\\\\\\\\\\"type\\\\\\\\\\\\\\\": 2, \\\\\\\\\\\\\\\"details\\\\\\\\\\\\\\\": {\\\\\\\\\\\\\\\"selectedColumn\\\\\\\\\\\\\\\": \\\\\\\\\\\\\\\"V26\\\\\\\\\\\\\\\"}}, \\\\\\\\\\\\\\\"typeProperty\\\\\\\\\\\\\\\": 3}, {\\\\\\\\\\\\\\\"column\\\\\\\\\\\\\\\": {\\\\\\\\\\\\\\\"type\\\\\\\\\\\\\\\": 2, \\\\\\\\\\\\\\\"details\\\\\\\\\\\\\\\": {\\\\\\\\\\\\\\\"selectedColumn\\\\\\\\\\\\\\\": \\\\\\\\\\\\\\\"V27\\\\\\\\\\\\\\\"}}, \\\\\\\\\\\\\\\"typeProperty\\\\\\\\\\\\\\\": 3}, {\\\\\\\\\\\\\\\"column\\\\\\\\\\\\\\\": {\\\\\\\\\\\\\\\"type\\\\\\\\\\\\\\\": 2, \\\\\\\\\\\\\\\"details\\\\\\\\\\\\\\\": {\\\\\\\\\\\\\\\"selectedColumn\\\\\\\\\\\\\\\": \\\\\\\\\\\\\\\"V28\\\\\\\\\\\\\\\"}}, \\\\\\\\\\\\\\\"typeProperty\\\\\\\\\\\\\\\": 3}, {\\\\\\\\\\\\\\\"column\\\\\\\\\\\\\\\": {\\\\\\\\\\\\\\\"type\\\\\\\\\\\\\\\": 2, \\\\\\\\\\\\\\\"details\\\\\\\\\\\\\\\": {\\\\\\\\\\\\\\\"selectedColumn\\\\\\\\\\\\\\\": \\\\\\\\\\\\\\\"Amount\\\\\\\\\\\\\\\"}}, \\\\\\\\\\\\\\\"typeProperty\\\\\\\\\\\\\\\": 3}, {\\\\\\\\\\\\\\\"column\\\\\\\\\\\\\\\": {\\\\\\\\\\\\\\\"type\\\\\\\\\\\\\\\": 2, \\\\\\\\\\\\\\\"details\\\\\\\\\\\\\\\": {\\\\\\\\\\\\\\\"selectedColumn\\\\\\\\\\\\\\\": \\\\\\\\\\\\\\\"Class\\\\\\\\\\\\\\\"}}, \\\\\\\\\\\\\\\"typeProperty\\\\\\\\\\\\\\\": 2}]}, \\\\\\\\\\\\\\\"localData\\\\\\\\\\\\\\\": {}, \\\\\\\\\\\\\\\"isEnabled\\\\\\\\\\\\\\\": true, \\\\\\\\\\\\\\\"name\\\\\\\\\\\\\\\": null, \\\\\\\\\\\\\\\"annotation\\\\\\\\\\\\\\\": null}], \\\\\\\\\\\\\\\"inspectors\\\\\\\\\\\\\\\": [], \\\\\\\\\\\\\\\"meta\\\\\\\\\\\\\\\": {\\\\\\\\\\\\\\\"savedDatasetId\\\\\\\\\\\\\\\": \\\\\\\\\\\\\\\"b50b19e3-1511-4a8a-bd6f-dbb3dba504f7\\\\\\\\\\\\\\\", \\\\\\\\\\\\\\\"datasetType\\\\\\\\\\\\\\\": \\\\\\\\\\\\\\\"tabular\\\\\\\\\\\\\\\", \\\\\\\\\\\\\\\"subscriptionId\\\\\\\\\\\\\\\": \\\\\\\\\\\\\\\"f5091c60-1c3c-430f-8d81-d802f6bf2414\\\\\\\\\\\\\\\", \\\\\\\\\\\\\\\"workspaceId\\\\\\\\\\\\\\\": \\\\\\\\\\\\\\\"ce36ea35-9dbe-4fd9-a210-c85d2772d366\\\\\\\\\\\\\\\", \\\\\\\\\\\\\\\"workspaceLocation\\\\\\\\\\\\\\\": \\\\\\\\\\\\\\\"southcentralus\\\\\\\\\\\\\\\"}}\\\\\\\", \\\\\\\"activities\\\\\\\": 0}\", \"EnableSubsampling\": null, \"runTemplate\": \"AutoML\", \"azureml.runsource\": \"automl\", \"display_task_type\": \"classification\", \"dependencies_versions\": \"{\\\"azureml-widgets\\\": \\\"1.20.0\\\", \\\"azureml-train\\\": \\\"1.20.0\\\", \\\"azureml-train-restclients-hyperdrive\\\": \\\"1.20.0\\\", \\\"azureml-train-core\\\": \\\"1.20.0\\\", \\\"azureml-train-automl\\\": \\\"1.20.0\\\", \\\"azureml-train-automl-runtime\\\": \\\"1.20.0\\\", \\\"azureml-train-automl-client\\\": \\\"1.20.0\\\", \\\"azureml-tensorboard\\\": \\\"1.20.0\\\", \\\"azureml-telemetry\\\": \\\"1.20.0\\\", \\\"azureml-sdk\\\": \\\"1.20.0\\\", \\\"azureml-samples\\\": \\\"0+unknown\\\", \\\"azureml-pipeline\\\": \\\"1.20.0\\\", \\\"azureml-pipeline-steps\\\": \\\"1.20.0\\\", \\\"azureml-pipeline-core\\\": \\\"1.20.0\\\", \\\"azureml-opendatasets\\\": \\\"1.20.0\\\", \\\"azureml-model-management-sdk\\\": \\\"1.0.1b6.post1\\\", \\\"azureml-mlflow\\\": \\\"1.20.0.post1\\\", \\\"azureml-interpret\\\": \\\"1.20.0\\\", \\\"azureml-explain-model\\\": \\\"1.20.0\\\", \\\"azureml-defaults\\\": \\\"1.20.0\\\", \\\"azureml-dataset-runtime\\\": \\\"1.20.0\\\", \\\"azureml-dataprep\\\": \\\"2.7.3\\\", \\\"azureml-dataprep-rslex\\\": \\\"1.5.0\\\", \\\"azureml-dataprep-native\\\": \\\"27.0.0\\\", \\\"azureml-datadrift\\\": \\\"1.20.0\\\", \\\"azureml-core\\\": \\\"1.20.0\\\", \\\"azureml-contrib-services\\\": \\\"1.20.0\\\", \\\"azureml-contrib-server\\\": \\\"1.20.0\\\", \\\"azureml-contrib-reinforcementlearning\\\": \\\"1.20.0\\\", \\\"azureml-contrib-pipeline-steps\\\": \\\"1.20.0\\\", \\\"azureml-contrib-notebook\\\": \\\"1.20.0\\\", \\\"azureml-contrib-interpret\\\": \\\"1.20.0\\\", \\\"azureml-contrib-gbdt\\\": \\\"1.20.0\\\", \\\"azureml-contrib-fairness\\\": \\\"1.20.0\\\", \\\"azureml-contrib-dataset\\\": \\\"1.20.0\\\", \\\"azureml-cli-common\\\": \\\"1.20.0\\\", \\\"azureml-automl-runtime\\\": \\\"1.20.0\\\", \\\"azureml-automl-core\\\": \\\"1.20.0\\\", \\\"azureml-accel-models\\\": \\\"1.20.0\\\"}\", \"_aml_system_scenario_identification\": \"Remote.Parent\", \"ClientType\": \"SDK\", \"environment_cpu_name\": \"AzureML-AutoML\", \"environment_cpu_label\": \"prod\", \"environment_gpu_name\": \"AzureML-AutoML-GPU\", \"environment_gpu_label\": \"prod\", \"root_attribution\": \"automl\", \"attribution\": \"AutoML\", \"Orchestrator\": \"AutoML\", \"CancelUri\": \"https://southcentralus.experiments.azureml.net/jasmine/v1.0/subscriptions/f5091c60-1c3c-430f-8d81-d802f6bf2414/resourceGroups/aml-quickstarts-136702/providers/Microsoft.MachineLearningServices/workspaces/quick-starts-ws-136702/experimentids/a215360a-145d-4185-b157-602121a39058/cancel/AutoML_8132042c-c606-4d2c-ae6a-f50d70b741ca\", \"ClientSdkVersion\": \"1.20.0.post1\", \"snapshotId\": \"00000000-0000-0000-0000-000000000000\", \"SetupRunId\": \"AutoML_8132042c-c606-4d2c-ae6a-f50d70b741ca_setup\", \"SetupRunContainerId\": \"dcid.AutoML_8132042c-c606-4d2c-ae6a-f50d70b741ca_setup\", \"FeaturizationRunJsonPath\": \"featurizer_container.json\", \"FeaturizationRunId\": \"AutoML_8132042c-c606-4d2c-ae6a-f50d70b741ca_featurize\", \"ProblemInfoJsonString\": \"{\\\"dataset_num_categorical\\\": 0, \\\"is_sparse\\\": false, \\\"subsampling\\\": false, \\\"dataset_classes\\\": 2, \\\"dataset_features\\\": 30, \\\"dataset_samples\\\": 256326, \\\"single_frequency_class_detected\\\": false}\", \"ModelExplainRunId\": \"AutoML_8132042c-c606-4d2c-ae6a-f50d70b741ca_ModelExplain\"}, \"tags\": {\"model_explain_run\": \"best_run\", \"_aml_system_azureml.automlComponent\": \"AutoML\", \"pipeline_id\": \"\", \"score\": \"\", \"predicted_cost\": \"\", \"fit_time\": \"\", \"training_percent\": \"\", \"iteration\": \"\", \"run_preprocessor\": \"\", \"run_algorithm\": \"\", \"dynamic_whitelisting_iterations\": \"<25>;<30>;<35>;\", \"automl_best_child_run_id\": \"AutoML_8132042c-c606-4d2c-ae6a-f50d70b741ca_38\", \"model_explain_best_run_child_id\": \"AutoML_8132042c-c606-4d2c-ae6a-f50d70b741ca_38\"}, \"end_time_utc\": \"2021-01-31T11:40:59.002424Z\", \"status\": \"Completed\", \"log_files\": {}, \"log_groups\": [], \"run_duration\": \"0:28:40\"}, \"child_runs\": [{\"run_id\": \"AutoML_8132042c-c606-4d2c-ae6a-f50d70b741ca_0\", \"run_number\": 5, \"metric\": null, \"status\": \"Completed\", \"run_type\": \"azureml.scriptrun\", \"training_percent\": \"100\", \"start_time\": \"2021-01-31T11:21:25.091113Z\", \"end_time\": \"2021-01-31T11:22:30.660546Z\", \"created_time\": \"2021-01-31T11:20:07.579347Z\", \"created_time_dt\": \"2021-01-31T11:20:07.579347Z\", \"duration\": \"0:02:23\", \"iteration\": \"0\", \"goal\": \"AUC_weighted_max\", \"run_name\": \"MaxAbsScaler, LightGBM\", \"run_properties\": \"copy=True\", \"primary_metric\": 0.92515188, \"best_metric\": 0.92515188}, {\"run_id\": \"AutoML_8132042c-c606-4d2c-ae6a-f50d70b741ca_3\", \"run_number\": 6, \"metric\": null, \"status\": \"Completed\", \"run_type\": \"azureml.scriptrun\", \"training_percent\": \"100\", \"start_time\": \"2021-01-31T11:20:19.431671Z\", \"end_time\": \"2021-01-31T11:21:20.909013Z\", \"created_time\": \"2021-01-31T11:20:07.727692Z\", \"created_time_dt\": \"2021-01-31T11:20:07.727692Z\", \"duration\": \"0:01:13\", \"iteration\": \"3\", \"goal\": \"AUC_weighted_max\", \"run_name\": \"RobustScaler, ExtremeRandomTrees\", \"run_properties\": \"copy=True, quantile_range=[10, 90], with_centering=False,\\n             with_scaling=False\", \"primary_metric\": 0.95118536, \"best_metric\": 0.97354806}, {\"run_id\": \"AutoML_8132042c-c606-4d2c-ae6a-f50d70b741ca_2\", \"run_number\": 7, \"metric\": null, \"status\": \"Completed\", \"run_type\": \"azureml.scriptrun\", \"training_percent\": \"100\", \"start_time\": \"2021-01-31T11:22:47.140702Z\", \"end_time\": \"2021-01-31T11:25:08.853342Z\", \"created_time\": \"2021-01-31T11:20:07.859679Z\", \"created_time_dt\": \"2021-01-31T11:20:07.859679Z\", \"duration\": \"0:05:00\", \"iteration\": \"2\", \"goal\": \"AUC_weighted_max\", \"run_name\": \"MinMaxScaler, RandomForest\", \"run_properties\": \"copy=True, feature_range=(0, 1\", \"primary_metric\": 0.95827244, \"best_metric\": 0.97354806}, {\"run_id\": \"AutoML_8132042c-c606-4d2c-ae6a-f50d70b741ca_1\", \"run_number\": 8, \"metric\": null, \"status\": \"Completed\", \"run_type\": \"azureml.scriptrun\", \"training_percent\": \"100\", \"start_time\": \"2021-01-31T11:22:43.068772Z\", \"end_time\": \"2021-01-31T11:26:05.463701Z\", \"created_time\": \"2021-01-31T11:20:07.905405Z\", \"created_time_dt\": \"2021-01-31T11:20:07.905405Z\", \"duration\": \"0:05:57\", \"iteration\": \"1\", \"goal\": \"AUC_weighted_max\", \"run_name\": \"MaxAbsScaler, XGBoostClassifier\", \"run_properties\": \"copy=True\", \"primary_metric\": 0.97354806, \"best_metric\": 0.97354806}, {\"run_id\": \"AutoML_8132042c-c606-4d2c-ae6a-f50d70b741ca_4\", \"run_number\": 9, \"metric\": null, \"status\": \"Completed\", \"run_type\": \"azureml.scriptrun\", \"training_percent\": \"100\", \"start_time\": \"2021-01-31T11:22:34.698312Z\", \"end_time\": \"2021-01-31T11:23:52.950312Z\", \"created_time\": \"2021-01-31T11:20:07.928683Z\", \"created_time_dt\": \"2021-01-31T11:20:07.928683Z\", \"duration\": \"0:03:45\", \"iteration\": \"4\", \"goal\": \"AUC_weighted_max\", \"run_name\": \"MinMaxScaler, RandomForest\", \"run_properties\": \"copy=True, feature_range=(0, 1\", \"primary_metric\": 0.97944469, \"best_metric\": 0.97944469}, {\"run_id\": \"AutoML_8132042c-c606-4d2c-ae6a-f50d70b741ca_5\", \"run_number\": 10, \"metric\": null, \"status\": \"Completed\", \"run_type\": \"azureml.scriptrun\", \"training_percent\": \"100\", \"start_time\": \"2021-01-31T11:22:43.084906Z\", \"end_time\": \"2021-01-31T11:25:07.31507Z\", \"created_time\": \"2021-01-31T11:21:24.749859Z\", \"created_time_dt\": \"2021-01-31T11:21:24.749859Z\", \"duration\": \"0:03:42\", \"iteration\": \"5\", \"goal\": \"AUC_weighted_max\", \"run_name\": \"MinMaxScaler, RandomForest\", \"run_properties\": \"copy=True, feature_range=(0, 1\", \"primary_metric\": 0.95746995, \"best_metric\": 0.97944469}, {\"run_id\": \"AutoML_8132042c-c606-4d2c-ae6a-f50d70b741ca_6\", \"run_number\": 11, \"metric\": null, \"status\": \"Completed\", \"run_type\": \"azureml.scriptrun\", \"training_percent\": \"100\", \"start_time\": \"2021-01-31T11:23:55.910581Z\", \"end_time\": \"2021-01-31T11:25:18.114834Z\", \"created_time\": \"2021-01-31T11:22:33.277544Z\", \"created_time_dt\": \"2021-01-31T11:22:33.277544Z\", \"duration\": \"0:02:44\", \"iteration\": \"6\", \"goal\": \"AUC_weighted_max\", \"run_name\": \"StandardScalerWrapper, RandomForest\", \"run_properties\": \"<azureml.automl.runtime.shared.model_wrappers.StandardScalerWrapper object at 0x7f62f7232400\", \"primary_metric\": 0.96389057, \"best_metric\": 0.97944469}, {\"run_id\": \"AutoML_8132042c-c606-4d2c-ae6a-f50d70b741ca_7\", \"run_number\": 12, \"metric\": null, \"status\": \"Completed\", \"run_type\": \"azureml.scriptrun\", \"training_percent\": \"100\", \"start_time\": \"2021-01-31T11:25:08.674551Z\", \"end_time\": \"2021-01-31T11:26:09.057815Z\", \"created_time\": \"2021-01-31T11:23:58.27187Z\", \"created_time_dt\": \"2021-01-31T11:23:58.27187Z\", \"duration\": \"0:02:10\", \"iteration\": \"7\", \"goal\": \"AUC_weighted_max\", \"run_name\": \"MinMaxScaler, ExtremeRandomTrees\", \"run_properties\": \"copy=True, feature_range=(0, 1\", \"primary_metric\": 0.97586257, \"best_metric\": 0.97944469}, {\"run_id\": \"AutoML_8132042c-c606-4d2c-ae6a-f50d70b741ca_8\", \"run_number\": 13, \"metric\": null, \"status\": \"Completed\", \"run_type\": \"azureml.scriptrun\", \"training_percent\": \"100\", \"start_time\": \"2021-01-31T11:25:19.836172Z\", \"end_time\": \"2021-01-31T11:26:23.044921Z\", \"created_time\": \"2021-01-31T11:25:09.866929Z\", \"created_time_dt\": \"2021-01-31T11:25:09.866929Z\", \"duration\": \"0:01:13\", \"iteration\": \"8\", \"goal\": \"AUC_weighted_max\", \"run_name\": \"MinMaxScaler, ExtremeRandomTrees\", \"run_properties\": \"copy=True, feature_range=(0, 1\", \"primary_metric\": 0.95336241, \"best_metric\": 0.97944469}, {\"run_id\": \"AutoML_8132042c-c606-4d2c-ae6a-f50d70b741ca_9\", \"run_number\": 14, \"metric\": null, \"status\": \"Completed\", \"run_type\": \"azureml.scriptrun\", \"training_percent\": \"100\", \"start_time\": \"2021-01-31T11:25:26.273582Z\", \"end_time\": \"2021-01-31T11:26:28.697675Z\", \"created_time\": \"2021-01-31T11:25:13.687196Z\", \"created_time_dt\": \"2021-01-31T11:25:13.687196Z\", \"duration\": \"0:01:15\", \"iteration\": \"9\", \"goal\": \"AUC_weighted_max\", \"run_name\": \"MinMaxScaler, ExtremeRandomTrees\", \"run_properties\": \"copy=True, feature_range=(0, 1\", \"primary_metric\": 0.94473351, \"best_metric\": 0.97944469}, {\"run_id\": \"AutoML_8132042c-c606-4d2c-ae6a-f50d70b741ca_10\", \"run_number\": 15, \"metric\": null, \"status\": \"Completed\", \"run_type\": \"azureml.scriptrun\", \"training_percent\": \"100\", \"start_time\": \"2021-01-31T11:26:04.08846Z\", \"end_time\": \"2021-01-31T11:27:06.912888Z\", \"created_time\": \"2021-01-31T11:25:21.191178Z\", \"created_time_dt\": \"2021-01-31T11:25:21.191178Z\", \"duration\": \"0:01:45\", \"iteration\": \"10\", \"goal\": \"AUC_weighted_max\", \"run_name\": \"RobustScaler, ExtremeRandomTrees\", \"run_properties\": \"copy=True, quantile_range=[10, 90], with_centering=True,\\n             with_scaling=False\", \"primary_metric\": 0.95367178, \"best_metric\": 0.97944469}, {\"run_id\": \"AutoML_8132042c-c606-4d2c-ae6a-f50d70b741ca_11\", \"run_number\": 16, \"metric\": null, \"status\": \"Completed\", \"run_type\": \"azureml.scriptrun\", \"training_percent\": \"100\", \"start_time\": \"2021-01-31T11:26:20.244489Z\", \"end_time\": \"2021-01-31T11:27:45.973465Z\", \"created_time\": \"2021-01-31T11:26:09.745208Z\", \"created_time_dt\": \"2021-01-31T11:26:09.745208Z\", \"duration\": \"0:01:36\", \"iteration\": \"11\", \"goal\": \"AUC_weighted_max\", \"run_name\": \"StandardScalerWrapper, RandomForest\", \"run_properties\": \"<azureml.automl.runtime.shared.model_wrappers.StandardScalerWrapper object at 0x7ff57efb0828\", \"primary_metric\": 0.97438464, \"best_metric\": 0.97944469}, {\"run_id\": \"AutoML_8132042c-c606-4d2c-ae6a-f50d70b741ca_12\", \"run_number\": 17, \"metric\": null, \"status\": \"Completed\", \"run_type\": \"azureml.scriptrun\", \"training_percent\": \"100\", \"start_time\": \"2021-01-31T11:26:26.185283Z\", \"end_time\": \"2021-01-31T11:27:29.96788Z\", \"created_time\": \"2021-01-31T11:26:15.777648Z\", \"created_time_dt\": \"2021-01-31T11:26:15.777648Z\", \"duration\": \"0:01:14\", \"iteration\": \"12\", \"goal\": \"AUC_weighted_max\", \"run_name\": \"StandardScalerWrapper, SGD\", \"run_properties\": \"<azureml.automl.runtime.shared.model_wrappers.StandardScalerWrapper object at 0x7f476f6337f0\", \"primary_metric\": 0.95799036, \"best_metric\": 0.97944469}, {\"run_id\": \"AutoML_8132042c-c606-4d2c-ae6a-f50d70b741ca_13\", \"run_number\": 18, \"metric\": null, \"status\": \"Completed\", \"run_type\": \"azureml.scriptrun\", \"training_percent\": \"100\", \"start_time\": \"2021-01-31T11:26:40.407201Z\", \"end_time\": \"2021-01-31T11:27:55.280765Z\", \"created_time\": \"2021-01-31T11:26:26.969632Z\", \"created_time_dt\": \"2021-01-31T11:26:26.969632Z\", \"duration\": \"0:01:28\", \"iteration\": \"13\", \"goal\": \"AUC_weighted_max\", \"run_name\": \"RobustScaler, RandomForest\", \"run_properties\": \"copy=True, quantile_range=[10, 90], with_centering=True,\\n             with_scaling=False\", \"primary_metric\": 0.96749997, \"best_metric\": 0.97944469}, {\"run_id\": \"AutoML_8132042c-c606-4d2c-ae6a-f50d70b741ca_14\", \"run_number\": 19, \"metric\": null, \"status\": \"Completed\", \"run_type\": \"azureml.scriptrun\", \"training_percent\": \"100\", \"start_time\": \"2021-01-31T11:27:10.227806Z\", \"end_time\": \"2021-01-31T11:28:18.168777Z\", \"created_time\": \"2021-01-31T11:26:33.084265Z\", \"created_time_dt\": \"2021-01-31T11:26:33.084265Z\", \"duration\": \"0:01:45\", \"iteration\": \"14\", \"goal\": \"AUC_weighted_max\", \"run_name\": \"MinMaxScaler, RandomForest\", \"run_properties\": \"copy=True, feature_range=(0, 1\", \"primary_metric\": 0.95855597, \"best_metric\": 0.97944469}, {\"run_id\": \"AutoML_8132042c-c606-4d2c-ae6a-f50d70b741ca_15\", \"run_number\": 20, \"metric\": null, \"status\": \"Completed\", \"run_type\": \"azureml.scriptrun\", \"training_percent\": \"100\", \"start_time\": \"2021-01-31T11:27:32.284489Z\", \"end_time\": \"2021-01-31T11:28:32.553924Z\", \"created_time\": \"2021-01-31T11:27:10.332729Z\", \"created_time_dt\": \"2021-01-31T11:27:10.332729Z\", \"duration\": \"0:01:22\", \"iteration\": \"15\", \"goal\": \"AUC_weighted_max\", \"run_name\": \"MinMaxScaler, ExtremeRandomTrees\", \"run_properties\": \"copy=True, feature_range=(0, 1\", \"primary_metric\": 0.94530846, \"best_metric\": 0.97944469}, {\"run_id\": \"AutoML_8132042c-c606-4d2c-ae6a-f50d70b741ca_16\", \"run_number\": 21, \"metric\": null, \"status\": \"Completed\", \"run_type\": \"azureml.scriptrun\", \"training_percent\": \"100\", \"start_time\": \"2021-01-31T11:27:51.41573Z\", \"end_time\": \"2021-01-31T11:28:56.252369Z\", \"created_time\": \"2021-01-31T11:27:34.353465Z\", \"created_time_dt\": \"2021-01-31T11:27:34.353465Z\", \"duration\": \"0:01:21\", \"iteration\": \"16\", \"goal\": \"AUC_weighted_max\", \"run_name\": \"MaxAbsScaler, RandomForest\", \"run_properties\": \"copy=True\", \"primary_metric\": 0.9556579, \"best_metric\": 0.97944469}, {\"run_id\": \"AutoML_8132042c-c606-4d2c-ae6a-f50d70b741ca_17\", \"run_number\": 22, \"metric\": null, \"status\": \"Completed\", \"run_type\": \"azureml.scriptrun\", \"training_percent\": \"100\", \"start_time\": \"2021-01-31T11:28:04.139288Z\", \"end_time\": \"2021-01-31T11:29:04.288814Z\", \"created_time\": \"2021-01-31T11:27:49.890728Z\", \"created_time_dt\": \"2021-01-31T11:27:49.890728Z\", \"duration\": \"0:01:14\", \"iteration\": \"17\", \"goal\": \"AUC_weighted_max\", \"run_name\": \"StandardScalerWrapper, XGBoostClassifier\", \"run_properties\": \"<azureml.automl.runtime.shared.model_wrappers.StandardScalerWrapper object at 0x7fead4c3bda0\", \"primary_metric\": 0.97200661, \"best_metric\": 0.97944469}, {\"run_id\": \"AutoML_8132042c-c606-4d2c-ae6a-f50d70b741ca_18\", \"run_number\": 23, \"metric\": null, \"status\": \"Completed\", \"run_type\": \"azureml.scriptrun\", \"training_percent\": \"100\", \"start_time\": \"2021-01-31T11:28:20.610233Z\", \"end_time\": \"2021-01-31T11:29:29.480606Z\", \"created_time\": \"2021-01-31T11:27:58.15569Z\", \"created_time_dt\": \"2021-01-31T11:27:58.15569Z\", \"duration\": \"0:01:31\", \"iteration\": \"18\", \"goal\": \"AUC_weighted_max\", \"run_name\": \"MaxAbsScaler, RandomForest\", \"run_properties\": \"copy=True\", \"primary_metric\": 0.94499371, \"best_metric\": 0.97944469}, {\"run_id\": \"AutoML_8132042c-c606-4d2c-ae6a-f50d70b741ca_19\", \"run_number\": 24, \"metric\": null, \"status\": \"Completed\", \"run_type\": \"azureml.scriptrun\", \"training_percent\": \"100\", \"start_time\": \"2021-01-31T11:28:37.41874Z\", \"end_time\": \"2021-01-31T11:29:42.609171Z\", \"created_time\": \"2021-01-31T11:28:21.62308Z\", \"created_time_dt\": \"2021-01-31T11:28:21.62308Z\", \"duration\": \"0:01:20\", \"iteration\": \"19\", \"goal\": \"AUC_weighted_max\", \"run_name\": \"MaxAbsScaler, ExtremeRandomTrees\", \"run_properties\": \"copy=True\", \"primary_metric\": 0.94509528, \"best_metric\": 0.97944469}, {\"run_id\": \"AutoML_8132042c-c606-4d2c-ae6a-f50d70b741ca_20\", \"run_number\": 25, \"metric\": null, \"status\": \"Completed\", \"run_type\": \"azureml.scriptrun\", \"training_percent\": \"100\", \"start_time\": \"2021-01-31T11:28:59.106579Z\", \"end_time\": \"2021-01-31T11:30:03.46347Z\", \"created_time\": \"2021-01-31T11:28:36.128935Z\", \"created_time_dt\": \"2021-01-31T11:28:36.128935Z\", \"duration\": \"0:01:27\", \"iteration\": \"20\", \"goal\": \"AUC_weighted_max\", \"run_name\": \"MaxAbsScaler, ExtremeRandomTrees\", \"run_properties\": \"copy=True\", \"primary_metric\": 0.94133479, \"best_metric\": 0.97944469}, {\"run_id\": \"AutoML_8132042c-c606-4d2c-ae6a-f50d70b741ca_21\", \"run_number\": 26, \"metric\": null, \"status\": \"Completed\", \"run_type\": \"azureml.scriptrun\", \"training_percent\": \"100\", \"start_time\": \"2021-01-31T11:29:13.078371Z\", \"end_time\": \"2021-01-31T11:33:28.992459Z\", \"created_time\": \"2021-01-31T11:28:59.320853Z\", \"created_time_dt\": \"2021-01-31T11:28:59.320853Z\", \"duration\": \"0:04:29\", \"iteration\": \"21\", \"goal\": \"AUC_weighted_max\", \"run_name\": \"MinMaxScaler, ExtremeRandomTrees\", \"run_properties\": \"copy=True, feature_range=(0, 1\", \"primary_metric\": 0.96442353, \"best_metric\": 0.97944469}, {\"run_id\": \"AutoML_8132042c-c606-4d2c-ae6a-f50d70b741ca_22\", \"run_number\": 27, \"metric\": null, \"status\": \"Completed\", \"run_type\": \"azureml.scriptrun\", \"training_percent\": \"100\", \"start_time\": \"2021-01-31T11:29:32.719372Z\", \"end_time\": \"2021-01-31T11:32:49.218673Z\", \"created_time\": \"2021-01-31T11:29:06.723507Z\", \"created_time_dt\": \"2021-01-31T11:29:06.723507Z\", \"duration\": \"0:03:42\", \"iteration\": \"22\", \"goal\": \"AUC_weighted_max\", \"run_name\": \"StandardScalerWrapper, XGBoostClassifier\", \"run_properties\": \"<azureml.automl.runtime.shared.model_wrappers.StandardScalerWrapper object at 0x7f4b4fecc128\", \"primary_metric\": 0.97886077, \"best_metric\": 0.97944469}, {\"run_id\": \"AutoML_8132042c-c606-4d2c-ae6a-f50d70b741ca_23\", \"run_number\": 28, \"metric\": null, \"status\": \"Completed\", \"run_type\": \"azureml.scriptrun\", \"training_percent\": \"100\", \"start_time\": \"2021-01-31T11:29:47.529907Z\", \"end_time\": \"2021-01-31T11:31:30.353245Z\", \"created_time\": \"2021-01-31T11:29:31.934277Z\", \"created_time_dt\": \"2021-01-31T11:29:31.934277Z\", \"duration\": \"0:01:58\", \"iteration\": \"23\", \"goal\": \"AUC_weighted_max\", \"run_name\": \"StandardScalerWrapper, XGBoostClassifier\", \"run_properties\": \"<azureml.automl.runtime.shared.model_wrappers.StandardScalerWrapper object at 0x7fb16be9cb38\", \"primary_metric\": 0.97361194, \"best_metric\": 0.97944469}, {\"run_id\": \"AutoML_8132042c-c606-4d2c-ae6a-f50d70b741ca_24\", \"run_number\": 29, \"metric\": null, \"status\": \"Completed\", \"run_type\": \"azureml.scriptrun\", \"training_percent\": \"100\", \"start_time\": \"2021-01-31T11:30:05.099382Z\", \"end_time\": \"2021-01-31T11:31:59.496231Z\", \"created_time\": \"2021-01-31T11:29:44.409385Z\", \"created_time_dt\": \"2021-01-31T11:29:44.409385Z\", \"duration\": \"0:02:15\", \"iteration\": \"24\", \"goal\": \"AUC_weighted_max\", \"run_name\": \"StandardScalerWrapper, XGBoostClassifier\", \"run_properties\": \"<azureml.automl.runtime.shared.model_wrappers.StandardScalerWrapper object at 0x7fedaacc1048\", \"primary_metric\": 0.96812732, \"best_metric\": 0.97944469}, {\"run_id\": \"AutoML_8132042c-c606-4d2c-ae6a-f50d70b741ca_25\", \"run_number\": 30, \"metric\": null, \"status\": \"Completed\", \"run_type\": \"azureml.scriptrun\", \"training_percent\": \"100\", \"start_time\": \"2021-01-31T11:31:35.516584Z\", \"end_time\": \"2021-01-31T11:32:45.388794Z\", \"created_time\": \"2021-01-31T11:30:06.835076Z\", \"created_time_dt\": \"2021-01-31T11:30:06.835076Z\", \"duration\": \"0:02:38\", \"iteration\": \"25\", \"goal\": \"AUC_weighted_max\", \"run_name\": \"MinMaxScaler, RandomForest\", \"run_properties\": \"copy=True, feature_range=(0, 1\", \"primary_metric\": 0.96403341, \"best_metric\": 0.97944469}, {\"run_id\": \"AutoML_8132042c-c606-4d2c-ae6a-f50d70b741ca_26\", \"run_number\": 31, \"metric\": null, \"status\": \"Completed\", \"run_type\": \"azureml.scriptrun\", \"training_percent\": \"100\", \"start_time\": \"2021-01-31T11:32:01.713103Z\", \"end_time\": \"2021-01-31T11:33:01.900557Z\", \"created_time\": \"2021-01-31T11:31:34.790287Z\", \"created_time_dt\": \"2021-01-31T11:31:34.790287Z\", \"duration\": \"0:01:27\", \"iteration\": \"26\", \"goal\": \"AUC_weighted_max\", \"run_name\": \"SparseNormalizer, XGBoostClassifier\", \"run_properties\": \"<azureml.automl.runtime.shared.model_wrappers.SparseNormalizer object at 0x7fe221393470\", \"primary_metric\": 0.95262093, \"best_metric\": 0.97944469}, {\"run_id\": \"AutoML_8132042c-c606-4d2c-ae6a-f50d70b741ca_27\", \"run_number\": 32, \"metric\": null, \"status\": \"Completed\", \"run_type\": \"azureml.scriptrun\", \"training_percent\": \"100\", \"start_time\": \"2021-01-31T11:32:49.249436Z\", \"end_time\": \"2021-01-31T11:34:00.765256Z\", \"created_time\": \"2021-01-31T11:32:01.968776Z\", \"created_time_dt\": \"2021-01-31T11:32:01.968776Z\", \"duration\": \"0:01:58\", \"iteration\": \"27\", \"goal\": \"AUC_weighted_max\", \"run_name\": \"MinMaxScaler, LightGBM\", \"run_properties\": \"copy=True, feature_range=(0, 1\", \"primary_metric\": 0.97749302, \"best_metric\": 0.97944469}, {\"run_id\": \"AutoML_8132042c-c606-4d2c-ae6a-f50d70b741ca_28\", \"run_number\": 33, \"metric\": null, \"status\": \"Completed\", \"run_type\": \"azureml.scriptrun\", \"training_percent\": \"100\", \"start_time\": \"2021-01-31T11:33:00.79411Z\", \"end_time\": \"2021-01-31T11:34:18.081022Z\", \"created_time\": \"2021-01-31T11:32:47.516162Z\", \"created_time_dt\": \"2021-01-31T11:32:47.516162Z\", \"duration\": \"0:01:30\", \"iteration\": \"28\", \"goal\": \"AUC_weighted_max\", \"run_name\": \"TruncatedSVDWrapper, XGBoostClassifier\", \"run_properties\": \"n_components=0.95, random_state=None\", \"primary_metric\": 0.97609836, \"best_metric\": 0.97944469}, {\"run_id\": \"AutoML_8132042c-c606-4d2c-ae6a-f50d70b741ca_29\", \"run_number\": 34, \"metric\": null, \"status\": \"Completed\", \"run_type\": \"azureml.scriptrun\", \"training_percent\": \"100\", \"start_time\": \"2021-01-31T11:33:06.832225Z\", \"end_time\": \"2021-01-31T11:34:27.505758Z\", \"created_time\": \"2021-01-31T11:32:52.689047Z\", \"created_time_dt\": \"2021-01-31T11:32:52.689047Z\", \"duration\": \"0:01:34\", \"iteration\": \"29\", \"goal\": \"AUC_weighted_max\", \"run_name\": \"MaxAbsScaler, ExtremeRandomTrees\", \"run_properties\": \"copy=True\", \"primary_metric\": 0.956441, \"best_metric\": 0.97944469}, {\"run_id\": \"AutoML_8132042c-c606-4d2c-ae6a-f50d70b741ca_30\", \"run_number\": 35, \"metric\": null, \"status\": \"Completed\", \"run_type\": \"azureml.scriptrun\", \"training_percent\": \"100\", \"start_time\": \"2021-01-31T11:33:28.756939Z\", \"end_time\": \"2021-01-31T11:34:32.674087Z\", \"created_time\": \"2021-01-31T11:33:05.140817Z\", \"created_time_dt\": \"2021-01-31T11:33:05.140817Z\", \"duration\": \"0:01:27\", \"iteration\": \"30\", \"goal\": \"AUC_weighted_max\", \"run_name\": \"TruncatedSVDWrapper, RandomForest\", \"run_properties\": \"n_components=0.45526315789473687, random_state=None\", \"primary_metric\": 0.92238337, \"best_metric\": 0.97944469}, {\"run_id\": \"AutoML_8132042c-c606-4d2c-ae6a-f50d70b741ca_31\", \"run_number\": 36, \"metric\": null, \"status\": \"Completed\", \"run_type\": \"azureml.scriptrun\", \"training_percent\": \"100\", \"start_time\": \"2021-01-31T11:34:05.707386Z\", \"end_time\": \"2021-01-31T11:35:47.854624Z\", \"created_time\": \"2021-01-31T11:33:31.117751Z\", \"created_time_dt\": \"2021-01-31T11:33:31.117751Z\", \"duration\": \"0:02:16\", \"iteration\": \"31\", \"goal\": \"AUC_weighted_max\", \"run_name\": \"TruncatedSVDWrapper, XGBoostClassifier\", \"run_properties\": \"n_components=0.6036842105263158, random_state=None\", \"primary_metric\": 0.96172967, \"best_metric\": 0.97944469}, {\"run_id\": \"AutoML_8132042c-c606-4d2c-ae6a-f50d70b741ca_32\", \"run_number\": 37, \"metric\": null, \"status\": \"Canceled\", \"run_type\": \"azureml.scriptrun\", \"training_percent\": \"100\", \"start_time\": \"2021-01-31T11:34:24.017408Z\", \"end_time\": \"2021-01-31T11:35:58.325852Z\", \"created_time\": \"2021-01-31T11:34:03.560126Z\", \"created_time_dt\": \"2021-01-31T11:34:03.560126Z\", \"duration\": \"0:01:54\", \"iteration\": \"32\", \"goal\": null, \"run_name\": \"TruncatedSVDWrapper, XGBoostClassifier\", \"run_properties\": null}, {\"run_id\": \"AutoML_8132042c-c606-4d2c-ae6a-f50d70b741ca_33\", \"run_number\": 38, \"metric\": null, \"status\": \"Completed\", \"run_type\": \"azureml.scriptrun\", \"training_percent\": \"100\", \"start_time\": \"2021-01-31T11:34:33.630939Z\", \"end_time\": \"2021-01-31T11:35:37.644456Z\", \"created_time\": \"2021-01-31T11:34:20.320817Z\", \"created_time_dt\": \"2021-01-31T11:34:20.320817Z\", \"duration\": \"0:01:17\", \"iteration\": \"33\", \"goal\": \"AUC_weighted_max\", \"run_name\": \"MinMaxScaler, LightGBM\", \"run_properties\": \"copy=True, feature_range=(0, 1\", \"primary_metric\": 0.96861147, \"best_metric\": 0.97944469}, {\"run_id\": \"AutoML_8132042c-c606-4d2c-ae6a-f50d70b741ca_34\", \"run_number\": 39, \"metric\": null, \"status\": \"Completed\", \"run_type\": \"azureml.scriptrun\", \"training_percent\": \"100\", \"start_time\": \"2021-01-31T11:34:42.366755Z\", \"end_time\": \"2021-01-31T11:35:42.464695Z\", \"created_time\": \"2021-01-31T11:34:29.782889Z\", \"created_time_dt\": \"2021-01-31T11:34:29.782889Z\", \"duration\": \"0:01:12\", \"iteration\": \"34\", \"goal\": \"AUC_weighted_max\", \"run_name\": \"MinMaxScaler, LightGBM\", \"run_properties\": \"copy=True, feature_range=(0, 1\", \"primary_metric\": 0.97435413, \"best_metric\": 0.97944469}, {\"run_id\": \"AutoML_8132042c-c606-4d2c-ae6a-f50d70b741ca_35\", \"run_number\": 40, \"metric\": null, \"status\": \"Canceled\", \"run_type\": \"azureml.scriptrun\", \"training_percent\": \"100\", \"start_time\": \"2021-01-31T11:35:40.887553Z\", \"end_time\": \"2021-01-31T11:35:58.761982Z\", \"created_time\": \"2021-01-31T11:34:36.399051Z\", \"created_time_dt\": \"2021-01-31T11:34:36.399051Z\", \"duration\": \"0:01:22\", \"iteration\": \"35\", \"goal\": null, \"run_name\": \"Canceled\", \"run_properties\": null}, {\"run_id\": \"AutoML_8132042c-c606-4d2c-ae6a-f50d70b741ca_36\", \"run_number\": 41, \"metric\": null, \"status\": \"Canceled\", \"run_type\": \"azureml.scriptrun\", \"training_percent\": \"100\", \"start_time\": \"2021-01-31T11:35:39.719961Z\", \"end_time\": \"2021-01-31T11:35:58.785363Z\", \"created_time\": \"2021-01-31T11:35:39.719961Z\", \"created_time_dt\": \"2021-01-31T11:35:39.719961Z\", \"duration\": \"0:00:19\", \"iteration\": \"36\", \"goal\": null, \"run_name\": \"Canceled\", \"run_properties\": null}, {\"run_id\": \"AutoML_8132042c-c606-4d2c-ae6a-f50d70b741ca_37\", \"run_number\": 42, \"metric\": null, \"status\": \"Canceled\", \"run_type\": \"azureml.scriptrun\", \"training_percent\": \"100\", \"start_time\": \"2021-01-31T11:35:46.201629Z\", \"end_time\": \"2021-01-31T11:36:02.55674Z\", \"created_time\": \"2021-01-31T11:35:46.201629Z\", \"created_time_dt\": \"2021-01-31T11:35:46.201629Z\", \"duration\": \"0:00:16\", \"iteration\": \"37\", \"goal\": null, \"run_name\": \"Canceled\", \"run_properties\": null}, {\"run_id\": \"AutoML_8132042c-c606-4d2c-ae6a-f50d70b741ca_38\", \"run_number\": 43, \"metric\": null, \"status\": \"Completed\", \"run_type\": \"azureml.scriptrun\", \"training_percent\": \"100\", \"start_time\": \"2021-01-31T11:36:16.609487Z\", \"end_time\": \"2021-01-31T11:37:53.892211Z\", \"created_time\": \"2021-01-31T11:36:04.875071Z\", \"created_time_dt\": \"2021-01-31T11:36:04.875071Z\", \"duration\": \"0:01:49\", \"iteration\": \"38\", \"goal\": \"AUC_weighted_max\", \"run_name\": \"VotingEnsemble\", \"run_properties\": \"classification_labels=None,\\n                              estimators=[('4',\\n                                           Pipeline(memory=None,\\n                                                    steps=[('minmaxscaler',\\n                                                            MinMaxScaler(copy=True,\\n                                                                         feature_range=(0,\\n                                                                                        1\", \"primary_metric\": 0.98224837, \"best_metric\": 0.98224837}, {\"run_id\": \"AutoML_8132042c-c606-4d2c-ae6a-f50d70b741ca_39\", \"run_number\": 44, \"metric\": null, \"status\": \"Completed\", \"run_type\": \"azureml.scriptrun\", \"training_percent\": \"100\", \"start_time\": \"2021-01-31T11:36:15.774326Z\", \"end_time\": \"2021-01-31T11:40:49.584185Z\", \"created_time\": \"2021-01-31T11:36:05.014324Z\", \"created_time_dt\": \"2021-01-31T11:36:05.014324Z\", \"duration\": \"0:04:44\", \"iteration\": \"39\", \"goal\": \"AUC_weighted_max\", \"run_name\": \"StackEnsemble\", \"run_properties\": \"base_learners=[('4',\\n                                        Pipeline(memory=None,\\n                                                 steps=[('minmaxscaler',\\n                                                         MinMaxScaler(copy=True,\\n                                                                      feature_range=(0,\\n                                                                                     1\", \"primary_metric\": 0.98066493, \"best_metric\": 0.98224837}], \"children_metrics\": {\"categories\": [0], \"series\": {\"precision_score_macro\": [{\"categories\": [\"0\", \"1\", \"2\", \"3\", \"4\", \"5\", \"6\", \"7\", \"8\", \"9\", \"10\", \"11\", \"12\", \"13\", \"14\", \"15\", \"16\", \"17\", \"18\", \"19\", \"20\", \"21\", \"22\", \"23\", \"24\", \"25\", \"26\", \"27\", \"28\", \"29\", \"30\", \"31\", \"33\", \"34\", \"38\", \"39\"], \"mode\": \"markers\", \"name\": \"precision_score_macro\", \"stepped\": false, \"type\": \"scatter\", \"data\": [0.9182266603884097, 0.5923484572811528, 0.5191083470663534, 0.5446511729514643, 0.5091105949193918, 0.5183802637282982, 0.5326969895249379, 0.5187236894464574, 0.5314531205061835, 0.5286980884540983, 0.5454593621520141, 0.501187706030638, 0.5086879170829622, 0.5030598400482743, 0.5224513558340522, 0.0008602226045433798, 0.0008602226045433798, 0.5627499043196869, 0.5318428890087263, 0.5008622510030267, 0.0008602226045433798, 0.0008602226045433798, 0.9018200878663107, 0.7726040506458758, 0.7927163523182671, 0.5012466290133821, 0.6226833863181443, 0.7893856715367014, 0.5478009399043081, 0.0008602226045433798, 0.0008602226045433798, 0.6570546457177133, 0.7998768082784837, 0.5472970077840463, 0.5667804972744571, 0.53025134948226]}, {\"categories\": [\"0\", \"1\", \"2\", \"3\", \"4\", \"5\", \"6\", \"7\", \"8\", \"9\", \"10\", \"11\", \"12\", \"13\", \"14\", \"15\", \"16\", \"17\", \"18\", \"19\", \"20\", \"21\", \"22\", \"23\", \"24\", \"25\", \"26\", \"27\", \"28\", \"29\", \"30\", \"31\", \"33\", \"34\", \"38\", \"39\"], \"mode\": \"lines\", \"name\": \"precision_score_macro_max\", \"stepped\": true, \"type\": \"scatter\", \"data\": [0.9182266603884097, 0.9182266603884097, 0.9182266603884097, 0.9182266603884097, 0.9182266603884097, 0.9182266603884097, 0.9182266603884097, 0.9182266603884097, 0.9182266603884097, 0.9182266603884097, 0.9182266603884097, 0.9182266603884097, 0.9182266603884097, 0.9182266603884097, 0.9182266603884097, 0.9182266603884097, 0.9182266603884097, 0.9182266603884097, 0.9182266603884097, 0.9182266603884097, 0.9182266603884097, 0.9182266603884097, 0.9182266603884097, 0.9182266603884097, 0.9182266603884097, 0.9182266603884097, 0.9182266603884097, 0.9182266603884097, 0.9182266603884097, 0.9182266603884097, 0.9182266603884097, 0.9182266603884097, 0.9182266603884097, 0.9182266603884097, 0.9182266603884097, 0.9182266603884097]}], \"f1_score_macro\": [{\"categories\": [\"0\", \"1\", \"2\", \"3\", \"4\", \"5\", \"6\", \"7\", \"8\", \"9\", \"10\", \"11\", \"12\", \"13\", \"14\", \"15\", \"16\", \"17\", \"18\", \"19\", \"20\", \"21\", \"22\", \"23\", \"24\", \"25\", \"26\", \"27\", \"28\", \"29\", \"30\", \"31\", \"33\", \"34\", \"38\", \"39\"], \"mode\": \"markers\", \"name\": \"f1_score_macro\", \"stepped\": false, \"type\": \"scatter\", \"data\": [0.9182266603884097, 0.651554480356701, 0.5266705894857877, 0.5772365626203058, 0.49590806605331267, 0.525146840710393, 0.555492534246846, 0.5257415300502998, 0.5532233302935738, 0.5480207713056428, 0.5787726892990052, 0.2187953030379155, 0.49396185399902826, 0.4300167348108018, 0.5347297542156574, 0.0017174903610234842, 0.0017174903610234842, 0.6070182512891122, 0.553775065104904, 0.004072492901360339, 0.0017174903610234842, 0.0017174903610234842, 0.9098417220639443, 0.8329638492035564, 0.8442123572860349, 0.2394167404580531, 0.6897106840852214, 0.8516745078030157, 0.5829049082101243, 0.0017174903610234842, 0.0017174903610234842, 0.731914725467999, 0.8526333109462493, 0.5820329354186949, 0.613839554547175, 0.5506501379738018]}, {\"categories\": [\"0\", \"1\", \"2\", \"3\", \"4\", \"5\", \"6\", \"7\", \"8\", \"9\", \"10\", \"11\", \"12\", \"13\", \"14\", \"15\", \"16\", \"17\", \"18\", \"19\", \"20\", \"21\", \"22\", \"23\", \"24\", \"25\", \"26\", \"27\", \"28\", \"29\", \"30\", \"31\", \"33\", \"34\", \"38\", \"39\"], \"mode\": \"lines\", \"name\": \"f1_score_macro_max\", \"stepped\": true, \"type\": \"scatter\", \"data\": [0.9182266603884097, 0.9182266603884097, 0.9182266603884097, 0.9182266603884097, 0.9182266603884097, 0.9182266603884097, 0.9182266603884097, 0.9182266603884097, 0.9182266603884097, 0.9182266603884097, 0.9182266603884097, 0.9182266603884097, 0.9182266603884097, 0.9182266603884097, 0.9182266603884097, 0.9182266603884097, 0.9182266603884097, 0.9182266603884097, 0.9182266603884097, 0.9182266603884097, 0.9182266603884097, 0.9182266603884097, 0.9182266603884097, 0.9182266603884097, 0.9182266603884097, 0.9182266603884097, 0.9182266603884097, 0.9182266603884097, 0.9182266603884097, 0.9182266603884097, 0.9182266603884097, 0.9182266603884097, 0.9182266603884097, 0.9182266603884097, 0.9182266603884097, 0.9182266603884097]}], \"average_precision_score_micro\": [{\"categories\": [\"0\", \"1\", \"2\", \"3\", \"4\", \"5\", \"6\", \"7\", \"8\", \"9\", \"10\", \"11\", \"12\", \"13\", \"14\", \"15\", \"16\", \"17\", \"18\", \"19\", \"20\", \"21\", \"22\", \"23\", \"24\", \"25\", \"26\", \"27\", \"28\", \"29\", \"30\", \"31\", \"33\", \"34\", \"38\", \"39\"], \"mode\": \"markers\", \"name\": \"average_precision_score_micro\", \"stepped\": false, \"type\": \"scatter\", \"data\": [0.9993073134574981, 0.9984471171966365, 0.9933073239946864, 0.9974250228026572, 0.9688585336606761, 0.993243739788746, 0.9976363919766384, 0.9940068181703176, 0.9970993676136215, 0.995163993055041, 0.9976705451535517, 0.3418724309786776, 0.948591421091884, 0.7490219518565204, 0.9957646589305356, 0.30819562112918153, 0.30825123073570987, 0.9986409345019058, 0.9971092488329563, 0.30817647361372813, 0.3083294160353608, 0.3083576465016818, 0.9999218401712673, 0.999582092532218, 0.9997716110656898, 0.33943975340098254, 0.999289281136237, 0.9997728822356102, 0.9972450252263731, 0.3082553539570779, 0.3287832125491905, 0.9992103968891697, 0.9997436155802911, 0.9979982115792009, 0.9962227103649977, 0.9920882281166362]}, {\"categories\": [\"0\", \"1\", \"2\", \"3\", \"4\", \"5\", \"6\", \"7\", \"8\", \"9\", \"10\", \"11\", \"12\", \"13\", \"14\", \"15\", \"16\", \"17\", \"18\", \"19\", \"20\", \"21\", \"22\", \"23\", \"24\", \"25\", \"26\", \"27\", \"28\", \"29\", \"30\", \"31\", \"33\", \"34\", \"38\", \"39\"], \"mode\": \"lines\", \"name\": \"average_precision_score_micro_max\", \"stepped\": true, \"type\": \"scatter\", \"data\": [0.9993073134574981, 0.9993073134574981, 0.9993073134574981, 0.9993073134574981, 0.9993073134574981, 0.9993073134574981, 0.9993073134574981, 0.9993073134574981, 0.9993073134574981, 0.9993073134574981, 0.9993073134574981, 0.9993073134574981, 0.9993073134574981, 0.9993073134574981, 0.9993073134574981, 0.9993073134574981, 0.9993073134574981, 0.9993073134574981, 0.9993073134574981, 0.9993073134574981, 0.9993073134574981, 0.9993073134574981, 0.9999218401712673, 0.9999218401712673, 0.9999218401712673, 0.9999218401712673, 0.9999218401712673, 0.9999218401712673, 0.9999218401712673, 0.9999218401712673, 0.9999218401712673, 0.9999218401712673, 0.9999218401712673, 0.9999218401712673, 0.9999218401712673, 0.9999218401712673]}], \"recall_score_weighted\": [{\"categories\": [\"0\", \"1\", \"2\", \"3\", \"4\", \"5\", \"6\", \"7\", \"8\", \"9\", \"10\", \"11\", \"12\", \"13\", \"14\", \"15\", \"16\", \"17\", \"18\", \"19\", \"20\", \"21\", \"22\", \"23\", \"24\", \"25\", \"26\", \"27\", \"28\", \"29\", \"30\", \"31\", \"33\", \"34\", \"38\", \"39\"], \"mode\": \"markers\", \"name\": \"recall_score_weighted\", \"stepped\": false, \"type\": \"scatter\", \"data\": [0.9994382219725431, 0.9930128857835048, 0.9602542045574243, 0.9847617710052315, 0.9154524068677364, 0.9595519820231031, 0.9778097679154524, 0.9594115375162389, 0.9778799901688845, 0.9767564341139707, 0.984410659738071, 0.2774481233102771, 0.9113092939152417, 0.7360696604754047, 0.9678382079280924, 0.0017204452090867595, 0.0017204452090867595, 0.9895017731118991, 0.9766862118605386, 0.004072890699062533, 0.0017204452090867595, 0.0017204452090867595, 0.9993679997191109, 0.9985253326779256, 0.9987008883115059, 0.3116814718584319, 0.9952248867666164, 0.9987008883115059, 0.9849373266388118, 0.0017204452090867595, 0.0017204452090867595, 0.9964537762016783, 0.9987711105649381, 0.9847617710052315, 0.9898177732523437, 0.9753871001720446]}, {\"categories\": [\"0\", \"1\", \"2\", \"3\", \"4\", \"5\", \"6\", \"7\", \"8\", \"9\", \"10\", \"11\", \"12\", \"13\", \"14\", \"15\", \"16\", \"17\", \"18\", \"19\", \"20\", \"21\", \"22\", \"23\", \"24\", \"25\", \"26\", \"27\", \"28\", \"29\", \"30\", \"31\", \"33\", \"34\", \"38\", \"39\"], \"mode\": \"lines\", \"name\": \"recall_score_weighted_max\", \"stepped\": true, \"type\": \"scatter\", \"data\": [0.9994382219725431, 0.9994382219725431, 0.9994382219725431, 0.9994382219725431, 0.9994382219725431, 0.9994382219725431, 0.9994382219725431, 0.9994382219725431, 0.9994382219725431, 0.9994382219725431, 0.9994382219725431, 0.9994382219725431, 0.9994382219725431, 0.9994382219725431, 0.9994382219725431, 0.9994382219725431, 0.9994382219725431, 0.9994382219725431, 0.9994382219725431, 0.9994382219725431, 0.9994382219725431, 0.9994382219725431, 0.9994382219725431, 0.9994382219725431, 0.9994382219725431, 0.9994382219725431, 0.9994382219725431, 0.9994382219725431, 0.9994382219725431, 0.9994382219725431, 0.9994382219725431, 0.9994382219725431, 0.9994382219725431, 0.9994382219725431, 0.9994382219725431, 0.9994382219725431]}], \"average_precision_score_macro\": [{\"categories\": [\"0\", \"1\", \"2\", \"3\", \"4\", \"5\", \"6\", \"7\", \"8\", \"9\", \"10\", \"11\", \"12\", \"13\", \"14\", \"15\", \"16\", \"17\", \"18\", \"19\", \"20\", \"21\", \"22\", \"23\", \"24\", \"25\", \"26\", \"27\", \"28\", \"29\", \"30\", \"31\", \"33\", \"34\", \"38\", \"39\"], \"mode\": \"markers\", \"name\": \"average_precision_score_macro\", \"stepped\": false, \"type\": \"scatter\", \"data\": [0.9230587466456577, 0.900491774100895, 0.8413645554974922, 0.8201249382746945, 0.7976511909119863, 0.8303515306816612, 0.8536857142865335, 0.8801825526850161, 0.8564662019999898, 0.801218542029095, 0.8007362786011943, 0.824912445223636, 0.5417165604836482, 0.8413848670050106, 0.8175134772593251, 0.7905142330341108, 0.8127303216189042, 0.8566333408359506, 0.8663297522246733, 0.7854424833478609, 0.8269503438706516, 0.8427249034746185, 0.9381270125091334, 0.9095903800608298, 0.9157375531653302, 0.84340325478304, 0.8524463742384478, 0.9245303931551891, 0.8683304178564513, 0.8138099485042994, 0.7833808778877391, 0.8634688667657344, 0.9254188314518887, 0.8742544390740439, 0.925368916376593, 0.9241520003354782]}, {\"categories\": [\"0\", \"1\", \"2\", \"3\", \"4\", \"5\", \"6\", \"7\", \"8\", \"9\", \"10\", \"11\", \"12\", \"13\", \"14\", \"15\", \"16\", \"17\", \"18\", \"19\", \"20\", \"21\", \"22\", \"23\", \"24\", \"25\", \"26\", \"27\", \"28\", \"29\", \"30\", \"31\", \"33\", \"34\", \"38\", \"39\"], \"mode\": \"lines\", \"name\": \"average_precision_score_macro_max\", \"stepped\": true, \"type\": \"scatter\", \"data\": [0.9230587466456577, 0.9230587466456577, 0.9230587466456577, 0.9230587466456577, 0.9230587466456577, 0.9230587466456577, 0.9230587466456577, 0.9230587466456577, 0.9230587466456577, 0.9230587466456577, 0.9230587466456577, 0.9230587466456577, 0.9230587466456577, 0.9230587466456577, 0.9230587466456577, 0.9230587466456577, 0.9230587466456577, 0.9230587466456577, 0.9230587466456577, 0.9230587466456577, 0.9230587466456577, 0.9230587466456577, 0.9381270125091334, 0.9381270125091334, 0.9381270125091334, 0.9381270125091334, 0.9381270125091334, 0.9381270125091334, 0.9381270125091334, 0.9381270125091334, 0.9381270125091334, 0.9381270125091334, 0.9381270125091334, 0.9381270125091334, 0.9381270125091334, 0.9381270125091334]}], \"precision_score_micro\": [{\"categories\": [\"0\", \"1\", \"2\", \"3\", \"4\", \"5\", \"6\", \"7\", \"8\", \"9\", \"10\", \"11\", \"12\", \"13\", \"14\", \"15\", \"16\", \"17\", \"18\", \"19\", \"20\", \"21\", \"22\", \"23\", \"24\", \"25\", \"26\", \"27\", \"28\", \"29\", \"30\", \"31\", \"33\", \"34\", \"38\", \"39\"], \"mode\": \"markers\", \"name\": \"precision_score_micro\", \"stepped\": false, \"type\": \"scatter\", \"data\": [0.9994382219725431, 0.9930128857835048, 0.9602542045574243, 0.9847617710052315, 0.9154524068677364, 0.9595519820231031, 0.9778097679154524, 0.9594115375162389, 0.9778799901688845, 0.9767564341139707, 0.984410659738071, 0.277448123310277, 0.9113092939152417, 0.7360696604754047, 0.9678382079280924, 0.0017204452090867595, 0.0017204452090867595, 0.9895017731118991, 0.9766862118605386, 0.004072890699062533, 0.0017204452090867595, 0.0017204452090867595, 0.9993679997191109, 0.9985253326779256, 0.9987008883115059, 0.3116814718584319, 0.9952248867666164, 0.9987008883115059, 0.9849373266388118, 0.0017204452090867595, 0.0017204452090867595, 0.9964537762016783, 0.9987711105649381, 0.9847617710052315, 0.9898177732523437, 0.9753871001720446]}, {\"categories\": [\"0\", \"1\", \"2\", \"3\", \"4\", \"5\", \"6\", \"7\", \"8\", \"9\", \"10\", \"11\", \"12\", \"13\", \"14\", \"15\", \"16\", \"17\", \"18\", \"19\", \"20\", \"21\", \"22\", \"23\", \"24\", \"25\", \"26\", \"27\", \"28\", \"29\", \"30\", \"31\", \"33\", \"34\", \"38\", \"39\"], \"mode\": \"lines\", \"name\": \"precision_score_micro_max\", \"stepped\": true, \"type\": \"scatter\", \"data\": [0.9994382219725431, 0.9994382219725431, 0.9994382219725431, 0.9994382219725431, 0.9994382219725431, 0.9994382219725431, 0.9994382219725431, 0.9994382219725431, 0.9994382219725431, 0.9994382219725431, 0.9994382219725431, 0.9994382219725431, 0.9994382219725431, 0.9994382219725431, 0.9994382219725431, 0.9994382219725431, 0.9994382219725431, 0.9994382219725431, 0.9994382219725431, 0.9994382219725431, 0.9994382219725431, 0.9994382219725431, 0.9994382219725431, 0.9994382219725431, 0.9994382219725431, 0.9994382219725431, 0.9994382219725431, 0.9994382219725431, 0.9994382219725431, 0.9994382219725431, 0.9994382219725431, 0.9994382219725431, 0.9994382219725431, 0.9994382219725431, 0.9994382219725431, 0.9994382219725431]}], \"AUC_macro\": [{\"categories\": [\"0\", \"1\", \"2\", \"3\", \"4\", \"5\", \"6\", \"7\", \"8\", \"9\", \"10\", \"11\", \"12\", \"13\", \"14\", \"15\", \"16\", \"17\", \"18\", \"19\", \"20\", \"21\", \"22\", \"23\", \"24\", \"25\", \"26\", \"27\", \"28\", \"29\", \"30\", \"31\", \"33\", \"34\", \"38\", \"39\"], \"mode\": \"markers\", \"name\": \"AUC_macro\", \"stepped\": false, \"type\": \"scatter\", \"data\": [0.9251518840513133, 0.9735480573771433, 0.9582724409403605, 0.951185355965684, 0.9794446900876277, 0.9574699533724575, 0.9638905717042021, 0.9758625664672171, 0.9533624085537422, 0.9447335138332205, 0.9536717754068426, 0.9743846398998541, 0.9563293874105636, 0.9674999712884591, 0.9585559674066588, 0.9453084624395622, 0.9556578962479758, 0.972006606525559, 0.9449937121725449, 0.9450952792484467, 0.9413347851802509, 0.964423529681991, 0.9788605896776269, 0.9736119405556256, 0.968127318456927, 0.9640334116201348, 0.9526209330102329, 0.9774930230955634, 0.9760983599967843, 0.9564410035257773, 0.9223833737209008, 0.9617296693578952, 0.968611466815201, 0.9743541338876576, 0.9822483720556314, 0.9806649305754941]}, {\"categories\": [\"0\", \"1\", \"2\", \"3\", \"4\", \"5\", \"6\", \"7\", \"8\", \"9\", \"10\", \"11\", \"12\", \"13\", \"14\", \"15\", \"16\", \"17\", \"18\", \"19\", \"20\", \"21\", \"22\", \"23\", \"24\", \"25\", \"26\", \"27\", \"28\", \"29\", \"30\", \"31\", \"33\", \"34\", \"38\", \"39\"], \"mode\": \"lines\", \"name\": \"AUC_macro_max\", \"stepped\": true, \"type\": \"scatter\", \"data\": [0.9251518840513133, 0.9735480573771433, 0.9735480573771433, 0.9735480573771433, 0.9794446900876277, 0.9794446900876277, 0.9794446900876277, 0.9794446900876277, 0.9794446900876277, 0.9794446900876277, 0.9794446900876277, 0.9794446900876277, 0.9794446900876277, 0.9794446900876277, 0.9794446900876277, 0.9794446900876277, 0.9794446900876277, 0.9794446900876277, 0.9794446900876277, 0.9794446900876277, 0.9794446900876277, 0.9794446900876277, 0.9794446900876277, 0.9794446900876277, 0.9794446900876277, 0.9794446900876277, 0.9794446900876277, 0.9794446900876277, 0.9794446900876277, 0.9794446900876277, 0.9794446900876277, 0.9794446900876277, 0.9794446900876277, 0.9794446900876277, 0.9822483720556314, 0.9822483720556314]}], \"norm_macro_recall\": [{\"categories\": [\"0\", \"1\", \"2\", \"3\", \"4\", \"5\", \"6\", \"7\", \"8\", \"9\", \"10\", \"11\", \"12\", \"13\", \"14\", \"15\", \"16\", \"17\", \"18\", \"19\", \"20\", \"21\", \"22\", \"23\", \"24\", \"25\", \"26\", \"27\", \"28\", \"29\", \"30\", \"31\", \"33\", \"34\", \"38\", \"39\"], \"mode\": \"markers\", \"name\": \"norm_macro_recall\", \"stepped\": false, \"type\": \"scatter\", \"data\": [0.8364533207768194, 0.8911358859807288, 0.878693739735624, 0.8421245678913096, 0.8338147301689387, 0.8576173153560807, 0.8759065669036326, 0.8778496204334294, 0.8352309269233862, 0.7933594512650304, 0.8825188347708246, 0.2762028700056276, 0.829664476933148, 0.6948688169696691, 0.8455448301999473, 0.0, 0.0, 0.8468727389661548, 0.895154066128421, 0.0023564997186269476, 0.0, 0.0, 0.8363829775016365, 0.8559118498271565, 0.835714716387399, 0.31049521665728763, 0.8526057158935605, 0.896833691270543, 0.9034194009624108, 0.0, 0.0, 0.8945827064646905, 0.8561580512902967, 0.9032435427744536, 0.8879352669599072, 0.8938527155375375]}, {\"categories\": [\"0\", \"1\", \"2\", \"3\", \"4\", \"5\", \"6\", \"7\", \"8\", \"9\", \"10\", \"11\", \"12\", \"13\", \"14\", \"15\", \"16\", \"17\", \"18\", \"19\", \"20\", \"21\", \"22\", \"23\", \"24\", \"25\", \"26\", \"27\", \"28\", \"29\", \"30\", \"31\", \"33\", \"34\", \"38\", \"39\"], \"mode\": \"lines\", \"name\": \"norm_macro_recall_max\", \"stepped\": true, \"type\": \"scatter\", \"data\": [0.8364533207768194, 0.8911358859807288, 0.8911358859807288, 0.8911358859807288, 0.8911358859807288, 0.8911358859807288, 0.8911358859807288, 0.8911358859807288, 0.8911358859807288, 0.8911358859807288, 0.8911358859807288, 0.8911358859807288, 0.8911358859807288, 0.8911358859807288, 0.8911358859807288, 0.8911358859807288, 0.8911358859807288, 0.8911358859807288, 0.895154066128421, 0.895154066128421, 0.895154066128421, 0.895154066128421, 0.895154066128421, 0.895154066128421, 0.895154066128421, 0.895154066128421, 0.895154066128421, 0.896833691270543, 0.9034194009624108, 0.9034194009624108, 0.9034194009624108, 0.9034194009624108, 0.9034194009624108, 0.9034194009624108, 0.9034194009624108, 0.9034194009624108]}], \"recall_score_micro\": [{\"categories\": [\"0\", \"1\", \"2\", \"3\", \"4\", \"5\", \"6\", \"7\", \"8\", \"9\", \"10\", \"11\", \"12\", \"13\", \"14\", \"15\", \"16\", \"17\", \"18\", \"19\", \"20\", \"21\", \"22\", \"23\", \"24\", \"25\", \"26\", \"27\", \"28\", \"29\", \"30\", \"31\", \"33\", \"34\", \"38\", \"39\"], \"mode\": \"markers\", \"name\": \"recall_score_micro\", \"stepped\": false, \"type\": \"scatter\", \"data\": [0.9994382219725431, 0.9930128857835048, 0.9602542045574243, 0.9847617710052315, 0.9154524068677364, 0.9595519820231031, 0.9778097679154524, 0.9594115375162389, 0.9778799901688845, 0.9767564341139707, 0.984410659738071, 0.277448123310277, 0.9113092939152417, 0.7360696604754047, 0.9678382079280924, 0.0017204452090867595, 0.0017204452090867595, 0.9895017731118991, 0.9766862118605386, 0.004072890699062533, 0.0017204452090867595, 0.0017204452090867595, 0.9993679997191109, 0.9985253326779256, 0.9987008883115059, 0.3116814718584319, 0.9952248867666164, 0.9987008883115059, 0.9849373266388118, 0.0017204452090867595, 0.0017204452090867595, 0.9964537762016783, 0.9987711105649381, 0.9847617710052315, 0.9898177732523437, 0.9753871001720446]}, {\"categories\": [\"0\", \"1\", \"2\", \"3\", \"4\", \"5\", \"6\", \"7\", \"8\", \"9\", \"10\", \"11\", \"12\", \"13\", \"14\", \"15\", \"16\", \"17\", \"18\", \"19\", \"20\", \"21\", \"22\", \"23\", \"24\", \"25\", \"26\", \"27\", \"28\", \"29\", \"30\", \"31\", \"33\", \"34\", \"38\", \"39\"], \"mode\": \"lines\", \"name\": \"recall_score_micro_max\", \"stepped\": true, \"type\": \"scatter\", \"data\": [0.9994382219725431, 0.9994382219725431, 0.9994382219725431, 0.9994382219725431, 0.9994382219725431, 0.9994382219725431, 0.9994382219725431, 0.9994382219725431, 0.9994382219725431, 0.9994382219725431, 0.9994382219725431, 0.9994382219725431, 0.9994382219725431, 0.9994382219725431, 0.9994382219725431, 0.9994382219725431, 0.9994382219725431, 0.9994382219725431, 0.9994382219725431, 0.9994382219725431, 0.9994382219725431, 0.9994382219725431, 0.9994382219725431, 0.9994382219725431, 0.9994382219725431, 0.9994382219725431, 0.9994382219725431, 0.9994382219725431, 0.9994382219725431, 0.9994382219725431, 0.9994382219725431, 0.9994382219725431, 0.9994382219725431, 0.9994382219725431, 0.9994382219725431, 0.9994382219725431]}], \"f1_score_micro\": [{\"categories\": [\"0\", \"1\", \"2\", \"3\", \"4\", \"5\", \"6\", \"7\", \"8\", \"9\", \"10\", \"11\", \"12\", \"13\", \"14\", \"15\", \"16\", \"17\", \"18\", \"19\", \"20\", \"21\", \"22\", \"23\", \"24\", \"25\", \"26\", \"27\", \"28\", \"29\", \"30\", \"31\", \"33\", \"34\", \"38\", \"39\"], \"mode\": \"markers\", \"name\": \"f1_score_micro\", \"stepped\": false, \"type\": \"scatter\", \"data\": [0.9994382219725431, 0.9930128857835048, 0.9602542045574243, 0.9847617710052315, 0.9154524068677365, 0.9595519820231031, 0.9778097679154524, 0.9594115375162389, 0.9778799901688845, 0.9767564341139707, 0.984410659738071, 0.277448123310277, 0.9113092939152416, 0.7360696604754048, 0.9678382079280924, 0.0017204452090867595, 0.0017204452090867595, 0.9895017731118991, 0.9766862118605386, 0.004072890699062533, 0.0017204452090867595, 0.0017204452090867595, 0.9993679997191109, 0.9985253326779256, 0.9987008883115059, 0.3116814718584319, 0.9952248867666164, 0.9987008883115059, 0.9849373266388118, 0.0017204452090867595, 0.0017204452090867595, 0.9964537762016783, 0.9987711105649381, 0.9847617710052315, 0.9898177732523437, 0.9753871001720446]}, {\"categories\": [\"0\", \"1\", \"2\", \"3\", \"4\", \"5\", \"6\", \"7\", \"8\", \"9\", \"10\", \"11\", \"12\", \"13\", \"14\", \"15\", \"16\", \"17\", \"18\", \"19\", \"20\", \"21\", \"22\", \"23\", \"24\", \"25\", \"26\", \"27\", \"28\", \"29\", \"30\", \"31\", \"33\", \"34\", \"38\", \"39\"], \"mode\": \"lines\", \"name\": \"f1_score_micro_max\", \"stepped\": true, \"type\": \"scatter\", \"data\": [0.9994382219725431, 0.9994382219725431, 0.9994382219725431, 0.9994382219725431, 0.9994382219725431, 0.9994382219725431, 0.9994382219725431, 0.9994382219725431, 0.9994382219725431, 0.9994382219725431, 0.9994382219725431, 0.9994382219725431, 0.9994382219725431, 0.9994382219725431, 0.9994382219725431, 0.9994382219725431, 0.9994382219725431, 0.9994382219725431, 0.9994382219725431, 0.9994382219725431, 0.9994382219725431, 0.9994382219725431, 0.9994382219725431, 0.9994382219725431, 0.9994382219725431, 0.9994382219725431, 0.9994382219725431, 0.9994382219725431, 0.9994382219725431, 0.9994382219725431, 0.9994382219725431, 0.9994382219725431, 0.9994382219725431, 0.9994382219725431, 0.9994382219725431, 0.9994382219725431]}], \"log_loss\": [{\"categories\": [\"0\", \"1\", \"2\", \"3\", \"4\", \"5\", \"6\", \"7\", \"8\", \"9\", \"10\", \"11\", \"12\", \"13\", \"14\", \"15\", \"16\", \"17\", \"18\", \"19\", \"20\", \"21\", \"22\", \"23\", \"24\", \"25\", \"26\", \"27\", \"28\", \"29\", \"30\", \"31\", \"33\", \"34\", \"38\", \"39\"], \"mode\": \"markers\", \"name\": \"log_loss\", \"stepped\": false, \"type\": \"scatter\", \"data\": [0.0039053037916055794, 0.042567896011948846, 0.16157822024755888, 0.5636168138002469, 0.29506006793159023, 0.20966357571024954, 0.11865471196222124, 0.24900988583734981, 0.4023812400963493, 0.5348551138514035, 0.30140830923256423, 1.162224318109051, 1.3859163450792946, 0.6578186125610196, 0.23552578153421508, 5.748553801616241, 2.139594058694483, 0.23751055578187058, 0.1339104294712253, 2.782734212242971, 5.212078547076251, 2.0667533026397, 0.003290326280538859, 0.016884658893706113, 0.010076786796326053, 1.1950977674756134, 0.06649852639555755, 0.008301902755676561, 0.0710822684035115, 5.507693336890243, 5.095629738678968, 0.021481354614329526, 0.012651149960755786, 0.06138790289797505, 0.27701967368034736, 0.08392403782545335]}, {\"categories\": [\"0\", \"1\", \"2\", \"3\", \"4\", \"5\", \"6\", \"7\", \"8\", \"9\", \"10\", \"11\", \"12\", \"13\", \"14\", \"15\", \"16\", \"17\", \"18\", \"19\", \"20\", \"21\", \"22\", \"23\", \"24\", \"25\", \"26\", \"27\", \"28\", \"29\", \"30\", \"31\", \"33\", \"34\", \"38\", \"39\"], \"mode\": \"lines\", \"name\": \"log_loss_min\", \"stepped\": true, \"type\": \"scatter\", \"data\": [0.0039053037916055794, 0.0039053037916055794, 0.0039053037916055794, 0.0039053037916055794, 0.0039053037916055794, 0.0039053037916055794, 0.0039053037916055794, 0.0039053037916055794, 0.0039053037916055794, 0.0039053037916055794, 0.0039053037916055794, 0.0039053037916055794, 0.0039053037916055794, 0.0039053037916055794, 0.0039053037916055794, 0.0039053037916055794, 0.0039053037916055794, 0.0039053037916055794, 0.0039053037916055794, 0.0039053037916055794, 0.0039053037916055794, 0.0039053037916055794, 0.003290326280538859, 0.003290326280538859, 0.003290326280538859, 0.003290326280538859, 0.003290326280538859, 0.003290326280538859, 0.003290326280538859, 0.003290326280538859, 0.003290326280538859, 0.003290326280538859, 0.003290326280538859, 0.003290326280538859, 0.003290326280538859, 0.003290326280538859]}], \"precision_score_weighted\": [{\"categories\": [\"0\", \"1\", \"2\", \"3\", \"4\", \"5\", \"6\", \"7\", \"8\", \"9\", \"10\", \"11\", \"12\", \"13\", \"14\", \"15\", \"16\", \"17\", \"18\", \"19\", \"20\", \"21\", \"22\", \"23\", \"24\", \"25\", \"26\", \"27\", \"28\", \"29\", \"30\", \"31\", \"33\", \"34\", \"38\", \"39\"], \"mode\": \"markers\", \"name\": \"precision_score_weighted\", \"stepped\": false, \"type\": \"scatter\", \"data\": [0.9994382219725431, 0.9984208898532743, 0.9981993313085217, 0.9981841615351363, 0.9981577750292109, 0.9981602123991841, 0.9982128887495951, 0.9981978793404509, 0.9981369937202987, 0.9980555353950158, 0.9982580057785835, 0.9982836415572136, 0.998155623367735, 0.9981948054733879, 0.998139597526814, 2.959931717469584e-06, 2.959931717469584e-06, 0.998247631710812, 0.998245608985934, 0.9982825217021276, 2.959931717469584e-06, 2.959931717469584e-06, 0.9993817490283682, 0.9989719592813003, 0.9990061474947287, 0.9982838443047405, 0.9984552832309337, 0.9990998795115427, 0.9983017229073009, 2.959931717469584e-06, 2.959931717469584e-06, 0.9986441468179006, 0.9990658623625468, 0.9982999635250983, 0.9983323430164819, 0.9982399412453504]}, {\"categories\": [\"0\", \"1\", \"2\", \"3\", \"4\", \"5\", \"6\", \"7\", \"8\", \"9\", \"10\", \"11\", \"12\", \"13\", \"14\", \"15\", \"16\", \"17\", \"18\", \"19\", \"20\", \"21\", \"22\", \"23\", \"24\", \"25\", \"26\", \"27\", \"28\", \"29\", \"30\", \"31\", \"33\", \"34\", \"38\", \"39\"], \"mode\": \"lines\", \"name\": \"precision_score_weighted_max\", \"stepped\": true, \"type\": \"scatter\", \"data\": [0.9994382219725431, 0.9994382219725431, 0.9994382219725431, 0.9994382219725431, 0.9994382219725431, 0.9994382219725431, 0.9994382219725431, 0.9994382219725431, 0.9994382219725431, 0.9994382219725431, 0.9994382219725431, 0.9994382219725431, 0.9994382219725431, 0.9994382219725431, 0.9994382219725431, 0.9994382219725431, 0.9994382219725431, 0.9994382219725431, 0.9994382219725431, 0.9994382219725431, 0.9994382219725431, 0.9994382219725431, 0.9994382219725431, 0.9994382219725431, 0.9994382219725431, 0.9994382219725431, 0.9994382219725431, 0.9994382219725431, 0.9994382219725431, 0.9994382219725431, 0.9994382219725431, 0.9994382219725431, 0.9994382219725431, 0.9994382219725431, 0.9994382219725431, 0.9994382219725431]}], \"matthews_correlation\": [{\"categories\": [\"0\", \"1\", \"2\", \"3\", \"4\", \"5\", \"6\", \"7\", \"8\", \"9\", \"10\", \"11\", \"12\", \"13\", \"14\", \"15\", \"16\", \"17\", \"18\", \"19\", \"20\", \"21\", \"22\", \"23\", \"24\", \"25\", \"26\", \"27\", \"28\", \"29\", \"30\", \"31\", \"33\", \"34\", \"38\", \"39\"], \"mode\": \"markers\", \"name\": \"matthews_correlation\", \"stepped\": false, \"type\": \"scatter\", \"data\": [0.8364533207768194, 0.4056969911108376, 0.1832505658594283, 0.27423292919557274, 0.12326027944468748, 0.17755693416028442, 0.239330348442785, 0.1813095897832545, 0.2292187557553378, 0.21339118870421378, 0.2832622223870328, 0.025614363719803714, 0.12006711608325125, 0.06521023592137587, 0.19485188147134888, 0.0, 0.0, 0.32600976470368925, 0.23876470247269546, 0.002015884047269647, 0.0, 0.0, 0.8198481341194773, 0.6831179067462474, 0.6994674593712199, 0.02782345577390993, 0.4573850815670046, 0.7204593257152895, 0.2938853398650237, 0.0, 0.0, 0.5300912563493293, 0.7165779005842429, 0.29230366700913235, 0.34437409506265254, 0.23255214848886333]}, {\"categories\": [\"0\", \"1\", \"2\", \"3\", \"4\", \"5\", \"6\", \"7\", \"8\", \"9\", \"10\", \"11\", \"12\", \"13\", \"14\", \"15\", \"16\", \"17\", \"18\", \"19\", \"20\", \"21\", \"22\", \"23\", \"24\", \"25\", \"26\", \"27\", \"28\", \"29\", \"30\", \"31\", \"33\", \"34\", \"38\", \"39\"], \"mode\": \"lines\", \"name\": \"matthews_correlation_max\", \"stepped\": true, \"type\": \"scatter\", \"data\": [0.8364533207768194, 0.8364533207768194, 0.8364533207768194, 0.8364533207768194, 0.8364533207768194, 0.8364533207768194, 0.8364533207768194, 0.8364533207768194, 0.8364533207768194, 0.8364533207768194, 0.8364533207768194, 0.8364533207768194, 0.8364533207768194, 0.8364533207768194, 0.8364533207768194, 0.8364533207768194, 0.8364533207768194, 0.8364533207768194, 0.8364533207768194, 0.8364533207768194, 0.8364533207768194, 0.8364533207768194, 0.8364533207768194, 0.8364533207768194, 0.8364533207768194, 0.8364533207768194, 0.8364533207768194, 0.8364533207768194, 0.8364533207768194, 0.8364533207768194, 0.8364533207768194, 0.8364533207768194, 0.8364533207768194, 0.8364533207768194, 0.8364533207768194, 0.8364533207768194]}], \"average_precision_score_weighted\": [{\"categories\": [\"0\", \"1\", \"2\", \"3\", \"4\", \"5\", \"6\", \"7\", \"8\", \"9\", \"10\", \"11\", \"12\", \"13\", \"14\", \"15\", \"16\", \"17\", \"18\", \"19\", \"20\", \"21\", \"22\", \"23\", \"24\", \"25\", \"26\", \"27\", \"28\", \"29\", \"30\", \"31\", \"33\", \"34\", \"38\", \"39\"], \"mode\": \"markers\", \"name\": \"average_precision_score_weighted\", \"stepped\": false, \"type\": \"scatter\", \"data\": [0.9991205202051671, 0.9995997587006605, 0.9993371879932852, 0.9992676091159263, 0.9992614639178138, 0.9993055191282907, 0.9993797547722995, 0.9995364234075422, 0.9993644733898599, 0.999176489836749, 0.9991553859325488, 0.9993421164704908, 0.9982995216649181, 0.9993619184201211, 0.9992662540619235, 0.9991326685853953, 0.9992479022932693, 0.9994445833398333, 0.9993186956004775, 0.9991205924808391, 0.9992084139770934, 0.9993693244100371, 0.9997443468187203, 0.9996230558400645, 0.9996280877201997, 0.9993809595749364, 0.999293769074626, 0.9996932553288651, 0.9994974703570361, 0.999238348001397, 0.9989792034414998, 0.9994190367744211, 0.9996717004474729, 0.9995083789015067, 0.9997078863982668, 0.9996989198815467]}, {\"categories\": [\"0\", \"1\", \"2\", \"3\", \"4\", \"5\", \"6\", \"7\", \"8\", \"9\", \"10\", \"11\", \"12\", \"13\", \"14\", \"15\", \"16\", \"17\", \"18\", \"19\", \"20\", \"21\", \"22\", \"23\", \"24\", \"25\", \"26\", \"27\", \"28\", \"29\", \"30\", \"31\", \"33\", \"34\", \"38\", \"39\"], \"mode\": \"lines\", \"name\": \"average_precision_score_weighted_max\", \"stepped\": true, \"type\": \"scatter\", \"data\": [0.9991205202051671, 0.9995997587006605, 0.9995997587006605, 0.9995997587006605, 0.9995997587006605, 0.9995997587006605, 0.9995997587006605, 0.9995997587006605, 0.9995997587006605, 0.9995997587006605, 0.9995997587006605, 0.9995997587006605, 0.9995997587006605, 0.9995997587006605, 0.9995997587006605, 0.9995997587006605, 0.9995997587006605, 0.9995997587006605, 0.9995997587006605, 0.9995997587006605, 0.9995997587006605, 0.9995997587006605, 0.9997443468187203, 0.9997443468187203, 0.9997443468187203, 0.9997443468187203, 0.9997443468187203, 0.9997443468187203, 0.9997443468187203, 0.9997443468187203, 0.9997443468187203, 0.9997443468187203, 0.9997443468187203, 0.9997443468187203, 0.9997443468187203, 0.9997443468187203]}], \"f1_score_weighted\": [{\"categories\": [\"0\", \"1\", \"2\", \"3\", \"4\", \"5\", \"6\", \"7\", \"8\", \"9\", \"10\", \"11\", \"12\", \"13\", \"14\", \"15\", \"16\", \"17\", \"18\", \"19\", \"20\", \"21\", \"22\", \"23\", \"24\", \"25\", \"26\", \"27\", \"28\", \"29\", \"30\", \"31\", \"33\", \"34\", \"38\", \"39\"], \"mode\": \"markers\", \"name\": \"f1_score_weighted\", \"stepped\": false, \"type\": \"scatter\", \"data\": [0.9994382219725431, 0.9953018706251614, 0.9781326294204244, 0.9908827375510838, 0.9542049149674405, 0.9777631589761928, 0.9872720106063452, 0.9776914408968483, 0.9873008315447332, 0.9867101370898734, 0.990709521206122, 0.432114498039253, 0.9519387489204234, 0.8462457807685606, 0.9820865445544632, 5.909696126551085e-06, 5.909696126551085e-06, 0.9933813305081372, 0.9866919720319128, 0.004699753578102056, 5.909696126551085e-06, 5.909696126551085e-06, 0.9993743086072865, 0.9986888213584858, 0.9988152758424111, 0.47305267522704186, 0.996543761991383, 0.9988408838071234, 0.9909903860822878, 5.909696126551085e-06, 5.909696126551085e-06, 0.9973046546696822, 0.9988793149860647, 0.9908984267250822, 0.9935637755025464, 0.9860170284784143]}, {\"categories\": [\"0\", \"1\", \"2\", \"3\", \"4\", \"5\", \"6\", \"7\", \"8\", \"9\", \"10\", \"11\", \"12\", \"13\", \"14\", \"15\", \"16\", \"17\", \"18\", \"19\", \"20\", \"21\", \"22\", \"23\", \"24\", \"25\", \"26\", \"27\", \"28\", \"29\", \"30\", \"31\", \"33\", \"34\", \"38\", \"39\"], \"mode\": \"lines\", \"name\": \"f1_score_weighted_max\", \"stepped\": true, \"type\": \"scatter\", \"data\": [0.9994382219725431, 0.9994382219725431, 0.9994382219725431, 0.9994382219725431, 0.9994382219725431, 0.9994382219725431, 0.9994382219725431, 0.9994382219725431, 0.9994382219725431, 0.9994382219725431, 0.9994382219725431, 0.9994382219725431, 0.9994382219725431, 0.9994382219725431, 0.9994382219725431, 0.9994382219725431, 0.9994382219725431, 0.9994382219725431, 0.9994382219725431, 0.9994382219725431, 0.9994382219725431, 0.9994382219725431, 0.9994382219725431, 0.9994382219725431, 0.9994382219725431, 0.9994382219725431, 0.9994382219725431, 0.9994382219725431, 0.9994382219725431, 0.9994382219725431, 0.9994382219725431, 0.9994382219725431, 0.9994382219725431, 0.9994382219725431, 0.9994382219725431, 0.9994382219725431]}], \"AUC_weighted\": [{\"categories\": [\"0\", \"1\", \"2\", \"3\", \"4\", \"5\", \"6\", \"7\", \"8\", \"9\", \"10\", \"11\", \"12\", \"13\", \"14\", \"15\", \"16\", \"17\", \"18\", \"19\", \"20\", \"21\", \"22\", \"23\", \"24\", \"25\", \"26\", \"27\", \"28\", \"29\", \"30\", \"31\", \"33\", \"34\", \"38\", \"39\"], \"mode\": \"markers\", \"name\": \"AUC_weighted\", \"stepped\": false, \"type\": \"scatter\", \"data\": [0.9251518840513135, 0.9735480573771432, 0.9582724409403602, 0.9511853559656839, 0.9794446900876277, 0.9574699533724578, 0.9638905717042021, 0.9758625664672171, 0.9533624085537423, 0.9447335138332206, 0.9536717754068427, 0.9743846398998541, 0.9579903574101967, 0.9674999712884592, 0.9585559674066588, 0.9453084624395621, 0.9556578962479758, 0.972006606525559, 0.9449937121725449, 0.9450952792484467, 0.9413347851802509, 0.9644235296819909, 0.9788607685072995, 0.9736119405556256, 0.9681273184569269, 0.9640334116201348, 0.9526209330102329, 0.9774930230955634, 0.9760983599967843, 0.9564410035257773, 0.9223833737209008, 0.9617296693578951, 0.968611466815201, 0.9743541338876573, 0.9822483720556314, 0.9806649305754941]}, {\"categories\": [\"0\", \"1\", \"2\", \"3\", \"4\", \"5\", \"6\", \"7\", \"8\", \"9\", \"10\", \"11\", \"12\", \"13\", \"14\", \"15\", \"16\", \"17\", \"18\", \"19\", \"20\", \"21\", \"22\", \"23\", \"24\", \"25\", \"26\", \"27\", \"28\", \"29\", \"30\", \"31\", \"33\", \"34\", \"38\", \"39\"], \"mode\": \"lines\", \"name\": \"AUC_weighted_max\", \"stepped\": true, \"type\": \"scatter\", \"data\": [0.9251518840513135, 0.9735480573771432, 0.9735480573771432, 0.9735480573771432, 0.9794446900876277, 0.9794446900876277, 0.9794446900876277, 0.9794446900876277, 0.9794446900876277, 0.9794446900876277, 0.9794446900876277, 0.9794446900876277, 0.9794446900876277, 0.9794446900876277, 0.9794446900876277, 0.9794446900876277, 0.9794446900876277, 0.9794446900876277, 0.9794446900876277, 0.9794446900876277, 0.9794446900876277, 0.9794446900876277, 0.9794446900876277, 0.9794446900876277, 0.9794446900876277, 0.9794446900876277, 0.9794446900876277, 0.9794446900876277, 0.9794446900876277, 0.9794446900876277, 0.9794446900876277, 0.9794446900876277, 0.9794446900876277, 0.9794446900876277, 0.9822483720556314, 0.9822483720556314]}], \"AUC_micro\": [{\"categories\": [\"0\", \"1\", \"2\", \"3\", \"4\", \"5\", \"6\", \"7\", \"8\", \"9\", \"10\", \"11\", \"12\", \"13\", \"14\", \"15\", \"16\", \"17\", \"18\", \"19\", \"20\", \"21\", \"22\", \"23\", \"24\", \"25\", \"26\", \"27\", \"28\", \"29\", \"30\", \"31\", \"33\", \"34\", \"38\", \"39\"], \"mode\": \"markers\", \"name\": \"AUC_micro\", \"stepped\": false, \"type\": \"scatter\", \"data\": [0.9997415009403958, 0.9990427357690492, 0.9931798229736712, 0.9983611889926622, 0.9703257537749969, 0.9931330188222405, 0.9976780932141077, 0.9938929581758653, 0.9974817108056695, 0.9961746377514812, 0.9980869373268583, 0.19395959522587347, 0.9535144289416251, 0.765433307418295, 0.9957713079138547, 0.0032500666653425634, 0.0032856166657326815, 0.9989607816579789, 0.9971764766309428, 0.0032613972494388837, 0.003236417200962795, 0.003315726358472157, 0.999920352441301, 0.9997495732572997, 0.9997790905938584, 0.18229015997106915, 0.9994004147314306, 0.9997691240932463, 0.9977055770615504, 0.003288306616173131, 0.00317131966062919, 0.9994359326792488, 0.9997444744328168, 0.998267657122856, 0.998208404245693, 0.9946637214363953]}, {\"categories\": [\"0\", \"1\", \"2\", \"3\", \"4\", \"5\", \"6\", \"7\", \"8\", \"9\", \"10\", \"11\", \"12\", \"13\", \"14\", \"15\", \"16\", \"17\", \"18\", \"19\", \"20\", \"21\", \"22\", \"23\", \"24\", \"25\", \"26\", \"27\", \"28\", \"29\", \"30\", \"31\", \"33\", \"34\", \"38\", \"39\"], \"mode\": \"lines\", \"name\": \"AUC_micro_max\", \"stepped\": true, \"type\": \"scatter\", \"data\": [0.9997415009403958, 0.9997415009403958, 0.9997415009403958, 0.9997415009403958, 0.9997415009403958, 0.9997415009403958, 0.9997415009403958, 0.9997415009403958, 0.9997415009403958, 0.9997415009403958, 0.9997415009403958, 0.9997415009403958, 0.9997415009403958, 0.9997415009403958, 0.9997415009403958, 0.9997415009403958, 0.9997415009403958, 0.9997415009403958, 0.9997415009403958, 0.9997415009403958, 0.9997415009403958, 0.9997415009403958, 0.999920352441301, 0.999920352441301, 0.999920352441301, 0.999920352441301, 0.999920352441301, 0.999920352441301, 0.999920352441301, 0.999920352441301, 0.999920352441301, 0.999920352441301, 0.999920352441301, 0.999920352441301, 0.999920352441301, 0.999920352441301]}], \"accuracy\": [{\"categories\": [\"0\", \"1\", \"2\", \"3\", \"4\", \"5\", \"6\", \"7\", \"8\", \"9\", \"10\", \"11\", \"12\", \"13\", \"14\", \"15\", \"16\", \"17\", \"18\", \"19\", \"20\", \"21\", \"22\", \"23\", \"24\", \"25\", \"26\", \"27\", \"28\", \"29\", \"30\", \"31\", \"33\", \"34\", \"38\", \"39\"], \"mode\": \"markers\", \"name\": \"accuracy\", \"stepped\": false, \"type\": \"scatter\", \"data\": [0.9994382219725431, 0.9930128857835048, 0.9602542045574243, 0.9847617710052315, 0.9154524068677364, 0.9595519820231031, 0.9778097679154524, 0.9594115375162389, 0.9778799901688845, 0.9767564341139707, 0.984410659738071, 0.277448123310277, 0.9113092939152417, 0.7360696604754047, 0.9678382079280924, 0.0017204452090867595, 0.0017204452090867595, 0.9895017731118991, 0.9766862118605386, 0.004072890699062533, 0.0017204452090867595, 0.0017204452090867595, 0.9993679997191109, 0.9985253326779256, 0.9987008883115059, 0.3116814718584319, 0.9952248867666164, 0.9987008883115059, 0.9849373266388118, 0.0017204452090867595, 0.0017204452090867595, 0.9964537762016783, 0.9987711105649381, 0.9847617710052315, 0.9898177732523437, 0.9753871001720446]}, {\"categories\": [\"0\", \"1\", \"2\", \"3\", \"4\", \"5\", \"6\", \"7\", \"8\", \"9\", \"10\", \"11\", \"12\", \"13\", \"14\", \"15\", \"16\", \"17\", \"18\", \"19\", \"20\", \"21\", \"22\", \"23\", \"24\", \"25\", \"26\", \"27\", \"28\", \"29\", \"30\", \"31\", \"33\", \"34\", \"38\", \"39\"], \"mode\": \"lines\", \"name\": \"accuracy_max\", \"stepped\": true, \"type\": \"scatter\", \"data\": [0.9994382219725431, 0.9994382219725431, 0.9994382219725431, 0.9994382219725431, 0.9994382219725431, 0.9994382219725431, 0.9994382219725431, 0.9994382219725431, 0.9994382219725431, 0.9994382219725431, 0.9994382219725431, 0.9994382219725431, 0.9994382219725431, 0.9994382219725431, 0.9994382219725431, 0.9994382219725431, 0.9994382219725431, 0.9994382219725431, 0.9994382219725431, 0.9994382219725431, 0.9994382219725431, 0.9994382219725431, 0.9994382219725431, 0.9994382219725431, 0.9994382219725431, 0.9994382219725431, 0.9994382219725431, 0.9994382219725431, 0.9994382219725431, 0.9994382219725431, 0.9994382219725431, 0.9994382219725431, 0.9994382219725431, 0.9994382219725431, 0.9994382219725431, 0.9994382219725431]}], \"balanced_accuracy\": [{\"categories\": [\"0\", \"1\", \"2\", \"3\", \"4\", \"5\", \"6\", \"7\", \"8\", \"9\", \"10\", \"11\", \"12\", \"13\", \"14\", \"15\", \"16\", \"17\", \"18\", \"19\", \"20\", \"21\", \"22\", \"23\", \"24\", \"25\", \"26\", \"27\", \"28\", \"29\", \"30\", \"31\", \"33\", \"34\", \"38\", \"39\"], \"mode\": \"markers\", \"name\": \"balanced_accuracy\", \"stepped\": false, \"type\": \"scatter\", \"data\": [0.9182266603884097, 0.9455679429903644, 0.939346869867812, 0.9210622839456548, 0.9169073650844694, 0.9288086576780403, 0.9379532834518163, 0.9389248102167147, 0.9176154634616931, 0.8966797256325152, 0.9412594173854123, 0.6381014350028138, 0.914832238466574, 0.8474344084848345, 0.9227724150999737, 0.5, 0.5, 0.9234363694830774, 0.9475770330642105, 0.5011782498593135, 0.5, 0.5, 0.9181914887508182, 0.9279559249135783, 0.9178573581936995, 0.6552476083286438, 0.9263028579467802, 0.9484168456352715, 0.9517097004812054, 0.5, 0.5, 0.9472913532323453, 0.9280790256451483, 0.9516217713872268, 0.9439676334799536, 0.9469263577687688]}, {\"categories\": [\"0\", \"1\", \"2\", \"3\", \"4\", \"5\", \"6\", \"7\", \"8\", \"9\", \"10\", \"11\", \"12\", \"13\", \"14\", \"15\", \"16\", \"17\", \"18\", \"19\", \"20\", \"21\", \"22\", \"23\", \"24\", \"25\", \"26\", \"27\", \"28\", \"29\", \"30\", \"31\", \"33\", \"34\", \"38\", \"39\"], \"mode\": \"lines\", \"name\": \"balanced_accuracy_max\", \"stepped\": true, \"type\": \"scatter\", \"data\": [0.9182266603884097, 0.9455679429903644, 0.9455679429903644, 0.9455679429903644, 0.9455679429903644, 0.9455679429903644, 0.9455679429903644, 0.9455679429903644, 0.9455679429903644, 0.9455679429903644, 0.9455679429903644, 0.9455679429903644, 0.9455679429903644, 0.9455679429903644, 0.9455679429903644, 0.9455679429903644, 0.9455679429903644, 0.9455679429903644, 0.9475770330642105, 0.9475770330642105, 0.9475770330642105, 0.9475770330642105, 0.9475770330642105, 0.9475770330642105, 0.9475770330642105, 0.9475770330642105, 0.9475770330642105, 0.9484168456352715, 0.9517097004812054, 0.9517097004812054, 0.9517097004812054, 0.9517097004812054, 0.9517097004812054, 0.9517097004812054, 0.9517097004812054, 0.9517097004812054]}], \"recall_score_macro\": [{\"categories\": [\"0\", \"1\", \"2\", \"3\", \"4\", \"5\", \"6\", \"7\", \"8\", \"9\", \"10\", \"11\", \"12\", \"13\", \"14\", \"15\", \"16\", \"17\", \"18\", \"19\", \"20\", \"21\", \"22\", \"23\", \"24\", \"25\", \"26\", \"27\", \"28\", \"29\", \"30\", \"31\", \"33\", \"34\", \"38\", \"39\"], \"mode\": \"markers\", \"name\": \"recall_score_macro\", \"stepped\": false, \"type\": \"scatter\", \"data\": [0.9182266603884097, 0.9455679429903644, 0.939346869867812, 0.9210622839456548, 0.9169073650844694, 0.9288086576780403, 0.9379532834518163, 0.9389248102167147, 0.9176154634616931, 0.8966797256325152, 0.9412594173854123, 0.6381014350028138, 0.914832238466574, 0.8474344084848345, 0.9227724150999737, 0.5, 0.5, 0.9234363694830774, 0.9475770330642105, 0.5011782498593135, 0.5, 0.5, 0.9181914887508182, 0.9279559249135783, 0.9178573581936995, 0.6552476083286438, 0.9263028579467802, 0.9484168456352715, 0.9517097004812054, 0.5, 0.5, 0.9472913532323453, 0.9280790256451483, 0.9516217713872268, 0.9439676334799536, 0.9469263577687688]}, {\"categories\": [\"0\", \"1\", \"2\", \"3\", \"4\", \"5\", \"6\", \"7\", \"8\", \"9\", \"10\", \"11\", \"12\", \"13\", \"14\", \"15\", \"16\", \"17\", \"18\", \"19\", \"20\", \"21\", \"22\", \"23\", \"24\", \"25\", \"26\", \"27\", \"28\", \"29\", \"30\", \"31\", \"33\", \"34\", \"38\", \"39\"], \"mode\": \"lines\", \"name\": \"recall_score_macro_max\", \"stepped\": true, \"type\": \"scatter\", \"data\": [0.9182266603884097, 0.9455679429903644, 0.9455679429903644, 0.9455679429903644, 0.9455679429903644, 0.9455679429903644, 0.9455679429903644, 0.9455679429903644, 0.9455679429903644, 0.9455679429903644, 0.9455679429903644, 0.9455679429903644, 0.9455679429903644, 0.9455679429903644, 0.9455679429903644, 0.9455679429903644, 0.9455679429903644, 0.9455679429903644, 0.9475770330642105, 0.9475770330642105, 0.9475770330642105, 0.9475770330642105, 0.9475770330642105, 0.9475770330642105, 0.9475770330642105, 0.9475770330642105, 0.9475770330642105, 0.9484168456352715, 0.9517097004812054, 0.9517097004812054, 0.9517097004812054, 0.9517097004812054, 0.9517097004812054, 0.9517097004812054, 0.9517097004812054, 0.9517097004812054]}], \"weighted_accuracy\": [{\"categories\": [\"0\", \"1\", \"2\", \"3\", \"4\", \"5\", \"6\", \"7\", \"8\", \"9\", \"10\", \"11\", \"12\", \"13\", \"14\", \"15\", \"16\", \"17\", \"18\", \"19\", \"20\", \"21\", \"22\", \"23\", \"24\", \"25\", \"26\", \"27\", \"28\", \"29\", \"30\", \"31\", \"33\", \"34\", \"38\", \"39\"], \"mode\": \"markers\", \"name\": \"weighted_accuracy\", \"stepped\": false, \"type\": \"scatter\", \"data\": [0.999718142815141, 0.9931764194984659, 0.9603262681728582, 0.9849813310499217, 0.9154473919028467, 0.9596579484284653, 0.9779471456544887, 0.9594821513778109, 0.9780877105570358, 0.9770324433332659, 0.984559393882359, 0.2762050197801216, 0.9112971509938647, 0.7356858073208732, 0.9679935411645765, 2.9701340404421287e-06, 2.9701340404421287e-06, 0.9897294880220623, 0.9767865456762793, 0.0023594628535473106, 2.9701340404421287e-06, 2.9701340404421287e-06, 0.999647799748887, 0.9987685720356932, 0.9989795406194745, 0.3104972645789156, 0.9954624479217581, 0.998874207865035, 0.9850518559611168, 2.9701340404421287e-06, 2.9701340404421287e-06, 0.996623229744909, 0.9990147727675819, 0.984875998295482, 0.989975809983912, 0.9754851989505815]}, {\"categories\": [\"0\", \"1\", \"2\", \"3\", \"4\", \"5\", \"6\", \"7\", \"8\", \"9\", \"10\", \"11\", \"12\", \"13\", \"14\", \"15\", \"16\", \"17\", \"18\", \"19\", \"20\", \"21\", \"22\", \"23\", \"24\", \"25\", \"26\", \"27\", \"28\", \"29\", \"30\", \"31\", \"33\", \"34\", \"38\", \"39\"], \"mode\": \"lines\", \"name\": \"weighted_accuracy_max\", \"stepped\": true, \"type\": \"scatter\", \"data\": [0.999718142815141, 0.999718142815141, 0.999718142815141, 0.999718142815141, 0.999718142815141, 0.999718142815141, 0.999718142815141, 0.999718142815141, 0.999718142815141, 0.999718142815141, 0.999718142815141, 0.999718142815141, 0.999718142815141, 0.999718142815141, 0.999718142815141, 0.999718142815141, 0.999718142815141, 0.999718142815141, 0.999718142815141, 0.999718142815141, 0.999718142815141, 0.999718142815141, 0.999718142815141, 0.999718142815141, 0.999718142815141, 0.999718142815141, 0.999718142815141, 0.999718142815141, 0.999718142815141, 0.999718142815141, 0.999718142815141, 0.999718142815141, 0.999718142815141, 0.999718142815141, 0.999718142815141, 0.999718142815141]}]}, \"metricName\": null, \"primaryMetricName\": \"AUC_weighted\", \"showLegend\": false}, \"run_metrics\": [{\"name\": \"experiment_status\", \"run_id\": \"AutoML_8132042c-c606-4d2c-ae6a-f50d70b741ca\", \"categories\": [0, 1, 2, 3, 4, 5, 6, 7, 8, 9, 10, 11, 12, 13], \"series\": [{\"data\": [\"DatasetEvaluation\", \"FeaturesGeneration\", \"DatasetFeaturization\", \"DatasetFeaturizationCompleted\", \"DatasetBalancing\", \"ModelSelection\", \"BestRunExplainModel\", \"ModelExplanationDataSetSetup\", \"PickSurrogateModel\", \"EngineeredFeatureExplanations\", \"EngineeredFeatureExplanations\", \"RawFeaturesExplanations\", \"RawFeaturesExplanations\", \"BestRunExplainModel\"]}]}, {\"name\": \"experiment_status_description\", \"run_id\": \"AutoML_8132042c-c606-4d2c-ae6a-f50d70b741ca\", \"categories\": [0, 1, 2, 3, 4, 5, 6, 7, 8, 9, 10, 11, 12, 13], \"series\": [{\"data\": [\"Gathering dataset statistics.\", \"Generating features for the dataset.\", \"Beginning to fit featurizers and featurize the dataset.\", \"Completed fit featurizers and featurizing the dataset.\", \"Performing class balancing sweeping\", \"Beginning model selection.\", \"Best run model explanations started\", \"Model explanations data setup completed\", \"Choosing LightGBM as the surrogate model for explanations\", \"Computation of engineered features started\", \"Computation of engineered features completed\", \"Computation of raw features started\", \"Computation of raw features completed\", \"Best run model explanations completed\"]}]}, {\"name\": \"accuracy\", \"run_id\": \"AutoML_8132042c-c606-4d2c-ae6a-f50d70b741ca\", \"categories\": [0], \"series\": [{\"data\": [0.9898177732523437]}]}, {\"name\": \"precision_score_micro\", \"run_id\": \"AutoML_8132042c-c606-4d2c-ae6a-f50d70b741ca\", \"categories\": [0], \"series\": [{\"data\": [0.9898177732523437]}]}, {\"name\": \"recall_score_micro\", \"run_id\": \"AutoML_8132042c-c606-4d2c-ae6a-f50d70b741ca\", \"categories\": [0], \"series\": [{\"data\": [0.9898177732523437]}]}, {\"name\": \"precision_score_weighted\", \"run_id\": \"AutoML_8132042c-c606-4d2c-ae6a-f50d70b741ca\", \"categories\": [0], \"series\": [{\"data\": [0.9983323430164819]}]}, {\"name\": \"recall_score_macro\", \"run_id\": \"AutoML_8132042c-c606-4d2c-ae6a-f50d70b741ca\", \"categories\": [0], \"series\": [{\"data\": [0.9439676334799536]}]}, {\"name\": \"AUC_micro\", \"run_id\": \"AutoML_8132042c-c606-4d2c-ae6a-f50d70b741ca\", \"categories\": [0], \"series\": [{\"data\": [0.998208404245693]}]}, {\"name\": \"average_precision_score_micro\", \"run_id\": \"AutoML_8132042c-c606-4d2c-ae6a-f50d70b741ca\", \"categories\": [0], \"series\": [{\"data\": [0.9962227103649977]}]}, {\"name\": \"AUC_weighted\", \"run_id\": \"AutoML_8132042c-c606-4d2c-ae6a-f50d70b741ca\", \"categories\": [0], \"series\": [{\"data\": [0.9822483720556314]}]}, {\"name\": \"f1_score_micro\", \"run_id\": \"AutoML_8132042c-c606-4d2c-ae6a-f50d70b741ca\", \"categories\": [0], \"series\": [{\"data\": [0.9898177732523437]}]}, {\"name\": \"norm_macro_recall\", \"run_id\": \"AutoML_8132042c-c606-4d2c-ae6a-f50d70b741ca\", \"categories\": [0], \"series\": [{\"data\": [0.8879352669599072]}]}, {\"name\": \"weighted_accuracy\", \"run_id\": \"AutoML_8132042c-c606-4d2c-ae6a-f50d70b741ca\", \"categories\": [0], \"series\": [{\"data\": [0.989975809983912]}]}, {\"name\": \"average_precision_score_weighted\", \"run_id\": \"AutoML_8132042c-c606-4d2c-ae6a-f50d70b741ca\", \"categories\": [0], \"series\": [{\"data\": [0.9997078863982668]}]}, {\"name\": \"balanced_accuracy\", \"run_id\": \"AutoML_8132042c-c606-4d2c-ae6a-f50d70b741ca\", \"categories\": [0], \"series\": [{\"data\": [0.9439676334799536]}]}, {\"name\": \"recall_score_weighted\", \"run_id\": \"AutoML_8132042c-c606-4d2c-ae6a-f50d70b741ca\", \"categories\": [0], \"series\": [{\"data\": [0.9898177732523437]}]}, {\"name\": \"matthews_correlation\", \"run_id\": \"AutoML_8132042c-c606-4d2c-ae6a-f50d70b741ca\", \"categories\": [0], \"series\": [{\"data\": [0.34437409506265254]}]}, {\"name\": \"precision_score_macro\", \"run_id\": \"AutoML_8132042c-c606-4d2c-ae6a-f50d70b741ca\", \"categories\": [0], \"series\": [{\"data\": [0.5667804972744571]}]}, {\"name\": \"f1_score_weighted\", \"run_id\": \"AutoML_8132042c-c606-4d2c-ae6a-f50d70b741ca\", \"categories\": [0], \"series\": [{\"data\": [0.9935637755025464]}]}, {\"name\": \"AUC_macro\", \"run_id\": \"AutoML_8132042c-c606-4d2c-ae6a-f50d70b741ca\", \"categories\": [0], \"series\": [{\"data\": [0.9822483720556314]}]}, {\"name\": \"log_loss\", \"run_id\": \"AutoML_8132042c-c606-4d2c-ae6a-f50d70b741ca\", \"categories\": [0], \"series\": [{\"data\": [0.27701967368034736]}]}, {\"name\": \"f1_score_macro\", \"run_id\": \"AutoML_8132042c-c606-4d2c-ae6a-f50d70b741ca\", \"categories\": [0], \"series\": [{\"data\": [0.613839554547175]}]}, {\"name\": \"average_precision_score_macro\", \"run_id\": \"AutoML_8132042c-c606-4d2c-ae6a-f50d70b741ca\", \"categories\": [0], \"series\": [{\"data\": [0.925368916376593]}]}], \"run_logs\": \"\\nRun is completed.\", \"graph\": {}, \"widget_settings\": {\"childWidgetDisplay\": \"popup\", \"send_telemetry\": false, \"log_level\": \"INFO\", \"sdk_version\": \"1.20.0\"}, \"loading\": false}"
     },
     "metadata": {},
     "output_type": "display_data"
    }
   ],
   "source": [
    "from azureml.widgets import RunDetails\n",
    "RunDetails(remote_run).show()"
   ]
  },
  {
   "cell_type": "code",
   "execution_count": 30,
   "metadata": {},
   "outputs": [
    {
     "data": {
      "text/plain": [
       "{'runId': 'AutoML_8132042c-c606-4d2c-ae6a-f50d70b741ca',\n",
       " 'target': 'cluster',\n",
       " 'status': 'Completed',\n",
       " 'startTimeUtc': '2021-01-31T11:12:41.777621Z',\n",
       " 'endTimeUtc': '2021-01-31T11:40:59.002424Z',\n",
       " 'properties': {'num_iterations': '1000',\n",
       "  'training_type': 'TrainFull',\n",
       "  'acquisition_function': 'EI',\n",
       "  'primary_metric': 'AUC_weighted',\n",
       "  'train_split': '0',\n",
       "  'acquisition_parameter': '0',\n",
       "  'num_cross_validation': None,\n",
       "  'target': 'cluster',\n",
       "  'AMLSettingsJsonString': '{\"path\":null,\"name\":\"fraud-detection\",\"subscription_id\":\"f5091c60-1c3c-430f-8d81-d802f6bf2414\",\"resource_group\":\"aml-quickstarts-136702\",\"workspace_name\":\"quick-starts-ws-136702\",\"region\":\"southcentralus\",\"compute_target\":\"cluster\",\"spark_service\":null,\"azure_service\":\"remote\",\"many_models\":false,\"pipeline_fetch_max_batch_size\":1,\"iterations\":1000,\"primary_metric\":\"AUC_weighted\",\"task_type\":\"classification\",\"data_script\":null,\"validation_size\":0.0,\"n_cross_validations\":null,\"y_min\":null,\"y_max\":null,\"num_classes\":null,\"featurization\":\"auto\",\"_ignore_package_version_incompatibilities\":false,\"is_timeseries\":false,\"max_cores_per_iteration\":1,\"max_concurrent_iterations\":5,\"iteration_timeout_minutes\":null,\"mem_in_mb\":null,\"enforce_time_on_windows\":false,\"experiment_timeout_minutes\":60,\"experiment_exit_score\":null,\"whitelist_models\":null,\"blacklist_algos\":[\"TensorFlowLinearClassifier\",\"TensorFlowDNN\"],\"supported_models\":[\"ExtremeRandomTrees\",\"XGBoostClassifier\",\"AveragedPerceptronClassifier\",\"LightGBM\",\"LinearSVM\",\"TensorFlowDNN\",\"BernoulliNaiveBayes\",\"KNN\",\"DecisionTree\",\"MultinomialNaiveBayes\",\"RandomForest\",\"SVM\",\"GradientBoosting\",\"TensorFlowLinearClassifier\",\"SGD\",\"LogisticRegression\"],\"auto_blacklist\":true,\"blacklist_samples_reached\":false,\"exclude_nan_labels\":true,\"verbosity\":20,\"_debug_log\":\"azureml_automl.log\",\"show_warnings\":false,\"model_explainability\":true,\"service_url\":null,\"sdk_url\":null,\"sdk_packages\":null,\"enable_onnx_compatible_models\":false,\"enable_split_onnx_featurizer_estimator_models\":false,\"vm_type\":\"STANDARD_DS12_V2\",\"telemetry_verbosity\":20,\"send_telemetry\":true,\"enable_dnn\":false,\"scenario\":\"SDK-1.13.0\",\"environment_label\":null,\"force_text_dnn\":false,\"enable_feature_sweeping\":true,\"enable_early_stopping\":true,\"early_stopping_n_iters\":10,\"metrics\":null,\"enable_ensembling\":true,\"enable_stack_ensembling\":true,\"ensemble_iterations\":15,\"enable_tf\":false,\"enable_subsampling\":null,\"subsample_seed\":null,\"enable_nimbusml\":false,\"enable_streaming\":false,\"force_streaming\":false,\"track_child_runs\":true,\"allowed_private_models\":[],\"label_column_name\":\"Class\",\"weight_column_name\":null,\"cv_split_column_names\":null,\"enable_local_managed\":false,\"_local_managed_run_id\":null,\"cost_mode\":1,\"lag_length\":0,\"metric_operation\":\"maximize\",\"preprocess\":true}',\n",
       "  'DataPrepJsonString': '{\\\\\"training_data\\\\\": \\\\\"{\\\\\\\\\\\\\"blocks\\\\\\\\\\\\\": [{\\\\\\\\\\\\\"id\\\\\\\\\\\\\": \\\\\\\\\\\\\"08f1b842-291f-4535-8106-77e4d20ed0f4\\\\\\\\\\\\\", \\\\\\\\\\\\\"type\\\\\\\\\\\\\": \\\\\\\\\\\\\"Microsoft.DPrep.GetDatastoreFilesBlock\\\\\\\\\\\\\", \\\\\\\\\\\\\"arguments\\\\\\\\\\\\\": {\\\\\\\\\\\\\"datastores\\\\\\\\\\\\\": [{\\\\\\\\\\\\\"datastoreName\\\\\\\\\\\\\": \\\\\\\\\\\\\"workspaceblobstore\\\\\\\\\\\\\", \\\\\\\\\\\\\"path\\\\\\\\\\\\\": \\\\\\\\\\\\\"UI/01-31-2021_110037_UTC/creditcard.csv\\\\\\\\\\\\\", \\\\\\\\\\\\\"resourceGroup\\\\\\\\\\\\\": \\\\\\\\\\\\\"aml-quickstarts-136702\\\\\\\\\\\\\", \\\\\\\\\\\\\"subscription\\\\\\\\\\\\\": \\\\\\\\\\\\\"f5091c60-1c3c-430f-8d81-d802f6bf2414\\\\\\\\\\\\\", \\\\\\\\\\\\\"workspaceName\\\\\\\\\\\\\": \\\\\\\\\\\\\"quick-starts-ws-136702\\\\\\\\\\\\\"}]}, \\\\\\\\\\\\\"localData\\\\\\\\\\\\\": {}, \\\\\\\\\\\\\"isEnabled\\\\\\\\\\\\\": true, \\\\\\\\\\\\\"name\\\\\\\\\\\\\": null, \\\\\\\\\\\\\"annotation\\\\\\\\\\\\\": null}, {\\\\\\\\\\\\\"id\\\\\\\\\\\\\": \\\\\\\\\\\\\"ae20898b-9e00-4551-ab34-44060fc87e6e\\\\\\\\\\\\\", \\\\\\\\\\\\\"type\\\\\\\\\\\\\": \\\\\\\\\\\\\"Microsoft.DPrep.ParseDelimitedBlock\\\\\\\\\\\\\", \\\\\\\\\\\\\"arguments\\\\\\\\\\\\\": {\\\\\\\\\\\\\"columnHeadersMode\\\\\\\\\\\\\": 3, \\\\\\\\\\\\\"fileEncoding\\\\\\\\\\\\\": 0, \\\\\\\\\\\\\"handleQuotedLineBreaks\\\\\\\\\\\\\": false, \\\\\\\\\\\\\"preview\\\\\\\\\\\\\": false, \\\\\\\\\\\\\"separator\\\\\\\\\\\\\": \\\\\\\\\\\\\",\\\\\\\\\\\\\", \\\\\\\\\\\\\"skipRows\\\\\\\\\\\\\": 0, \\\\\\\\\\\\\"skipRowsMode\\\\\\\\\\\\\": 0}, \\\\\\\\\\\\\"localData\\\\\\\\\\\\\": {}, \\\\\\\\\\\\\"isEnabled\\\\\\\\\\\\\": true, \\\\\\\\\\\\\"name\\\\\\\\\\\\\": null, \\\\\\\\\\\\\"annotation\\\\\\\\\\\\\": null}, {\\\\\\\\\\\\\"id\\\\\\\\\\\\\": \\\\\\\\\\\\\"2cf0cc66-175d-4b8d-a5e3-3942529e79ec\\\\\\\\\\\\\", \\\\\\\\\\\\\"type\\\\\\\\\\\\\": \\\\\\\\\\\\\"Microsoft.DPrep.DropColumnsBlock\\\\\\\\\\\\\", \\\\\\\\\\\\\"arguments\\\\\\\\\\\\\": {\\\\\\\\\\\\\"columns\\\\\\\\\\\\\": {\\\\\\\\\\\\\"type\\\\\\\\\\\\\": 0, \\\\\\\\\\\\\"details\\\\\\\\\\\\\": {\\\\\\\\\\\\\"selectedColumns\\\\\\\\\\\\\": [\\\\\\\\\\\\\"Path\\\\\\\\\\\\\"]}}}, \\\\\\\\\\\\\"localData\\\\\\\\\\\\\": {}, \\\\\\\\\\\\\"isEnabled\\\\\\\\\\\\\": true, \\\\\\\\\\\\\"name\\\\\\\\\\\\\": null, \\\\\\\\\\\\\"annotation\\\\\\\\\\\\\": null}, {\\\\\\\\\\\\\"id\\\\\\\\\\\\\": \\\\\\\\\\\\\"92c4d39e-b6e6-416f-b8a5-d8b1c2857596\\\\\\\\\\\\\", \\\\\\\\\\\\\"type\\\\\\\\\\\\\": \\\\\\\\\\\\\"Microsoft.DPrep.SetColumnTypesBlock\\\\\\\\\\\\\", \\\\\\\\\\\\\"arguments\\\\\\\\\\\\\": {\\\\\\\\\\\\\"columnConversion\\\\\\\\\\\\\": [{\\\\\\\\\\\\\"column\\\\\\\\\\\\\": {\\\\\\\\\\\\\"type\\\\\\\\\\\\\": 2, \\\\\\\\\\\\\"details\\\\\\\\\\\\\": {\\\\\\\\\\\\\"selectedColumn\\\\\\\\\\\\\": \\\\\\\\\\\\\"Path\\\\\\\\\\\\\"}}, \\\\\\\\\\\\\"typeProperty\\\\\\\\\\\\\": 0}, {\\\\\\\\\\\\\"column\\\\\\\\\\\\\": {\\\\\\\\\\\\\"type\\\\\\\\\\\\\": 2, \\\\\\\\\\\\\"details\\\\\\\\\\\\\": {\\\\\\\\\\\\\"selectedColumn\\\\\\\\\\\\\": \\\\\\\\\\\\\"Time\\\\\\\\\\\\\"}}, \\\\\\\\\\\\\"typeProperty\\\\\\\\\\\\\": 2}, {\\\\\\\\\\\\\"column\\\\\\\\\\\\\": {\\\\\\\\\\\\\"type\\\\\\\\\\\\\": 2, \\\\\\\\\\\\\"details\\\\\\\\\\\\\": {\\\\\\\\\\\\\"selectedColumn\\\\\\\\\\\\\": \\\\\\\\\\\\\"V1\\\\\\\\\\\\\"}}, \\\\\\\\\\\\\"typeProperty\\\\\\\\\\\\\": 3}, {\\\\\\\\\\\\\"column\\\\\\\\\\\\\": {\\\\\\\\\\\\\"type\\\\\\\\\\\\\": 2, \\\\\\\\\\\\\"details\\\\\\\\\\\\\": {\\\\\\\\\\\\\"selectedColumn\\\\\\\\\\\\\": \\\\\\\\\\\\\"V2\\\\\\\\\\\\\"}}, \\\\\\\\\\\\\"typeProperty\\\\\\\\\\\\\": 3}, {\\\\\\\\\\\\\"column\\\\\\\\\\\\\": {\\\\\\\\\\\\\"type\\\\\\\\\\\\\": 2, \\\\\\\\\\\\\"details\\\\\\\\\\\\\": {\\\\\\\\\\\\\"selectedColumn\\\\\\\\\\\\\": \\\\\\\\\\\\\"V3\\\\\\\\\\\\\"}}, \\\\\\\\\\\\\"typeProperty\\\\\\\\\\\\\": 3}, {\\\\\\\\\\\\\"column\\\\\\\\\\\\\": {\\\\\\\\\\\\\"type\\\\\\\\\\\\\": 2, \\\\\\\\\\\\\"details\\\\\\\\\\\\\": {\\\\\\\\\\\\\"selectedColumn\\\\\\\\\\\\\": \\\\\\\\\\\\\"V4\\\\\\\\\\\\\"}}, \\\\\\\\\\\\\"typeProperty\\\\\\\\\\\\\": 3}, {\\\\\\\\\\\\\"column\\\\\\\\\\\\\": {\\\\\\\\\\\\\"type\\\\\\\\\\\\\": 2, \\\\\\\\\\\\\"details\\\\\\\\\\\\\": {\\\\\\\\\\\\\"selectedColumn\\\\\\\\\\\\\": \\\\\\\\\\\\\"V5\\\\\\\\\\\\\"}}, \\\\\\\\\\\\\"typeProperty\\\\\\\\\\\\\": 3}, {\\\\\\\\\\\\\"column\\\\\\\\\\\\\": {\\\\\\\\\\\\\"type\\\\\\\\\\\\\": 2, \\\\\\\\\\\\\"details\\\\\\\\\\\\\": {\\\\\\\\\\\\\"selectedColumn\\\\\\\\\\\\\": \\\\\\\\\\\\\"V6\\\\\\\\\\\\\"}}, \\\\\\\\\\\\\"typeProperty\\\\\\\\\\\\\": 3}, {\\\\\\\\\\\\\"column\\\\\\\\\\\\\": {\\\\\\\\\\\\\"type\\\\\\\\\\\\\": 2, \\\\\\\\\\\\\"details\\\\\\\\\\\\\": {\\\\\\\\\\\\\"selectedColumn\\\\\\\\\\\\\": \\\\\\\\\\\\\"V7\\\\\\\\\\\\\"}}, \\\\\\\\\\\\\"typeProperty\\\\\\\\\\\\\": 3}, {\\\\\\\\\\\\\"column\\\\\\\\\\\\\": {\\\\\\\\\\\\\"type\\\\\\\\\\\\\": 2, \\\\\\\\\\\\\"details\\\\\\\\\\\\\": {\\\\\\\\\\\\\"selectedColumn\\\\\\\\\\\\\": \\\\\\\\\\\\\"V8\\\\\\\\\\\\\"}}, \\\\\\\\\\\\\"typeProperty\\\\\\\\\\\\\": 3}, {\\\\\\\\\\\\\"column\\\\\\\\\\\\\": {\\\\\\\\\\\\\"type\\\\\\\\\\\\\": 2, \\\\\\\\\\\\\"details\\\\\\\\\\\\\": {\\\\\\\\\\\\\"selectedColumn\\\\\\\\\\\\\": \\\\\\\\\\\\\"V9\\\\\\\\\\\\\"}}, \\\\\\\\\\\\\"typeProperty\\\\\\\\\\\\\": 3}, {\\\\\\\\\\\\\"column\\\\\\\\\\\\\": {\\\\\\\\\\\\\"type\\\\\\\\\\\\\": 2, \\\\\\\\\\\\\"details\\\\\\\\\\\\\": {\\\\\\\\\\\\\"selectedColumn\\\\\\\\\\\\\": \\\\\\\\\\\\\"V10\\\\\\\\\\\\\"}}, \\\\\\\\\\\\\"typeProperty\\\\\\\\\\\\\": 3}, {\\\\\\\\\\\\\"column\\\\\\\\\\\\\": {\\\\\\\\\\\\\"type\\\\\\\\\\\\\": 2, \\\\\\\\\\\\\"details\\\\\\\\\\\\\": {\\\\\\\\\\\\\"selectedColumn\\\\\\\\\\\\\": \\\\\\\\\\\\\"V11\\\\\\\\\\\\\"}}, \\\\\\\\\\\\\"typeProperty\\\\\\\\\\\\\": 3}, {\\\\\\\\\\\\\"column\\\\\\\\\\\\\": {\\\\\\\\\\\\\"type\\\\\\\\\\\\\": 2, \\\\\\\\\\\\\"details\\\\\\\\\\\\\": {\\\\\\\\\\\\\"selectedColumn\\\\\\\\\\\\\": \\\\\\\\\\\\\"V12\\\\\\\\\\\\\"}}, \\\\\\\\\\\\\"typeProperty\\\\\\\\\\\\\": 3}, {\\\\\\\\\\\\\"column\\\\\\\\\\\\\": {\\\\\\\\\\\\\"type\\\\\\\\\\\\\": 2, \\\\\\\\\\\\\"details\\\\\\\\\\\\\": {\\\\\\\\\\\\\"selectedColumn\\\\\\\\\\\\\": \\\\\\\\\\\\\"V13\\\\\\\\\\\\\"}}, \\\\\\\\\\\\\"typeProperty\\\\\\\\\\\\\": 3}, {\\\\\\\\\\\\\"column\\\\\\\\\\\\\": {\\\\\\\\\\\\\"type\\\\\\\\\\\\\": 2, \\\\\\\\\\\\\"details\\\\\\\\\\\\\": {\\\\\\\\\\\\\"selectedColumn\\\\\\\\\\\\\": \\\\\\\\\\\\\"V14\\\\\\\\\\\\\"}}, \\\\\\\\\\\\\"typeProperty\\\\\\\\\\\\\": 3}, {\\\\\\\\\\\\\"column\\\\\\\\\\\\\": {\\\\\\\\\\\\\"type\\\\\\\\\\\\\": 2, \\\\\\\\\\\\\"details\\\\\\\\\\\\\": {\\\\\\\\\\\\\"selectedColumn\\\\\\\\\\\\\": \\\\\\\\\\\\\"V15\\\\\\\\\\\\\"}}, \\\\\\\\\\\\\"typeProperty\\\\\\\\\\\\\": 3}, {\\\\\\\\\\\\\"column\\\\\\\\\\\\\": {\\\\\\\\\\\\\"type\\\\\\\\\\\\\": 2, \\\\\\\\\\\\\"details\\\\\\\\\\\\\": {\\\\\\\\\\\\\"selectedColumn\\\\\\\\\\\\\": \\\\\\\\\\\\\"V16\\\\\\\\\\\\\"}}, \\\\\\\\\\\\\"typeProperty\\\\\\\\\\\\\": 3}, {\\\\\\\\\\\\\"column\\\\\\\\\\\\\": {\\\\\\\\\\\\\"type\\\\\\\\\\\\\": 2, \\\\\\\\\\\\\"details\\\\\\\\\\\\\": {\\\\\\\\\\\\\"selectedColumn\\\\\\\\\\\\\": \\\\\\\\\\\\\"V17\\\\\\\\\\\\\"}}, \\\\\\\\\\\\\"typeProperty\\\\\\\\\\\\\": 3}, {\\\\\\\\\\\\\"column\\\\\\\\\\\\\": {\\\\\\\\\\\\\"type\\\\\\\\\\\\\": 2, \\\\\\\\\\\\\"details\\\\\\\\\\\\\": {\\\\\\\\\\\\\"selectedColumn\\\\\\\\\\\\\": \\\\\\\\\\\\\"V18\\\\\\\\\\\\\"}}, \\\\\\\\\\\\\"typeProperty\\\\\\\\\\\\\": 3}, {\\\\\\\\\\\\\"column\\\\\\\\\\\\\": {\\\\\\\\\\\\\"type\\\\\\\\\\\\\": 2, \\\\\\\\\\\\\"details\\\\\\\\\\\\\": {\\\\\\\\\\\\\"selectedColumn\\\\\\\\\\\\\": \\\\\\\\\\\\\"V19\\\\\\\\\\\\\"}}, \\\\\\\\\\\\\"typeProperty\\\\\\\\\\\\\": 3}, {\\\\\\\\\\\\\"column\\\\\\\\\\\\\": {\\\\\\\\\\\\\"type\\\\\\\\\\\\\": 2, \\\\\\\\\\\\\"details\\\\\\\\\\\\\": {\\\\\\\\\\\\\"selectedColumn\\\\\\\\\\\\\": \\\\\\\\\\\\\"V20\\\\\\\\\\\\\"}}, \\\\\\\\\\\\\"typeProperty\\\\\\\\\\\\\": 3}, {\\\\\\\\\\\\\"column\\\\\\\\\\\\\": {\\\\\\\\\\\\\"type\\\\\\\\\\\\\": 2, \\\\\\\\\\\\\"details\\\\\\\\\\\\\": {\\\\\\\\\\\\\"selectedColumn\\\\\\\\\\\\\": \\\\\\\\\\\\\"V21\\\\\\\\\\\\\"}}, \\\\\\\\\\\\\"typeProperty\\\\\\\\\\\\\": 3}, {\\\\\\\\\\\\\"column\\\\\\\\\\\\\": {\\\\\\\\\\\\\"type\\\\\\\\\\\\\": 2, \\\\\\\\\\\\\"details\\\\\\\\\\\\\": {\\\\\\\\\\\\\"selectedColumn\\\\\\\\\\\\\": \\\\\\\\\\\\\"V22\\\\\\\\\\\\\"}}, \\\\\\\\\\\\\"typeProperty\\\\\\\\\\\\\": 3}, {\\\\\\\\\\\\\"column\\\\\\\\\\\\\": {\\\\\\\\\\\\\"type\\\\\\\\\\\\\": 2, \\\\\\\\\\\\\"details\\\\\\\\\\\\\": {\\\\\\\\\\\\\"selectedColumn\\\\\\\\\\\\\": \\\\\\\\\\\\\"V23\\\\\\\\\\\\\"}}, \\\\\\\\\\\\\"typeProperty\\\\\\\\\\\\\": 3}, {\\\\\\\\\\\\\"column\\\\\\\\\\\\\": {\\\\\\\\\\\\\"type\\\\\\\\\\\\\": 2, \\\\\\\\\\\\\"details\\\\\\\\\\\\\": {\\\\\\\\\\\\\"selectedColumn\\\\\\\\\\\\\": \\\\\\\\\\\\\"V24\\\\\\\\\\\\\"}}, \\\\\\\\\\\\\"typeProperty\\\\\\\\\\\\\": 3}, {\\\\\\\\\\\\\"column\\\\\\\\\\\\\": {\\\\\\\\\\\\\"type\\\\\\\\\\\\\": 2, \\\\\\\\\\\\\"details\\\\\\\\\\\\\": {\\\\\\\\\\\\\"selectedColumn\\\\\\\\\\\\\": \\\\\\\\\\\\\"V25\\\\\\\\\\\\\"}}, \\\\\\\\\\\\\"typeProperty\\\\\\\\\\\\\": 3}, {\\\\\\\\\\\\\"column\\\\\\\\\\\\\": {\\\\\\\\\\\\\"type\\\\\\\\\\\\\": 2, \\\\\\\\\\\\\"details\\\\\\\\\\\\\": {\\\\\\\\\\\\\"selectedColumn\\\\\\\\\\\\\": \\\\\\\\\\\\\"V26\\\\\\\\\\\\\"}}, \\\\\\\\\\\\\"typeProperty\\\\\\\\\\\\\": 3}, {\\\\\\\\\\\\\"column\\\\\\\\\\\\\": {\\\\\\\\\\\\\"type\\\\\\\\\\\\\": 2, \\\\\\\\\\\\\"details\\\\\\\\\\\\\": {\\\\\\\\\\\\\"selectedColumn\\\\\\\\\\\\\": \\\\\\\\\\\\\"V27\\\\\\\\\\\\\"}}, \\\\\\\\\\\\\"typeProperty\\\\\\\\\\\\\": 3}, {\\\\\\\\\\\\\"column\\\\\\\\\\\\\": {\\\\\\\\\\\\\"type\\\\\\\\\\\\\": 2, \\\\\\\\\\\\\"details\\\\\\\\\\\\\": {\\\\\\\\\\\\\"selectedColumn\\\\\\\\\\\\\": \\\\\\\\\\\\\"V28\\\\\\\\\\\\\"}}, \\\\\\\\\\\\\"typeProperty\\\\\\\\\\\\\": 3}, {\\\\\\\\\\\\\"column\\\\\\\\\\\\\": {\\\\\\\\\\\\\"type\\\\\\\\\\\\\": 2, \\\\\\\\\\\\\"details\\\\\\\\\\\\\": {\\\\\\\\\\\\\"selectedColumn\\\\\\\\\\\\\": \\\\\\\\\\\\\"Amount\\\\\\\\\\\\\"}}, \\\\\\\\\\\\\"typeProperty\\\\\\\\\\\\\": 3}, {\\\\\\\\\\\\\"column\\\\\\\\\\\\\": {\\\\\\\\\\\\\"type\\\\\\\\\\\\\": 2, \\\\\\\\\\\\\"details\\\\\\\\\\\\\": {\\\\\\\\\\\\\"selectedColumn\\\\\\\\\\\\\": \\\\\\\\\\\\\"Class\\\\\\\\\\\\\"}}, \\\\\\\\\\\\\"typeProperty\\\\\\\\\\\\\": 2}]}, \\\\\\\\\\\\\"localData\\\\\\\\\\\\\": {}, \\\\\\\\\\\\\"isEnabled\\\\\\\\\\\\\": true, \\\\\\\\\\\\\"name\\\\\\\\\\\\\": null, \\\\\\\\\\\\\"annotation\\\\\\\\\\\\\": null}], \\\\\\\\\\\\\"inspectors\\\\\\\\\\\\\": [], \\\\\\\\\\\\\"meta\\\\\\\\\\\\\": {\\\\\\\\\\\\\"savedDatasetId\\\\\\\\\\\\\": \\\\\\\\\\\\\"b50b19e3-1511-4a8a-bd6f-dbb3dba504f7\\\\\\\\\\\\\", \\\\\\\\\\\\\"datasetType\\\\\\\\\\\\\": \\\\\\\\\\\\\"tabular\\\\\\\\\\\\\", \\\\\\\\\\\\\"subscriptionId\\\\\\\\\\\\\": \\\\\\\\\\\\\"f5091c60-1c3c-430f-8d81-d802f6bf2414\\\\\\\\\\\\\", \\\\\\\\\\\\\"workspaceId\\\\\\\\\\\\\": \\\\\\\\\\\\\"ce36ea35-9dbe-4fd9-a210-c85d2772d366\\\\\\\\\\\\\", \\\\\\\\\\\\\"workspaceLocation\\\\\\\\\\\\\": \\\\\\\\\\\\\"southcentralus\\\\\\\\\\\\\"}}\\\\\", \\\\\"activities\\\\\": 0}',\n",
       "  'EnableSubsampling': None,\n",
       "  'runTemplate': 'AutoML',\n",
       "  'azureml.runsource': 'automl',\n",
       "  'display_task_type': 'classification',\n",
       "  'dependencies_versions': '{\"azureml-widgets\": \"1.20.0\", \"azureml-train\": \"1.20.0\", \"azureml-train-restclients-hyperdrive\": \"1.20.0\", \"azureml-train-core\": \"1.20.0\", \"azureml-train-automl\": \"1.20.0\", \"azureml-train-automl-runtime\": \"1.20.0\", \"azureml-train-automl-client\": \"1.20.0\", \"azureml-tensorboard\": \"1.20.0\", \"azureml-telemetry\": \"1.20.0\", \"azureml-sdk\": \"1.20.0\", \"azureml-samples\": \"0+unknown\", \"azureml-pipeline\": \"1.20.0\", \"azureml-pipeline-steps\": \"1.20.0\", \"azureml-pipeline-core\": \"1.20.0\", \"azureml-opendatasets\": \"1.20.0\", \"azureml-model-management-sdk\": \"1.0.1b6.post1\", \"azureml-mlflow\": \"1.20.0.post1\", \"azureml-interpret\": \"1.20.0\", \"azureml-explain-model\": \"1.20.0\", \"azureml-defaults\": \"1.20.0\", \"azureml-dataset-runtime\": \"1.20.0\", \"azureml-dataprep\": \"2.7.3\", \"azureml-dataprep-rslex\": \"1.5.0\", \"azureml-dataprep-native\": \"27.0.0\", \"azureml-datadrift\": \"1.20.0\", \"azureml-core\": \"1.20.0\", \"azureml-contrib-services\": \"1.20.0\", \"azureml-contrib-server\": \"1.20.0\", \"azureml-contrib-reinforcementlearning\": \"1.20.0\", \"azureml-contrib-pipeline-steps\": \"1.20.0\", \"azureml-contrib-notebook\": \"1.20.0\", \"azureml-contrib-interpret\": \"1.20.0\", \"azureml-contrib-gbdt\": \"1.20.0\", \"azureml-contrib-fairness\": \"1.20.0\", \"azureml-contrib-dataset\": \"1.20.0\", \"azureml-cli-common\": \"1.20.0\", \"azureml-automl-runtime\": \"1.20.0\", \"azureml-automl-core\": \"1.20.0\", \"azureml-accel-models\": \"1.20.0\"}',\n",
       "  '_aml_system_scenario_identification': 'Remote.Parent',\n",
       "  'ClientType': 'SDK',\n",
       "  'environment_cpu_name': 'AzureML-AutoML',\n",
       "  'environment_cpu_label': 'prod',\n",
       "  'environment_gpu_name': 'AzureML-AutoML-GPU',\n",
       "  'environment_gpu_label': 'prod',\n",
       "  'root_attribution': 'automl',\n",
       "  'attribution': 'AutoML',\n",
       "  'Orchestrator': 'AutoML',\n",
       "  'CancelUri': 'https://southcentralus.experiments.azureml.net/jasmine/v1.0/subscriptions/f5091c60-1c3c-430f-8d81-d802f6bf2414/resourceGroups/aml-quickstarts-136702/providers/Microsoft.MachineLearningServices/workspaces/quick-starts-ws-136702/experimentids/a215360a-145d-4185-b157-602121a39058/cancel/AutoML_8132042c-c606-4d2c-ae6a-f50d70b741ca',\n",
       "  'ClientSdkVersion': '1.20.0.post1',\n",
       "  'snapshotId': '00000000-0000-0000-0000-000000000000',\n",
       "  'SetupRunId': 'AutoML_8132042c-c606-4d2c-ae6a-f50d70b741ca_setup',\n",
       "  'SetupRunContainerId': 'dcid.AutoML_8132042c-c606-4d2c-ae6a-f50d70b741ca_setup',\n",
       "  'FeaturizationRunJsonPath': 'featurizer_container.json',\n",
       "  'FeaturizationRunId': 'AutoML_8132042c-c606-4d2c-ae6a-f50d70b741ca_featurize',\n",
       "  'ProblemInfoJsonString': '{\"dataset_num_categorical\": 0, \"is_sparse\": false, \"subsampling\": false, \"dataset_classes\": 2, \"dataset_features\": 30, \"dataset_samples\": 256326, \"single_frequency_class_detected\": false}',\n",
       "  'ModelExplainRunId': 'AutoML_8132042c-c606-4d2c-ae6a-f50d70b741ca_ModelExplain'},\n",
       " 'inputDatasets': [{'dataset': {'id': 'b50b19e3-1511-4a8a-bd6f-dbb3dba504f7'}, 'consumptionDetails': {'type': 'RunInput', 'inputName': 'training_data', 'mechanism': 'Direct'}}],\n",
       " 'outputDatasets': [],\n",
       " 'logFiles': {},\n",
       " 'submittedBy': 'ODL_User 136702'}"
      ]
     },
     "execution_count": 30,
     "metadata": {},
     "output_type": "execute_result"
    }
   ],
   "source": [
    "remote_run.wait_for_completion(show_output=True)"
   ]
  },
  {
   "cell_type": "markdown",
   "metadata": {},
   "source": [
    "## Best Model\n",
    "\n",
    "TODO: In the cell below, get the best model from the automl experiments and display all the properties of the model.\n",
    "\n"
   ]
  },
  {
   "cell_type": "code",
   "execution_count": 35,
   "metadata": {},
   "outputs": [
    {
     "data": {
      "text/plain": [
       "['./bestAutoMlModel.joblib']"
      ]
     },
     "execution_count": 35,
     "metadata": {},
     "output_type": "execute_result"
    }
   ],
   "source": [
    "# Retrieve and save your best automl model.\n",
    "import joblib\n",
    "\n",
    "best, model = remote_run.get_output()\n",
    "joblib.dump(model, './bestAutoMlModel.joblib')"
   ]
  },
  {
   "cell_type": "code",
   "execution_count": 37,
   "metadata": {},
   "outputs": [
    {
     "data": {
      "text/plain": [
       "[('datatransformer',\n",
       "  DataTransformer(enable_dnn=None, enable_feature_sweeping=None,\n",
       "                  feature_sweeping_config=None, feature_sweeping_timeout=None,\n",
       "                  featurization_config=None, force_text_dnn=None,\n",
       "                  is_cross_validation=None, is_onnx_compatible=None, logger=None,\n",
       "                  observer=None, task=None, working_dir=None)),\n",
       " ('prefittedsoftvotingclassifier',\n",
       "  PreFittedSoftVotingClassifier(classification_labels=None,\n",
       "                                estimators=[('4',\n",
       "                                             Pipeline(memory=None,\n",
       "                                                      steps=[('minmaxscaler',\n",
       "                                                              MinMaxScaler(copy=True,\n",
       "                                                                           feature_range=(0,\n",
       "                                                                                          1))),\n",
       "                                                             ('randomforestclassifier',\n",
       "                                                              RandomForestClassifier(bootstrap=True,\n",
       "                                                                                     ccp_alpha=0.0,\n",
       "                                                                                     class_weight='balanced',\n",
       "                                                                                     criterion='gini',\n",
       "                                                                                     max_depth=None,\n",
       "                                                                                     max_features='log2',\n",
       "                                                                                     max_leaf_nodes=None,\n",
       "                                                                                     max_samples=N...\n",
       "                                                                                   min_samples_split=0.15052631578947367,\n",
       "                                                                                   min_weight_fraction_leaf=0.0,\n",
       "                                                                                   n_estimators=50,\n",
       "                                                                                   n_jobs=1,\n",
       "                                                                                   oob_score=False,\n",
       "                                                                                   random_state=None,\n",
       "                                                                                   verbose=0,\n",
       "                                                                                   warm_start=False))],\n",
       "                                                      verbose=False))],\n",
       "                                flatten_transform=None,\n",
       "                                weights=[0.13333333333333333, 0.06666666666666667,\n",
       "                                         0.13333333333333333, 0.06666666666666667,\n",
       "                                         0.06666666666666667, 0.06666666666666667,\n",
       "                                         0.4, 0.06666666666666667]))]"
      ]
     },
     "execution_count": 37,
     "metadata": {},
     "output_type": "execute_result"
    }
   ],
   "source": [
    "model.steps"
   ]
  },
  {
   "cell_type": "markdown",
   "metadata": {},
   "source": [
    "## Model Deployment\n",
    "\n",
    "Remember you have to deploy only one of the two models you trained.. Perform the steps in the rest of this notebook only if you wish to deploy this model.\n",
    "\n",
    "TODO: In the cell below, register the model, create an inference config and deploy the model as a web service."
   ]
  },
  {
   "cell_type": "code",
   "execution_count": 39,
   "metadata": {
    "gather": {
     "logged": 1598431435189
    },
    "jupyter": {
     "outputs_hidden": false,
     "source_hidden": false
    },
    "nteract": {
     "transient": {
      "deleting": false
     }
    }
   },
   "outputs": [
    {
     "name": "stdout",
     "output_type": "stream",
     "text": [
      "AutoML8132042cc38\n"
     ]
    }
   ],
   "source": [
    "#We dont need to choose the best model because it chooses best model default metric\n",
    "model = remote_run.register_model(description = \"AutoML Credit Card Fraud detection Best Model\",\n",
    "                               tags={'area': 'banks'}) \n",
    "print(remote_run.model_id)"
   ]
  },
  {
   "cell_type": "code",
   "execution_count": 41,
   "metadata": {},
   "outputs": [
    {
     "data": {
      "text/plain": [
       "Model(workspace=Workspace.create(name='quick-starts-ws-136702', subscription_id='f5091c60-1c3c-430f-8d81-d802f6bf2414', resource_group='aml-quickstarts-136702'), name=AutoML8132042cc38, id=AutoML8132042cc38:1, version=1, tags={'area': 'banks'}, properties={})"
      ]
     },
     "execution_count": 41,
     "metadata": {},
     "output_type": "execute_result"
    }
   ],
   "source": [
    "model"
   ]
  },
  {
   "cell_type": "code",
   "execution_count": 55,
   "metadata": {},
   "outputs": [],
   "source": [
    "from azureml.core.model import InferenceConfig\n",
    "from azureml.core.environment import Environment\n",
    "\n",
    "env = best.get_environment()\n",
    "best.download_file('outputs/scoring_file_v_1_0_0.py', 'outputs/score.py')\n",
    "\n",
    "inference_config = InferenceConfig(entry_script='outputs/score.py', environment=env)"
   ]
  },
  {
   "cell_type": "code",
   "execution_count": 56,
   "metadata": {},
   "outputs": [
    {
     "name": "stdout",
     "output_type": "stream",
     "text": [
      "Tips: You can try get_logs(): https://aka.ms/debugimage#dockerlog or local deployment: https://aka.ms/debugimage#debug-locally to debug if deployment takes longer than 10 minutes.\n",
      "Running....................................................\n",
      "Succeeded\n",
      "ACI service creation operation finished, operation \"Succeeded\"\n"
     ]
    }
   ],
   "source": [
    "service_name = 'credit-card-fraud-service'\n",
    "\n",
    "service = Model.deploy(ws, service_name, [model], inference_config=inference_config, overwrite=True)\n",
    "service.wait_for_deployment(show_output=True)"
   ]
  },
  {
   "cell_type": "markdown",
   "metadata": {
    "collapsed": true,
    "gather": {
     "logged": 1598431657736
    },
    "jupyter": {
     "outputs_hidden": false,
     "source_hidden": false
    },
    "nteract": {
     "transient": {
      "deleting": false
     }
    }
   },
   "source": [
    "TODO: In the cell below, send a request to the web service you deployed to test it."
   ]
  },
  {
   "cell_type": "code",
   "execution_count": 59,
   "metadata": {
    "gather": {
     "logged": 1598432707604
    },
    "jupyter": {
     "outputs_hidden": false,
     "source_hidden": false
    },
    "nteract": {
     "transient": {
      "deleting": false
     }
    }
   },
   "outputs": [
    {
     "name": "stdout",
     "output_type": "stream",
     "text": [
      "Healthy\n",
      "http://ed736b8b-3d1c-4f60-9deb-cc0af10a0d47.southcentralus.azurecontainer.io/score\n"
     ]
    }
   ],
   "source": [
    "print(service.state)\n",
    "print(service.scoring_uri)"
   ]
  },
  {
   "cell_type": "code",
   "execution_count": 168,
   "metadata": {},
   "outputs": [
    {
     "name": "stdout",
     "output_type": "stream",
     "text": [
      "{\"data\": [{\"Time\": 55614.0, \"V1\": -7.34795494690262, \"V2\": 2.39704134824746, \"V3\": -7.57235581757844, \"V4\": 5.17781925521834, \"V5\": -2.85483828261718, \"V6\": -1.79523877381611, \"V7\": -8.78323473517424, \"V8\": 0.437156561210431, \"V9\": -3.74059750992972, \"V10\": -8.33286306292127, \"V11\": 5.76318940883843, \"V12\": -8.70787929219866, \"V13\": -1.71694948774786, \"V14\": -9.57719439289905, \"V15\": 0.146369002626258, \"V16\": -7.58649078643175, \"V17\": -12.5039309695675, \"V18\": -4.37563101237668, \"V19\": 2.46519487038601, \"V20\": 0.0731637913502985, \"V21\": -0.175273369741836, \"V22\": 0.543325051876651, \"V23\": -0.547955067054245, \"V24\": -0.503721690122004, \"V25\": -0.31093277648824, \"V26\": -0.16398601754964, \"V27\": 1.19789504657005, \"V28\": 0.378186688214491, \"Amount\": 0.83}, {\"Time\": 7543.0, \"V1\": 0.329594333318222, \"V2\": 3.71288929524103, \"V3\": -5.77593510831666, \"V4\": 6.07826550560828, \"V5\": 1.66735901311948, \"V6\": -2.42016841351562, \"V7\": -0.812891249491333, \"V8\": 0.133080117970748, \"V9\": -2.21431131204961, \"V10\": -5.13445447110633, \"V11\": 4.56072010550223, \"V12\": -8.87374836164535, \"V13\": -0.797483599628474, \"V14\": -9.17716637009146, \"V15\": -0.25702477514424, \"V16\": -0.871688490451564, \"V17\": 1.31301362907797, \"V18\": 0.773913872552923, \"V19\": -2.37059945059811, \"V20\": 0.269772775978284, \"V21\": 0.156617169389793, \"V22\": -0.652450440932299, \"V23\": -0.551572219392364, \"V24\": -0.716521635357197, \"V25\": 1.41571661508922, \"V26\": 0.555264739787582, \"V27\": 0.530507388890912, \"V28\": 0.404474054528712, \"Amount\": 1.0}, {\"Time\": 76619.0, \"V1\": -0.871046413854165, \"V2\": -0.193232088982232, \"V3\": 1.46996632188041, \"V4\": -2.2029090242723, \"V5\": -1.18499421009306, \"V6\": -1.33454194523947, \"V7\": -0.486866908316296, \"V8\": 0.200785192630098, \"V9\": -2.75283704433971, \"V10\": 0.499718939938919, \"V11\": -0.43055663080444, \"V12\": -0.437510708227428, \"V13\": 1.25791636595053, \"V14\": -0.263676342006215, \"V15\": -0.188195260368401, \"V16\": -0.285154576435094, \"V17\": 0.528044219289016, \"V18\": -0.100832113579454, \"V19\": -0.853942754023247, \"V20\": -0.301462350434465, \"V21\": -0.0258678985896584, \"V22\": 0.0388782959162173, \"V23\": -0.0532883269369357, \"V24\": 0.714038114910825, \"V25\": 0.0228162679069772, \"V26\": -0.37313461835403, \"V27\": -0.0181693876854396, \"V28\": 0.00188057560296041, \"Amount\": 20.14}, {\"Time\": 60929.0, \"V1\": -6.41953297665632, \"V2\": 5.25915878182738, \"V3\": -1.46719223380189, \"V4\": -1.26149265084817, \"V5\": -1.21988663178982, \"V6\": -1.30853700842652, \"V7\": 0.779177165045246, \"V8\": 0.0829086063741227, \"V9\": 4.53444914932831, \"V10\": 7.48004660722559, \"V11\": 0.511741197500917, \"V12\": 0.251245007273254, \"V13\": 0.494559090791125, \"V14\": -2.50971553852581, \"V15\": 1.32023386967297, \"V16\": -0.222400217141522, \"V17\": -0.359670061001193, \"V18\": -0.629576822615236, \"V19\": -0.792600508364959, \"V20\": 3.1426125158614, \"V21\": -1.23413787270644, \"V22\": -1.06397880742573, \"V23\": 0.169096875108883, \"V24\": 0.255766095467131, \"V25\": 1.02445509780833, \"V26\": 0.0165813588390712, \"V27\": 1.34401130884563, \"V28\": 0.296097846421926, \"Amount\": 17.99}, {\"Time\": 167155.0, \"V1\": -1.11337931226873, \"V2\": 0.315024742648484, \"V3\": 2.44297388348687, \"V4\": -0.801658039093963, \"V5\": -0.415098189956596, \"V6\": -0.176392729997018, \"V7\": 0.179606906247579, \"V8\": 0.236298961392772, \"V9\": 0.643547059717199, \"V10\": -1.03301899247575, \"V11\": -1.40545771031985, \"V12\": -0.944007828449354, \"V13\": -1.71126313550157, \"V14\": -0.199490356078857, \"V15\": 0.166594515137683, \"V16\": 0.726935132505273, \"V17\": -0.657074375632575, \"V18\": 0.219620293560115, \"V19\": -0.913676518711605, \"V20\": -0.245795466748177, \"V21\": 0.00479442834928402, \"V22\": -0.0653812974947897, \"V23\": -0.213524389913278, \"V24\": -0.051355026376013, \"V25\": 0.291942224235078, \"V26\": 0.213771183617846, \"V27\": -0.110906318761835, \"V28\": 0.0646611981032323, \"Amount\": 37.0}]}\n"
     ]
    }
   ],
   "source": [
    "test_fraud = df[df.Class==1].sample(2)\n",
    "test_non_fraud = df.sample(3)\n",
    "test = pd.concat([test_fraud,test_non_fraud])\n",
    "actual = test.Class\n",
    "del test[\"Class\"]\n",
    "test_json = json.dumps({\"data\":test.to_dict(orient=\"records\")})\n",
    "print(test_json)"
   ]
  },
  {
   "cell_type": "code",
   "execution_count": 170,
   "metadata": {},
   "outputs": [
    {
     "name": "stdout",
     "output_type": "stream",
     "text": [
      "Predicted Values {\"result\": [1, 1, 0, 0, 0]}\n",
      "Actual Values [1, 1, 0, 0, 0]\n"
     ]
    }
   ],
   "source": [
    "print(\"Predicted Values\", service.run(test_json))\n",
    "print(\"Actual Values\", actual.to_list())"
   ]
  },
  {
   "cell_type": "markdown",
   "metadata": {
    "collapsed": true,
    "gather": {
     "logged": 1598432765711
    },
    "jupyter": {
     "outputs_hidden": false,
     "source_hidden": false
    },
    "nteract": {
     "transient": {
      "deleting": false
     }
    }
   },
   "source": [
    "TODO: In the cell below, print the logs of the web service and delete the service"
   ]
  },
  {
   "cell_type": "code",
   "execution_count": 171,
   "metadata": {
    "jupyter": {
     "outputs_hidden": false,
     "source_hidden": false
    },
    "nteract": {
     "transient": {
      "deleting": false
     }
    }
   },
   "outputs": [
    {
     "data": {
      "text/plain": [
       "'2021-01-31T12:28:42,899001050+00:00 - iot-server/run \\n2021-01-31T12:28:43,062915686+00:00 - nginx/run \\n/usr/sbin/nginx: /azureml-envs/azureml_265db83b0c6014ce472c5de2f0b97e04/lib/libcrypto.so.1.0.0: no version information available (required by /usr/sbin/nginx)\\n/usr/sbin/nginx: /azureml-envs/azureml_265db83b0c6014ce472c5de2f0b97e04/lib/libcrypto.so.1.0.0: no version information available (required by /usr/sbin/nginx)\\n/usr/sbin/nginx: /azureml-envs/azureml_265db83b0c6014ce472c5de2f0b97e04/lib/libssl.so.1.0.0: no version information available (required by /usr/sbin/nginx)\\n/usr/sbin/nginx: /azureml-envs/azureml_265db83b0c6014ce472c5de2f0b97e04/lib/libssl.so.1.0.0: no version information available (required by /usr/sbin/nginx)\\n/usr/sbin/nginx: /azureml-envs/azureml_265db83b0c6014ce472c5de2f0b97e04/lib/libssl.so.1.0.0: no version information available (required by /usr/sbin/nginx)\\n2021-01-31T12:28:43,162434022+00:00 - gunicorn/run \\n2021-01-31T12:28:43,161657413+00:00 - rsyslog/run \\nrsyslogd: /azureml-envs/azureml_265db83b0c6014ce472c5de2f0b97e04/lib/libuuid.so.1: no version information available (required by rsyslogd)\\nEdgeHubConnectionString and IOTEDGE_IOTHUBHOSTNAME are not set. Exiting...\\n2021-01-31T12:28:45,463925711+00:00 - iot-server/finish 1 0\\n2021-01-31T12:28:45,465348729+00:00 - Exit code 1 is normal. Not restarting iot-server.\\nStarting gunicorn 19.9.0\\nListening at: http://127.0.0.1:31311 (19)\\nUsing worker: sync\\nworker timeout is set to 300\\nBooting worker with pid: 46\\nSPARK_HOME not set. Skipping PySpark Initialization.\\nGenerating new fontManager, this may take some time...\\nInitializing logger\\n2021-01-31 12:29:01,461 | root | INFO | Starting up app insights client\\n2021-01-31 12:29:01,462 | root | INFO | Starting up request id generator\\n2021-01-31 12:29:01,462 | root | INFO | Starting up app insight hooks\\n2021-01-31 12:29:01,462 | root | INFO | Invoking user\\'s init function\\n2021-01-31 12:29:29,363 | azureml.core | WARNING | Failure while loading azureml_run_type_providers. Failed to load entrypoint automl = azureml.train.automl.run:AutoMLRun._from_run_dto with exception cannot import name \\'RunType\\'.\\nFailure while loading azureml_run_type_providers. Failed to load entrypoint automl = azureml.train.automl.run:AutoMLRun._from_run_dto with exception cannot import name \\'RunType\\'.\\n2021-01-31 12:29:31,161 | root | INFO | Users\\'s init has completed successfully\\n2021-01-31 12:29:31,265 | root | INFO | Skipping middleware: dbg_model_info as it\\'s not enabled.\\n2021-01-31 12:29:31,265 | root | INFO | Skipping middleware: dbg_resource_usage as it\\'s not enabled.\\n2021-01-31 12:29:31,361 | root | INFO | Scoring timeout is found from os.environ: 60000 ms\\n2021-01-31 12:29:31,461 | root | INFO | 200\\n127.0.0.1 - - [31/Jan/2021:12:29:31 +0000] \"GET /swagger.json HTTP/1.0\" 200 3746 \"-\" \"Go-http-client/1.1\"\\n2021-01-31 12:29:34,306 | root | INFO | 200\\n127.0.0.1 - - [31/Jan/2021:12:29:34 +0000] \"GET /swagger.json HTTP/1.0\" 200 3746 \"-\" \"Go-http-client/1.1\"\\n2021-01-31 12:38:46,651 | root | INFO | Validation Request Content-Type\\n2021-01-31 12:38:46,654 | root | ERROR | Encountered Exception: Traceback (most recent call last):\\n  File \"/azureml-envs/azureml_265db83b0c6014ce472c5de2f0b97e04/lib/python3.6/site-packages/flask/wrappers.py\", line 74, in get_json\\n    rv = json.loads(data)\\n  File \"/azureml-envs/azureml_265db83b0c6014ce472c5de2f0b97e04/lib/python3.6/site-packages/flask/json/__init__.py\", line 236, in loads\\n    return _json.loads(s, **kwargs)\\n  File \"/azureml-envs/azureml_265db83b0c6014ce472c5de2f0b97e04/lib/python3.6/json/__init__.py\", line 367, in loads\\n    return cls(**kw).decode(s)\\n  File \"/azureml-envs/azureml_265db83b0c6014ce472c5de2f0b97e04/lib/python3.6/json/decoder.py\", line 339, in decode\\n    obj, end = self.raw_decode(s, idx=_w(s, 0).end())\\n  File \"/azureml-envs/azureml_265db83b0c6014ce472c5de2f0b97e04/lib/python3.6/json/decoder.py\", line 357, in raw_decode\\n    raise JSONDecodeError(\"Expecting value\", s, err.value) from None\\njson.decoder.JSONDecodeError: Expecting value: line 1 column 1 (char 0)\\n\\nDuring handling of the above exception, another exception occurred:\\n\\nTraceback (most recent call last):\\n  File \"/azureml-envs/azureml_265db83b0c6014ce472c5de2f0b97e04/lib/python3.6/site-packages/flask/app.py\", line 1832, in full_dispatch_request\\n    rv = self.dispatch_request()\\n  File \"/azureml-envs/azureml_265db83b0c6014ce472c5de2f0b97e04/lib/python3.6/site-packages/flask/app.py\", line 1818, in dispatch_request\\n    return self.view_functions[rule.endpoint](**req.view_args)\\n  File \"/var/azureml-server/synchronous/routes.py\", line 37, in score_realtime\\n    service_input = request.get_json()\\n  File \"/azureml-envs/azureml_265db83b0c6014ce472c5de2f0b97e04/lib/python3.6/site-packages/flask/wrappers.py\", line 82, in get_json\\n    rv = self.on_json_loading_failed(e)\\n  File \"/azureml-envs/azureml_265db83b0c6014ce472c5de2f0b97e04/lib/python3.6/site-packages/flask/wrappers.py\", line 108, in on_json_loading_failed\\n    raise BadRequest()\\nwerkzeug.exceptions.BadRequest: 400 Bad Request: The browser (or proxy) sent a request that this server could not understand.\\n\\n2021-01-31 12:38:46,654 | root | INFO | 500\\n127.0.0.1 - - [31/Jan/2021:12:38:46 +0000] \"POST /score HTTP/1.0\" 500 2067 \"-\" \"python-requests/2.25.1\"\\n2021-01-31 12:38:46,660 | root | INFO | Validation Request Content-Type\\n2021-01-31 12:38:46,660 | root | ERROR | Encountered Exception: Traceback (most recent call last):\\n  File \"/azureml-envs/azureml_265db83b0c6014ce472c5de2f0b97e04/lib/python3.6/site-packages/flask/wrappers.py\", line 74, in get_json\\n    rv = json.loads(data)\\n  File \"/azureml-envs/azureml_265db83b0c6014ce472c5de2f0b97e04/lib/python3.6/site-packages/flask/json/__init__.py\", line 236, in loads\\n    return _json.loads(s, **kwargs)\\n  File \"/azureml-envs/azureml_265db83b0c6014ce472c5de2f0b97e04/lib/python3.6/json/__init__.py\", line 367, in loads\\n    return cls(**kw).decode(s)\\n  File \"/azureml-envs/azureml_265db83b0c6014ce472c5de2f0b97e04/lib/python3.6/json/decoder.py\", line 339, in decode\\n    obj, end = self.raw_decode(s, idx=_w(s, 0).end())\\n  File \"/azureml-envs/azureml_265db83b0c6014ce472c5de2f0b97e04/lib/python3.6/json/decoder.py\", line 357, in raw_decode\\n    raise JSONDecodeError(\"Expecting value\", s, err.value) from None\\njson.decoder.JSONDecodeError: Expecting value: line 1 column 1 (char 0)\\n\\nDuring handling of the above exception, another exception occurred:\\n\\nTraceback (most recent call last):\\n  File \"/azureml-envs/azureml_265db83b0c6014ce472c5de2f0b97e04/lib/python3.6/site-packages/flask/app.py\", line 1832, in full_dispatch_request\\n    rv = self.dispatch_request()\\n  File \"/azureml-envs/azureml_265db83b0c6014ce472c5de2f0b97e04/lib/python3.6/site-packages/flask/app.py\", line 1818, in dispatch_request\\n    return self.view_functions[rule.endpoint](**req.view_args)\\n  File \"/var/azureml-server/synchronous/routes.py\", line 37, in score_realtime\\n    service_input = request.get_json()\\n  File \"/azureml-envs/azureml_265db83b0c6014ce472c5de2f0b97e04/lib/python3.6/site-packages/flask/wrappers.py\", line 82, in get_json\\n    rv = self.on_json_loading_failed(e)\\n  File \"/azureml-envs/azureml_265db83b0c6014ce472c5de2f0b97e04/lib/python3.6/site-packages/flask/wrappers.py\", line 108, in on_json_loading_failed\\n    raise BadRequest()\\nwerkzeug.exceptions.BadRequest: 400 Bad Request: The browser (or proxy) sent a request that this server could not understand.\\n\\n2021-01-31 12:38:46,660 | root | INFO | 500\\n127.0.0.1 - - [31/Jan/2021:12:38:46 +0000] \"POST /score HTTP/1.0\" 500 2067 \"-\" \"python-requests/2.25.1\"\\n2021-01-31 12:38:47,668 | root | INFO | Validation Request Content-Type\\n2021-01-31 12:38:47,669 | root | ERROR | Encountered Exception: Traceback (most recent call last):\\n  File \"/azureml-envs/azureml_265db83b0c6014ce472c5de2f0b97e04/lib/python3.6/site-packages/flask/wrappers.py\", line 74, in get_json\\n    rv = json.loads(data)\\n  File \"/azureml-envs/azureml_265db83b0c6014ce472c5de2f0b97e04/lib/python3.6/site-packages/flask/json/__init__.py\", line 236, in loads\\n    return _json.loads(s, **kwargs)\\n  File \"/azureml-envs/azureml_265db83b0c6014ce472c5de2f0b97e04/lib/python3.6/json/__init__.py\", line 367, in loads\\n    return cls(**kw).decode(s)\\n  File \"/azureml-envs/azureml_265db83b0c6014ce472c5de2f0b97e04/lib/python3.6/json/decoder.py\", line 339, in decode\\n    obj, end = self.raw_decode(s, idx=_w(s, 0).end())\\n  File \"/azureml-envs/azureml_265db83b0c6014ce472c5de2f0b97e04/lib/python3.6/json/decoder.py\", line 357, in raw_decode\\n    raise JSONDecodeError(\"Expecting value\", s, err.value) from None\\njson.decoder.JSONDecodeError: Expecting value: line 1 column 1 (char 0)\\n\\nDuring handling of the above exception, another exception occurred:\\n\\nTraceback (most recent call last):\\n  File \"/azureml-envs/azureml_265db83b0c6014ce472c5de2f0b97e04/lib/python3.6/site-packages/flask/app.py\", line 1832, in full_dispatch_request\\n    rv = self.dispatch_request()\\n  File \"/azureml-envs/azureml_265db83b0c6014ce472c5de2f0b97e04/lib/python3.6/site-packages/flask/app.py\", line 1818, in dispatch_request\\n    return self.view_functions[rule.endpoint](**req.view_args)\\n  File \"/var/azureml-server/synchronous/routes.py\", line 37, in score_realtime\\n    service_input = request.get_json()\\n  File \"/azureml-envs/azureml_265db83b0c6014ce472c5de2f0b97e04/lib/python3.6/site-packages/flask/wrappers.py\", line 82, in get_json\\n    rv = self.on_json_loading_failed(e)\\n  File \"/azureml-envs/azureml_265db83b0c6014ce472c5de2f0b97e04/lib/python3.6/site-packages/flask/wrappers.py\", line 108, in on_json_loading_failed\\n    raise BadRequest()\\nwerkzeug.exceptions.BadRequest: 400 Bad Request: The browser (or proxy) sent a request that this server could not understand.\\n\\n2021-01-31 12:38:47,669 | root | INFO | 500\\n127.0.0.1 - - [31/Jan/2021:12:38:47 +0000] \"POST /score HTTP/1.0\" 500 2067 \"-\" \"python-requests/2.25.1\"\\n2021-01-31 12:38:49,681 | root | INFO | Validation Request Content-Type\\n2021-01-31 12:38:49,682 | root | ERROR | Encountered Exception: Traceback (most recent call last):\\n  File \"/azureml-envs/azureml_265db83b0c6014ce472c5de2f0b97e04/lib/python3.6/site-packages/flask/wrappers.py\", line 74, in get_json\\n    rv = json.loads(data)\\n  File \"/azureml-envs/azureml_265db83b0c6014ce472c5de2f0b97e04/lib/python3.6/site-packages/flask/json/__init__.py\", line 236, in loads\\n    return _json.loads(s, **kwargs)\\n  File \"/azureml-envs/azureml_265db83b0c6014ce472c5de2f0b97e04/lib/python3.6/json/__init__.py\", line 367, in loads\\n    return cls(**kw).decode(s)\\n  File \"/azureml-envs/azureml_265db83b0c6014ce472c5de2f0b97e04/lib/python3.6/json/decoder.py\", line 339, in decode\\n    obj, end = self.raw_decode(s, idx=_w(s, 0).end())\\n  File \"/azureml-envs/azureml_265db83b0c6014ce472c5de2f0b97e04/lib/python3.6/json/decoder.py\", line 357, in raw_decode\\n    raise JSONDecodeError(\"Expecting value\", s, err.value) from None\\njson.decoder.JSONDecodeError: Expecting value: line 1 column 1 (char 0)\\n\\nDuring handling of the above exception, another exception occurred:\\n\\nTraceback (most recent call last):\\n  File \"/azureml-envs/azureml_265db83b0c6014ce472c5de2f0b97e04/lib/python3.6/site-packages/flask/app.py\", line 1832, in full_dispatch_request\\n    rv = self.dispatch_request()\\n  File \"/azureml-envs/azureml_265db83b0c6014ce472c5de2f0b97e04/lib/python3.6/site-packages/flask/app.py\", line 1818, in dispatch_request\\n    return self.view_functions[rule.endpoint](**req.view_args)\\n  File \"/var/azureml-server/synchronous/routes.py\", line 37, in score_realtime\\n    service_input = request.get_json()\\n  File \"/azureml-envs/azureml_265db83b0c6014ce472c5de2f0b97e04/lib/python3.6/site-packages/flask/wrappers.py\", line 82, in get_json\\n    rv = self.on_json_loading_failed(e)\\n  File \"/azureml-envs/azureml_265db83b0c6014ce472c5de2f0b97e04/lib/python3.6/site-packages/flask/wrappers.py\", line 108, in on_json_loading_failed\\n    raise BadRequest()\\nwerkzeug.exceptions.BadRequest: 400 Bad Request: The browser (or proxy) sent a request that this server could not understand.\\n\\n2021-01-31 12:38:49,682 | root | INFO | 500\\n127.0.0.1 - - [31/Jan/2021:12:38:49 +0000] \"POST /score HTTP/1.0\" 500 2067 \"-\" \"python-requests/2.25.1\"\\n2021-01-31 12:48:51,887 | root | INFO | Validation Request Content-Type\\n2021-01-31 12:48:51,888 | root | INFO | Scoring Timer is set to 60.0 seconds\\n2021-01-31 12:48:54,763 | root | INFO | 200\\n127.0.0.1 - - [31/Jan/2021:12:48:54 +0000] \"POST /score HTTP/1.0\" 200 31 \"-\" \"python-requests/2.25.1\"\\n2021-01-31 12:49:03,860 | root | INFO | Validation Request Content-Type\\n2021-01-31 12:49:03,861 | root | INFO | Scoring Timer is set to 60.0 seconds\\n2021-01-31 12:49:06,162 | root | INFO | 200\\n127.0.0.1 - - [31/Jan/2021:12:49:06 +0000] \"POST /score HTTP/1.0\" 200 31 \"-\" \"python-requests/2.25.1\"\\n2021-01-31 12:49:09,040 | root | INFO | Validation Request Content-Type\\n2021-01-31 12:49:09,041 | root | INFO | Scoring Timer is set to 60.0 seconds\\n2021-01-31 12:49:11,565 | root | INFO | 200\\n127.0.0.1 - - [31/Jan/2021:12:49:11 +0000] \"POST /score HTTP/1.0\" 200 31 \"-\" \"python-requests/2.25.1\"\\n2021-01-31 12:49:12,724 | root | INFO | Validation Request Content-Type\\n2021-01-31 12:49:12,725 | root | INFO | Scoring Timer is set to 60.0 seconds\\n2021-01-31 12:49:15,664 | root | INFO | 200\\n127.0.0.1 - - [31/Jan/2021:12:49:15 +0000] \"POST /score HTTP/1.0\" 200 31 \"-\" \"python-requests/2.25.1\"\\n2021-01-31 12:49:16,630 | root | INFO | Validation Request Content-Type\\n2021-01-31 12:49:16,661 | root | INFO | Scoring Timer is set to 60.0 seconds\\n2021-01-31 12:49:19,262 | root | INFO | 200\\n127.0.0.1 - - [31/Jan/2021:12:49:19 +0000] \"POST /score HTTP/1.0\" 200 31 \"-\" \"python-requests/2.25.1\"\\n2021-01-31 12:49:20,209 | root | INFO | Validation Request Content-Type\\n2021-01-31 12:49:20,209 | root | INFO | Scoring Timer is set to 60.0 seconds\\n2021-01-31 12:49:22,865 | root | INFO | 200\\n127.0.0.1 - - [31/Jan/2021:12:49:22 +0000] \"POST /score HTTP/1.0\" 200 31 \"-\" \"python-requests/2.25.1\"\\n2021-01-31 12:49:24,648 | root | INFO | Validation Request Content-Type\\n2021-01-31 12:49:24,649 | root | INFO | Scoring Timer is set to 60.0 seconds\\n2021-01-31 12:49:27,662 | root | INFO | 200\\n127.0.0.1 - - [31/Jan/2021:12:49:27 +0000] \"POST /score HTTP/1.0\" 200 31 \"-\" \"python-requests/2.25.1\"\\n2021-01-31 12:49:29,277 | root | INFO | Validation Request Content-Type\\n2021-01-31 12:49:29,277 | root | INFO | Scoring Timer is set to 60.0 seconds\\n2021-01-31 12:49:32,067 | root | INFO | 200\\n127.0.0.1 - - [31/Jan/2021:12:49:32 +0000] \"POST /score HTTP/1.0\" 200 31 \"-\" \"python-requests/2.25.1\"\\n2021-01-31 12:49:33,291 | root | INFO | Validation Request Content-Type\\n2021-01-31 12:49:33,292 | root | INFO | Scoring Timer is set to 60.0 seconds\\n2021-01-31 12:49:36,261 | root | INFO | 200\\n127.0.0.1 - - [31/Jan/2021:12:49:36 +0000] \"POST /score HTTP/1.0\" 200 31 \"-\" \"python-requests/2.25.1\"\\n2021-01-31 12:49:37,264 | root | INFO | Validation Request Content-Type\\n2021-01-31 12:49:37,265 | root | INFO | Scoring Timer is set to 60.0 seconds\\n2021-01-31 12:49:40,064 | root | INFO | 200\\n127.0.0.1 - - [31/Jan/2021:12:49:40 +0000] \"POST /score HTTP/1.0\" 200 31 \"-\" \"python-requests/2.25.1\"\\n2021-01-31 12:49:41,187 | root | INFO | Validation Request Content-Type\\n2021-01-31 12:49:41,187 | root | INFO | Scoring Timer is set to 60.0 seconds\\n2021-01-31 12:49:43,660 | root | INFO | 200\\n127.0.0.1 - - [31/Jan/2021:12:49:43 +0000] \"POST /score HTTP/1.0\" 200 31 \"-\" \"python-requests/2.25.1\"\\n2021-01-31 12:49:45,310 | root | INFO | Validation Request Content-Type\\n2021-01-31 12:49:45,311 | root | INFO | Scoring Timer is set to 60.0 seconds\\n2021-01-31 12:49:48,366 | root | INFO | 200\\n127.0.0.1 - - [31/Jan/2021:12:49:48 +0000] \"POST /score HTTP/1.0\" 200 31 \"-\" \"python-requests/2.25.1\"\\n2021-01-31 12:49:49,890 | root | INFO | Validation Request Content-Type\\n2021-01-31 12:49:49,891 | root | INFO | Scoring Timer is set to 60.0 seconds\\n2021-01-31 12:49:52,766 | root | INFO | 200\\n127.0.0.1 - - [31/Jan/2021:12:49:52 +0000] \"POST /score HTTP/1.0\" 200 31 \"-\" \"python-requests/2.25.1\"\\n2021-01-31 12:49:54,933 | root | INFO | Validation Request Content-Type\\n2021-01-31 12:49:54,934 | root | INFO | Scoring Timer is set to 60.0 seconds\\n2021-01-31 12:49:57,462 | root | INFO | 200\\n127.0.0.1 - - [31/Jan/2021:12:49:57 +0000] \"POST /score HTTP/1.0\" 200 31 \"-\" \"python-requests/2.25.1\"\\n2021-01-31 12:50:10,018 | root | INFO | Validation Request Content-Type\\n2021-01-31 12:50:10,019 | root | INFO | Scoring Timer is set to 60.0 seconds\\n2021-01-31 12:50:12,861 | root | INFO | 200\\n127.0.0.1 - - [31/Jan/2021:12:50:12 +0000] \"POST /score HTTP/1.0\" 200 31 \"-\" \"python-requests/2.25.1\"\\n2021-01-31 12:54:13,840 | root | INFO | Validation Request Content-Type\\n2021-01-31 12:54:13,841 | root | INFO | Scoring Timer is set to 60.0 seconds\\n2021-01-31 12:54:17,060 | root | INFO | 200\\n127.0.0.1 - - [31/Jan/2021:12:54:17 +0000] \"POST /score HTTP/1.0\" 200 31 \"-\" \"python-requests/2.25.1\"\\n2021-01-31 12:55:17,925 | root | INFO | Validation Request Content-Type\\n2021-01-31 12:55:17,925 | root | INFO | Scoring Timer is set to 60.0 seconds\\n2021-01-31 12:55:21,064 | root | INFO | 200\\n127.0.0.1 - - [31/Jan/2021:12:55:21 +0000] \"POST /score HTTP/1.0\" 200 31 \"-\" \"python-requests/2.25.1\"\\n2021-01-31 12:55:33,380 | root | INFO | Validation Request Content-Type\\n2021-01-31 12:55:33,381 | root | INFO | Scoring Timer is set to 60.0 seconds\\n2021-01-31 12:55:36,761 | root | INFO | 200\\n127.0.0.1 - - [31/Jan/2021:12:55:36 +0000] \"POST /score HTTP/1.0\" 200 31 \"-\" \"python-requests/2.25.1\"\\n'"
      ]
     },
     "execution_count": 171,
     "metadata": {},
     "output_type": "execute_result"
    }
   ],
   "source": [
    "service.get_logs()"
   ]
  },
  {
   "cell_type": "code",
   "execution_count": 172,
   "metadata": {},
   "outputs": [],
   "source": [
    "service.delete()"
   ]
  },
  {
   "cell_type": "code",
   "execution_count": null,
   "metadata": {},
   "outputs": [],
   "source": []
  }
 ],
 "metadata": {
  "kernel_info": {
   "name": "python3"
  },
  "kernelspec": {
   "display_name": "Python 3",
   "language": "python",
   "name": "python3"
  },
  "language_info": {
   "codemirror_mode": {
    "name": "ipython",
    "version": 3
   },
   "file_extension": ".py",
   "mimetype": "text/x-python",
   "name": "python",
   "nbconvert_exporter": "python",
   "pygments_lexer": "ipython3",
   "version": "3.6.9"
  },
  "nteract": {
   "version": "nteract-front-end@1.0.0"
  }
 },
 "nbformat": 4,
 "nbformat_minor": 2
}
